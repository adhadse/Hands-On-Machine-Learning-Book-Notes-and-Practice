{
  "nbformat": 4,
  "nbformat_minor": 0,
  "metadata": {
    "colab": {
      "name": "Ch 16 Natural Language Processing with RNNs and Attention",
      "provenance": [],
      "authorship_tag": "ABX9TyPvkhGFoixq9yIL9A+zo12a",
      "include_colab_link": true
    },
    "kernelspec": {
      "name": "python3",
      "display_name": "Python 3"
    },
    "language_info": {
      "name": "python"
    },
    "widgets": {
      "application/vnd.jupyter.widget-state+json": {
        "4e71d5964ad8439783292a4be7a2c392": {
          "model_module": "@jupyter-widgets/controls",
          "model_name": "HBoxModel",
          "state": {
            "_view_name": "HBoxView",
            "_dom_classes": [],
            "_model_name": "HBoxModel",
            "_view_module": "@jupyter-widgets/controls",
            "_model_module_version": "1.5.0",
            "_view_count": null,
            "_view_module_version": "1.5.0",
            "box_style": "",
            "layout": "IPY_MODEL_62f622f4eba9440589f2ea112bf31153",
            "_model_module": "@jupyter-widgets/controls",
            "children": [
              "IPY_MODEL_b0fde53b77e6414289143aff0e73c63d",
              "IPY_MODEL_d74fd22c106f49cc8f633f310655ea87"
            ]
          }
        },
        "62f622f4eba9440589f2ea112bf31153": {
          "model_module": "@jupyter-widgets/base",
          "model_name": "LayoutModel",
          "state": {
            "_view_name": "LayoutView",
            "grid_template_rows": null,
            "right": null,
            "justify_content": null,
            "_view_module": "@jupyter-widgets/base",
            "overflow": null,
            "_model_module_version": "1.2.0",
            "_view_count": null,
            "flex_flow": null,
            "width": null,
            "min_width": null,
            "border": null,
            "align_items": null,
            "bottom": null,
            "_model_module": "@jupyter-widgets/base",
            "top": null,
            "grid_column": null,
            "overflow_y": null,
            "overflow_x": null,
            "grid_auto_flow": null,
            "grid_area": null,
            "grid_template_columns": null,
            "flex": null,
            "_model_name": "LayoutModel",
            "justify_items": null,
            "grid_row": null,
            "max_height": null,
            "align_content": null,
            "visibility": null,
            "align_self": null,
            "height": null,
            "min_height": null,
            "padding": null,
            "grid_auto_rows": null,
            "grid_gap": null,
            "max_width": null,
            "order": null,
            "_view_module_version": "1.2.0",
            "grid_template_areas": null,
            "object_position": null,
            "object_fit": null,
            "grid_auto_columns": null,
            "margin": null,
            "display": null,
            "left": null
          }
        },
        "b0fde53b77e6414289143aff0e73c63d": {
          "model_module": "@jupyter-widgets/controls",
          "model_name": "FloatProgressModel",
          "state": {
            "_view_name": "ProgressView",
            "style": "IPY_MODEL_635e706ff9254fe2b2b3fa78729cffca",
            "_dom_classes": [],
            "description": "Dl Completed...: 100%",
            "_model_name": "FloatProgressModel",
            "bar_style": "success",
            "max": 1,
            "_view_module": "@jupyter-widgets/controls",
            "_model_module_version": "1.5.0",
            "value": 1,
            "_view_count": null,
            "_view_module_version": "1.5.0",
            "orientation": "horizontal",
            "min": 0,
            "description_tooltip": null,
            "_model_module": "@jupyter-widgets/controls",
            "layout": "IPY_MODEL_ca77010003ed4572afb4f45c8fb8f2a3"
          }
        },
        "d74fd22c106f49cc8f633f310655ea87": {
          "model_module": "@jupyter-widgets/controls",
          "model_name": "HTMLModel",
          "state": {
            "_view_name": "HTMLView",
            "style": "IPY_MODEL_fa5d9b53a8714e5398800b57ed7962a2",
            "_dom_classes": [],
            "description": "",
            "_model_name": "HTMLModel",
            "placeholder": "​",
            "_view_module": "@jupyter-widgets/controls",
            "_model_module_version": "1.5.0",
            "value": " 1/1 [00:02&lt;00:00,  2.01s/ url]",
            "_view_count": null,
            "_view_module_version": "1.5.0",
            "description_tooltip": null,
            "_model_module": "@jupyter-widgets/controls",
            "layout": "IPY_MODEL_48bc0f91a572447081b58ae4884b1d42"
          }
        },
        "635e706ff9254fe2b2b3fa78729cffca": {
          "model_module": "@jupyter-widgets/controls",
          "model_name": "ProgressStyleModel",
          "state": {
            "_view_name": "StyleView",
            "_model_name": "ProgressStyleModel",
            "description_width": "initial",
            "_view_module": "@jupyter-widgets/base",
            "_model_module_version": "1.5.0",
            "_view_count": null,
            "_view_module_version": "1.2.0",
            "bar_color": null,
            "_model_module": "@jupyter-widgets/controls"
          }
        },
        "ca77010003ed4572afb4f45c8fb8f2a3": {
          "model_module": "@jupyter-widgets/base",
          "model_name": "LayoutModel",
          "state": {
            "_view_name": "LayoutView",
            "grid_template_rows": null,
            "right": null,
            "justify_content": null,
            "_view_module": "@jupyter-widgets/base",
            "overflow": null,
            "_model_module_version": "1.2.0",
            "_view_count": null,
            "flex_flow": null,
            "width": null,
            "min_width": null,
            "border": null,
            "align_items": null,
            "bottom": null,
            "_model_module": "@jupyter-widgets/base",
            "top": null,
            "grid_column": null,
            "overflow_y": null,
            "overflow_x": null,
            "grid_auto_flow": null,
            "grid_area": null,
            "grid_template_columns": null,
            "flex": null,
            "_model_name": "LayoutModel",
            "justify_items": null,
            "grid_row": null,
            "max_height": null,
            "align_content": null,
            "visibility": null,
            "align_self": null,
            "height": null,
            "min_height": null,
            "padding": null,
            "grid_auto_rows": null,
            "grid_gap": null,
            "max_width": null,
            "order": null,
            "_view_module_version": "1.2.0",
            "grid_template_areas": null,
            "object_position": null,
            "object_fit": null,
            "grid_auto_columns": null,
            "margin": null,
            "display": null,
            "left": null
          }
        },
        "fa5d9b53a8714e5398800b57ed7962a2": {
          "model_module": "@jupyter-widgets/controls",
          "model_name": "DescriptionStyleModel",
          "state": {
            "_view_name": "StyleView",
            "_model_name": "DescriptionStyleModel",
            "description_width": "",
            "_view_module": "@jupyter-widgets/base",
            "_model_module_version": "1.5.0",
            "_view_count": null,
            "_view_module_version": "1.2.0",
            "_model_module": "@jupyter-widgets/controls"
          }
        },
        "48bc0f91a572447081b58ae4884b1d42": {
          "model_module": "@jupyter-widgets/base",
          "model_name": "LayoutModel",
          "state": {
            "_view_name": "LayoutView",
            "grid_template_rows": null,
            "right": null,
            "justify_content": null,
            "_view_module": "@jupyter-widgets/base",
            "overflow": null,
            "_model_module_version": "1.2.0",
            "_view_count": null,
            "flex_flow": null,
            "width": null,
            "min_width": null,
            "border": null,
            "align_items": null,
            "bottom": null,
            "_model_module": "@jupyter-widgets/base",
            "top": null,
            "grid_column": null,
            "overflow_y": null,
            "overflow_x": null,
            "grid_auto_flow": null,
            "grid_area": null,
            "grid_template_columns": null,
            "flex": null,
            "_model_name": "LayoutModel",
            "justify_items": null,
            "grid_row": null,
            "max_height": null,
            "align_content": null,
            "visibility": null,
            "align_self": null,
            "height": null,
            "min_height": null,
            "padding": null,
            "grid_auto_rows": null,
            "grid_gap": null,
            "max_width": null,
            "order": null,
            "_view_module_version": "1.2.0",
            "grid_template_areas": null,
            "object_position": null,
            "object_fit": null,
            "grid_auto_columns": null,
            "margin": null,
            "display": null,
            "left": null
          }
        },
        "c1f7e17c22334d77ab0dbe0d485eca84": {
          "model_module": "@jupyter-widgets/controls",
          "model_name": "HBoxModel",
          "state": {
            "_view_name": "HBoxView",
            "_dom_classes": [],
            "_model_name": "HBoxModel",
            "_view_module": "@jupyter-widgets/controls",
            "_model_module_version": "1.5.0",
            "_view_count": null,
            "_view_module_version": "1.5.0",
            "box_style": "",
            "layout": "IPY_MODEL_ce05cadb83104216b75c53d33ffcf1ac",
            "_model_module": "@jupyter-widgets/controls",
            "children": [
              "IPY_MODEL_c180444d599d492aa4f57dbc6d3d7302",
              "IPY_MODEL_4b6f927fe6b64c6fb6c6b21a8b629136"
            ]
          }
        },
        "ce05cadb83104216b75c53d33ffcf1ac": {
          "model_module": "@jupyter-widgets/base",
          "model_name": "LayoutModel",
          "state": {
            "_view_name": "LayoutView",
            "grid_template_rows": null,
            "right": null,
            "justify_content": null,
            "_view_module": "@jupyter-widgets/base",
            "overflow": null,
            "_model_module_version": "1.2.0",
            "_view_count": null,
            "flex_flow": null,
            "width": null,
            "min_width": null,
            "border": null,
            "align_items": null,
            "bottom": null,
            "_model_module": "@jupyter-widgets/base",
            "top": null,
            "grid_column": null,
            "overflow_y": null,
            "overflow_x": null,
            "grid_auto_flow": null,
            "grid_area": null,
            "grid_template_columns": null,
            "flex": null,
            "_model_name": "LayoutModel",
            "justify_items": null,
            "grid_row": null,
            "max_height": null,
            "align_content": null,
            "visibility": null,
            "align_self": null,
            "height": null,
            "min_height": null,
            "padding": null,
            "grid_auto_rows": null,
            "grid_gap": null,
            "max_width": null,
            "order": null,
            "_view_module_version": "1.2.0",
            "grid_template_areas": null,
            "object_position": null,
            "object_fit": null,
            "grid_auto_columns": null,
            "margin": null,
            "display": null,
            "left": null
          }
        },
        "c180444d599d492aa4f57dbc6d3d7302": {
          "model_module": "@jupyter-widgets/controls",
          "model_name": "FloatProgressModel",
          "state": {
            "_view_name": "ProgressView",
            "style": "IPY_MODEL_d1b0267ec3d24d519f64c4a440dd59ca",
            "_dom_classes": [],
            "description": "Dl Size...: 100%",
            "_model_name": "FloatProgressModel",
            "bar_style": "success",
            "max": 1,
            "_view_module": "@jupyter-widgets/controls",
            "_model_module_version": "1.5.0",
            "value": 1,
            "_view_count": null,
            "_view_module_version": "1.5.0",
            "orientation": "horizontal",
            "min": 0,
            "description_tooltip": null,
            "_model_module": "@jupyter-widgets/controls",
            "layout": "IPY_MODEL_eebbea85bc86466bbf41d18c3df164ae"
          }
        },
        "4b6f927fe6b64c6fb6c6b21a8b629136": {
          "model_module": "@jupyter-widgets/controls",
          "model_name": "HTMLModel",
          "state": {
            "_view_name": "HTMLView",
            "style": "IPY_MODEL_ca5b6742331a48bdbb3f2ce66ad98bcd",
            "_dom_classes": [],
            "description": "",
            "_model_name": "HTMLModel",
            "placeholder": "​",
            "_view_module": "@jupyter-widgets/controls",
            "_model_module_version": "1.5.0",
            "value": " 80/80 [00:01&lt;00:00, 40.50 MiB/s]",
            "_view_count": null,
            "_view_module_version": "1.5.0",
            "description_tooltip": null,
            "_model_module": "@jupyter-widgets/controls",
            "layout": "IPY_MODEL_90a31a06bcf4458da5c2e48e285968b6"
          }
        },
        "d1b0267ec3d24d519f64c4a440dd59ca": {
          "model_module": "@jupyter-widgets/controls",
          "model_name": "ProgressStyleModel",
          "state": {
            "_view_name": "StyleView",
            "_model_name": "ProgressStyleModel",
            "description_width": "initial",
            "_view_module": "@jupyter-widgets/base",
            "_model_module_version": "1.5.0",
            "_view_count": null,
            "_view_module_version": "1.2.0",
            "bar_color": null,
            "_model_module": "@jupyter-widgets/controls"
          }
        },
        "eebbea85bc86466bbf41d18c3df164ae": {
          "model_module": "@jupyter-widgets/base",
          "model_name": "LayoutModel",
          "state": {
            "_view_name": "LayoutView",
            "grid_template_rows": null,
            "right": null,
            "justify_content": null,
            "_view_module": "@jupyter-widgets/base",
            "overflow": null,
            "_model_module_version": "1.2.0",
            "_view_count": null,
            "flex_flow": null,
            "width": null,
            "min_width": null,
            "border": null,
            "align_items": null,
            "bottom": null,
            "_model_module": "@jupyter-widgets/base",
            "top": null,
            "grid_column": null,
            "overflow_y": null,
            "overflow_x": null,
            "grid_auto_flow": null,
            "grid_area": null,
            "grid_template_columns": null,
            "flex": null,
            "_model_name": "LayoutModel",
            "justify_items": null,
            "grid_row": null,
            "max_height": null,
            "align_content": null,
            "visibility": null,
            "align_self": null,
            "height": null,
            "min_height": null,
            "padding": null,
            "grid_auto_rows": null,
            "grid_gap": null,
            "max_width": null,
            "order": null,
            "_view_module_version": "1.2.0",
            "grid_template_areas": null,
            "object_position": null,
            "object_fit": null,
            "grid_auto_columns": null,
            "margin": null,
            "display": null,
            "left": null
          }
        },
        "ca5b6742331a48bdbb3f2ce66ad98bcd": {
          "model_module": "@jupyter-widgets/controls",
          "model_name": "DescriptionStyleModel",
          "state": {
            "_view_name": "StyleView",
            "_model_name": "DescriptionStyleModel",
            "description_width": "",
            "_view_module": "@jupyter-widgets/base",
            "_model_module_version": "1.5.0",
            "_view_count": null,
            "_view_module_version": "1.2.0",
            "_model_module": "@jupyter-widgets/controls"
          }
        },
        "90a31a06bcf4458da5c2e48e285968b6": {
          "model_module": "@jupyter-widgets/base",
          "model_name": "LayoutModel",
          "state": {
            "_view_name": "LayoutView",
            "grid_template_rows": null,
            "right": null,
            "justify_content": null,
            "_view_module": "@jupyter-widgets/base",
            "overflow": null,
            "_model_module_version": "1.2.0",
            "_view_count": null,
            "flex_flow": null,
            "width": null,
            "min_width": null,
            "border": null,
            "align_items": null,
            "bottom": null,
            "_model_module": "@jupyter-widgets/base",
            "top": null,
            "grid_column": null,
            "overflow_y": null,
            "overflow_x": null,
            "grid_auto_flow": null,
            "grid_area": null,
            "grid_template_columns": null,
            "flex": null,
            "_model_name": "LayoutModel",
            "justify_items": null,
            "grid_row": null,
            "max_height": null,
            "align_content": null,
            "visibility": null,
            "align_self": null,
            "height": null,
            "min_height": null,
            "padding": null,
            "grid_auto_rows": null,
            "grid_gap": null,
            "max_width": null,
            "order": null,
            "_view_module_version": "1.2.0",
            "grid_template_areas": null,
            "object_position": null,
            "object_fit": null,
            "grid_auto_columns": null,
            "margin": null,
            "display": null,
            "left": null
          }
        },
        "ec18e664608e404aa3e985a48e0ca781": {
          "model_module": "@jupyter-widgets/controls",
          "model_name": "HBoxModel",
          "state": {
            "_view_name": "HBoxView",
            "_dom_classes": [],
            "_model_name": "HBoxModel",
            "_view_module": "@jupyter-widgets/controls",
            "_model_module_version": "1.5.0",
            "_view_count": null,
            "_view_module_version": "1.5.0",
            "box_style": "",
            "layout": "IPY_MODEL_de2d061b7641421d85bfc42cc0d1d4da",
            "_model_module": "@jupyter-widgets/controls",
            "children": [
              "IPY_MODEL_6f2cca7df4e947bc9749ee79fca9678a",
              "IPY_MODEL_eb6170c34e5f4645acf5ad059728b3f7"
            ]
          }
        },
        "de2d061b7641421d85bfc42cc0d1d4da": {
          "model_module": "@jupyter-widgets/base",
          "model_name": "LayoutModel",
          "state": {
            "_view_name": "LayoutView",
            "grid_template_rows": null,
            "right": null,
            "justify_content": null,
            "_view_module": "@jupyter-widgets/base",
            "overflow": null,
            "_model_module_version": "1.2.0",
            "_view_count": null,
            "flex_flow": null,
            "width": null,
            "min_width": null,
            "border": null,
            "align_items": null,
            "bottom": null,
            "_model_module": "@jupyter-widgets/base",
            "top": null,
            "grid_column": null,
            "overflow_y": null,
            "overflow_x": null,
            "grid_auto_flow": null,
            "grid_area": null,
            "grid_template_columns": null,
            "flex": null,
            "_model_name": "LayoutModel",
            "justify_items": null,
            "grid_row": null,
            "max_height": null,
            "align_content": null,
            "visibility": null,
            "align_self": null,
            "height": null,
            "min_height": null,
            "padding": null,
            "grid_auto_rows": null,
            "grid_gap": null,
            "max_width": null,
            "order": null,
            "_view_module_version": "1.2.0",
            "grid_template_areas": null,
            "object_position": null,
            "object_fit": null,
            "grid_auto_columns": null,
            "margin": null,
            "display": null,
            "left": null
          }
        },
        "6f2cca7df4e947bc9749ee79fca9678a": {
          "model_module": "@jupyter-widgets/controls",
          "model_name": "FloatProgressModel",
          "state": {
            "_view_name": "ProgressView",
            "style": "IPY_MODEL_2a83ffe8dc1246ad9a1aa72486248aef",
            "_dom_classes": [],
            "description": "",
            "_model_name": "FloatProgressModel",
            "bar_style": "info",
            "max": 1,
            "_view_module": "@jupyter-widgets/controls",
            "_model_module_version": "1.5.0",
            "value": 1,
            "_view_count": null,
            "_view_module_version": "1.5.0",
            "orientation": "horizontal",
            "min": 0,
            "description_tooltip": null,
            "_model_module": "@jupyter-widgets/controls",
            "layout": "IPY_MODEL_68ae9d3394bf4884a4dc53c9fd146e66"
          }
        },
        "eb6170c34e5f4645acf5ad059728b3f7": {
          "model_module": "@jupyter-widgets/controls",
          "model_name": "HTMLModel",
          "state": {
            "_view_name": "HTMLView",
            "style": "IPY_MODEL_b6b2424f2af542819be5a44f7c5ada25",
            "_dom_classes": [],
            "description": "",
            "_model_name": "HTMLModel",
            "placeholder": "​",
            "_view_module": "@jupyter-widgets/controls",
            "_model_module_version": "1.5.0",
            "value": " 25000/0 [00:14&lt;00:00, 3303.86 examples/s]",
            "_view_count": null,
            "_view_module_version": "1.5.0",
            "description_tooltip": null,
            "_model_module": "@jupyter-widgets/controls",
            "layout": "IPY_MODEL_240aecfbdf1045b1800091cf5cbee1c2"
          }
        },
        "2a83ffe8dc1246ad9a1aa72486248aef": {
          "model_module": "@jupyter-widgets/controls",
          "model_name": "ProgressStyleModel",
          "state": {
            "_view_name": "StyleView",
            "_model_name": "ProgressStyleModel",
            "description_width": "initial",
            "_view_module": "@jupyter-widgets/base",
            "_model_module_version": "1.5.0",
            "_view_count": null,
            "_view_module_version": "1.2.0",
            "bar_color": null,
            "_model_module": "@jupyter-widgets/controls"
          }
        },
        "68ae9d3394bf4884a4dc53c9fd146e66": {
          "model_module": "@jupyter-widgets/base",
          "model_name": "LayoutModel",
          "state": {
            "_view_name": "LayoutView",
            "grid_template_rows": null,
            "right": null,
            "justify_content": null,
            "_view_module": "@jupyter-widgets/base",
            "overflow": null,
            "_model_module_version": "1.2.0",
            "_view_count": null,
            "flex_flow": null,
            "width": null,
            "min_width": null,
            "border": null,
            "align_items": null,
            "bottom": null,
            "_model_module": "@jupyter-widgets/base",
            "top": null,
            "grid_column": null,
            "overflow_y": null,
            "overflow_x": null,
            "grid_auto_flow": null,
            "grid_area": null,
            "grid_template_columns": null,
            "flex": null,
            "_model_name": "LayoutModel",
            "justify_items": null,
            "grid_row": null,
            "max_height": null,
            "align_content": null,
            "visibility": null,
            "align_self": null,
            "height": null,
            "min_height": null,
            "padding": null,
            "grid_auto_rows": null,
            "grid_gap": null,
            "max_width": null,
            "order": null,
            "_view_module_version": "1.2.0",
            "grid_template_areas": null,
            "object_position": null,
            "object_fit": null,
            "grid_auto_columns": null,
            "margin": null,
            "display": null,
            "left": null
          }
        },
        "b6b2424f2af542819be5a44f7c5ada25": {
          "model_module": "@jupyter-widgets/controls",
          "model_name": "DescriptionStyleModel",
          "state": {
            "_view_name": "StyleView",
            "_model_name": "DescriptionStyleModel",
            "description_width": "",
            "_view_module": "@jupyter-widgets/base",
            "_model_module_version": "1.5.0",
            "_view_count": null,
            "_view_module_version": "1.2.0",
            "_model_module": "@jupyter-widgets/controls"
          }
        },
        "240aecfbdf1045b1800091cf5cbee1c2": {
          "model_module": "@jupyter-widgets/base",
          "model_name": "LayoutModel",
          "state": {
            "_view_name": "LayoutView",
            "grid_template_rows": null,
            "right": null,
            "justify_content": null,
            "_view_module": "@jupyter-widgets/base",
            "overflow": null,
            "_model_module_version": "1.2.0",
            "_view_count": null,
            "flex_flow": null,
            "width": null,
            "min_width": null,
            "border": null,
            "align_items": null,
            "bottom": null,
            "_model_module": "@jupyter-widgets/base",
            "top": null,
            "grid_column": null,
            "overflow_y": null,
            "overflow_x": null,
            "grid_auto_flow": null,
            "grid_area": null,
            "grid_template_columns": null,
            "flex": null,
            "_model_name": "LayoutModel",
            "justify_items": null,
            "grid_row": null,
            "max_height": null,
            "align_content": null,
            "visibility": null,
            "align_self": null,
            "height": null,
            "min_height": null,
            "padding": null,
            "grid_auto_rows": null,
            "grid_gap": null,
            "max_width": null,
            "order": null,
            "_view_module_version": "1.2.0",
            "grid_template_areas": null,
            "object_position": null,
            "object_fit": null,
            "grid_auto_columns": null,
            "margin": null,
            "display": null,
            "left": null
          }
        },
        "25b32cc28ad143a1a4c3b390a8e7d3b7": {
          "model_module": "@jupyter-widgets/controls",
          "model_name": "HBoxModel",
          "state": {
            "_view_name": "HBoxView",
            "_dom_classes": [],
            "_model_name": "HBoxModel",
            "_view_module": "@jupyter-widgets/controls",
            "_model_module_version": "1.5.0",
            "_view_count": null,
            "_view_module_version": "1.5.0",
            "box_style": "",
            "layout": "IPY_MODEL_c66bac036c9f44ad86b87aa1ef19c04a",
            "_model_module": "@jupyter-widgets/controls",
            "children": [
              "IPY_MODEL_68986ec89ccf4e4b92678c26b5bdbdba",
              "IPY_MODEL_5e03364331d14072b388199323a92926"
            ]
          }
        },
        "c66bac036c9f44ad86b87aa1ef19c04a": {
          "model_module": "@jupyter-widgets/base",
          "model_name": "LayoutModel",
          "state": {
            "_view_name": "LayoutView",
            "grid_template_rows": null,
            "right": null,
            "justify_content": null,
            "_view_module": "@jupyter-widgets/base",
            "overflow": null,
            "_model_module_version": "1.2.0",
            "_view_count": null,
            "flex_flow": null,
            "width": null,
            "min_width": null,
            "border": null,
            "align_items": null,
            "bottom": null,
            "_model_module": "@jupyter-widgets/base",
            "top": null,
            "grid_column": null,
            "overflow_y": null,
            "overflow_x": null,
            "grid_auto_flow": null,
            "grid_area": null,
            "grid_template_columns": null,
            "flex": null,
            "_model_name": "LayoutModel",
            "justify_items": null,
            "grid_row": null,
            "max_height": null,
            "align_content": null,
            "visibility": null,
            "align_self": null,
            "height": null,
            "min_height": null,
            "padding": null,
            "grid_auto_rows": null,
            "grid_gap": null,
            "max_width": null,
            "order": null,
            "_view_module_version": "1.2.0",
            "grid_template_areas": null,
            "object_position": null,
            "object_fit": null,
            "grid_auto_columns": null,
            "margin": null,
            "display": null,
            "left": null
          }
        },
        "68986ec89ccf4e4b92678c26b5bdbdba": {
          "model_module": "@jupyter-widgets/controls",
          "model_name": "FloatProgressModel",
          "state": {
            "_view_name": "ProgressView",
            "style": "IPY_MODEL_b99617eea792477f8a8939f506b81249",
            "_dom_classes": [],
            "description": " 32%",
            "_model_name": "FloatProgressModel",
            "bar_style": "danger",
            "max": 25000,
            "_view_module": "@jupyter-widgets/controls",
            "_model_module_version": "1.5.0",
            "value": 7910,
            "_view_count": null,
            "_view_module_version": "1.5.0",
            "orientation": "horizontal",
            "min": 0,
            "description_tooltip": null,
            "_model_module": "@jupyter-widgets/controls",
            "layout": "IPY_MODEL_f591ee08e8a14127bd82210e42b96581"
          }
        },
        "5e03364331d14072b388199323a92926": {
          "model_module": "@jupyter-widgets/controls",
          "model_name": "HTMLModel",
          "state": {
            "_view_name": "HTMLView",
            "style": "IPY_MODEL_19c2abdddd0541e6b3aa76fe139e9748",
            "_dom_classes": [],
            "description": "",
            "_model_name": "HTMLModel",
            "placeholder": "​",
            "_view_module": "@jupyter-widgets/controls",
            "_model_module_version": "1.5.0",
            "value": " 7910/25000 [00:00&lt;00:00, 79095.17 examples/s]",
            "_view_count": null,
            "_view_module_version": "1.5.0",
            "description_tooltip": null,
            "_model_module": "@jupyter-widgets/controls",
            "layout": "IPY_MODEL_e3b96e8384ac46f9bb01a8aa92dcc50e"
          }
        },
        "b99617eea792477f8a8939f506b81249": {
          "model_module": "@jupyter-widgets/controls",
          "model_name": "ProgressStyleModel",
          "state": {
            "_view_name": "StyleView",
            "_model_name": "ProgressStyleModel",
            "description_width": "initial",
            "_view_module": "@jupyter-widgets/base",
            "_model_module_version": "1.5.0",
            "_view_count": null,
            "_view_module_version": "1.2.0",
            "bar_color": null,
            "_model_module": "@jupyter-widgets/controls"
          }
        },
        "f591ee08e8a14127bd82210e42b96581": {
          "model_module": "@jupyter-widgets/base",
          "model_name": "LayoutModel",
          "state": {
            "_view_name": "LayoutView",
            "grid_template_rows": null,
            "right": null,
            "justify_content": null,
            "_view_module": "@jupyter-widgets/base",
            "overflow": null,
            "_model_module_version": "1.2.0",
            "_view_count": null,
            "flex_flow": null,
            "width": null,
            "min_width": null,
            "border": null,
            "align_items": null,
            "bottom": null,
            "_model_module": "@jupyter-widgets/base",
            "top": null,
            "grid_column": null,
            "overflow_y": null,
            "overflow_x": null,
            "grid_auto_flow": null,
            "grid_area": null,
            "grid_template_columns": null,
            "flex": null,
            "_model_name": "LayoutModel",
            "justify_items": null,
            "grid_row": null,
            "max_height": null,
            "align_content": null,
            "visibility": null,
            "align_self": null,
            "height": null,
            "min_height": null,
            "padding": null,
            "grid_auto_rows": null,
            "grid_gap": null,
            "max_width": null,
            "order": null,
            "_view_module_version": "1.2.0",
            "grid_template_areas": null,
            "object_position": null,
            "object_fit": null,
            "grid_auto_columns": null,
            "margin": null,
            "display": null,
            "left": null
          }
        },
        "19c2abdddd0541e6b3aa76fe139e9748": {
          "model_module": "@jupyter-widgets/controls",
          "model_name": "DescriptionStyleModel",
          "state": {
            "_view_name": "StyleView",
            "_model_name": "DescriptionStyleModel",
            "description_width": "",
            "_view_module": "@jupyter-widgets/base",
            "_model_module_version": "1.5.0",
            "_view_count": null,
            "_view_module_version": "1.2.0",
            "_model_module": "@jupyter-widgets/controls"
          }
        },
        "e3b96e8384ac46f9bb01a8aa92dcc50e": {
          "model_module": "@jupyter-widgets/base",
          "model_name": "LayoutModel",
          "state": {
            "_view_name": "LayoutView",
            "grid_template_rows": null,
            "right": null,
            "justify_content": null,
            "_view_module": "@jupyter-widgets/base",
            "overflow": null,
            "_model_module_version": "1.2.0",
            "_view_count": null,
            "flex_flow": null,
            "width": null,
            "min_width": null,
            "border": null,
            "align_items": null,
            "bottom": null,
            "_model_module": "@jupyter-widgets/base",
            "top": null,
            "grid_column": null,
            "overflow_y": null,
            "overflow_x": null,
            "grid_auto_flow": null,
            "grid_area": null,
            "grid_template_columns": null,
            "flex": null,
            "_model_name": "LayoutModel",
            "justify_items": null,
            "grid_row": null,
            "max_height": null,
            "align_content": null,
            "visibility": null,
            "align_self": null,
            "height": null,
            "min_height": null,
            "padding": null,
            "grid_auto_rows": null,
            "grid_gap": null,
            "max_width": null,
            "order": null,
            "_view_module_version": "1.2.0",
            "grid_template_areas": null,
            "object_position": null,
            "object_fit": null,
            "grid_auto_columns": null,
            "margin": null,
            "display": null,
            "left": null
          }
        },
        "9e9395890ce047c2a7b27de052bdb970": {
          "model_module": "@jupyter-widgets/controls",
          "model_name": "HBoxModel",
          "state": {
            "_view_name": "HBoxView",
            "_dom_classes": [],
            "_model_name": "HBoxModel",
            "_view_module": "@jupyter-widgets/controls",
            "_model_module_version": "1.5.0",
            "_view_count": null,
            "_view_module_version": "1.5.0",
            "box_style": "",
            "layout": "IPY_MODEL_908a0bd7f2864ad09e6b9f1676dd0bb9",
            "_model_module": "@jupyter-widgets/controls",
            "children": [
              "IPY_MODEL_02fbd66acd8c449aa512433ab53bebab",
              "IPY_MODEL_94c88564ce7b45b88d6a8fe771f956d0"
            ]
          }
        },
        "908a0bd7f2864ad09e6b9f1676dd0bb9": {
          "model_module": "@jupyter-widgets/base",
          "model_name": "LayoutModel",
          "state": {
            "_view_name": "LayoutView",
            "grid_template_rows": null,
            "right": null,
            "justify_content": null,
            "_view_module": "@jupyter-widgets/base",
            "overflow": null,
            "_model_module_version": "1.2.0",
            "_view_count": null,
            "flex_flow": null,
            "width": null,
            "min_width": null,
            "border": null,
            "align_items": null,
            "bottom": null,
            "_model_module": "@jupyter-widgets/base",
            "top": null,
            "grid_column": null,
            "overflow_y": null,
            "overflow_x": null,
            "grid_auto_flow": null,
            "grid_area": null,
            "grid_template_columns": null,
            "flex": null,
            "_model_name": "LayoutModel",
            "justify_items": null,
            "grid_row": null,
            "max_height": null,
            "align_content": null,
            "visibility": null,
            "align_self": null,
            "height": null,
            "min_height": null,
            "padding": null,
            "grid_auto_rows": null,
            "grid_gap": null,
            "max_width": null,
            "order": null,
            "_view_module_version": "1.2.0",
            "grid_template_areas": null,
            "object_position": null,
            "object_fit": null,
            "grid_auto_columns": null,
            "margin": null,
            "display": null,
            "left": null
          }
        },
        "02fbd66acd8c449aa512433ab53bebab": {
          "model_module": "@jupyter-widgets/controls",
          "model_name": "FloatProgressModel",
          "state": {
            "_view_name": "ProgressView",
            "style": "IPY_MODEL_99c8cda3620d406497e92c3a2bbed6dd",
            "_dom_classes": [],
            "description": "",
            "_model_name": "FloatProgressModel",
            "bar_style": "info",
            "max": 1,
            "_view_module": "@jupyter-widgets/controls",
            "_model_module_version": "1.5.0",
            "value": 1,
            "_view_count": null,
            "_view_module_version": "1.5.0",
            "orientation": "horizontal",
            "min": 0,
            "description_tooltip": null,
            "_model_module": "@jupyter-widgets/controls",
            "layout": "IPY_MODEL_1cf89c38e31e4b05b9951161f787b969"
          }
        },
        "94c88564ce7b45b88d6a8fe771f956d0": {
          "model_module": "@jupyter-widgets/controls",
          "model_name": "HTMLModel",
          "state": {
            "_view_name": "HTMLView",
            "style": "IPY_MODEL_44e60797d4d24018a7e6d8ab9fc8d911",
            "_dom_classes": [],
            "description": "",
            "_model_name": "HTMLModel",
            "placeholder": "​",
            "_view_module": "@jupyter-widgets/controls",
            "_model_module_version": "1.5.0",
            "value": " 25000/0 [00:13&lt;00:00, 3444.65 examples/s]",
            "_view_count": null,
            "_view_module_version": "1.5.0",
            "description_tooltip": null,
            "_model_module": "@jupyter-widgets/controls",
            "layout": "IPY_MODEL_90ab52bbfc69404e8f478560bcac9e9f"
          }
        },
        "99c8cda3620d406497e92c3a2bbed6dd": {
          "model_module": "@jupyter-widgets/controls",
          "model_name": "ProgressStyleModel",
          "state": {
            "_view_name": "StyleView",
            "_model_name": "ProgressStyleModel",
            "description_width": "initial",
            "_view_module": "@jupyter-widgets/base",
            "_model_module_version": "1.5.0",
            "_view_count": null,
            "_view_module_version": "1.2.0",
            "bar_color": null,
            "_model_module": "@jupyter-widgets/controls"
          }
        },
        "1cf89c38e31e4b05b9951161f787b969": {
          "model_module": "@jupyter-widgets/base",
          "model_name": "LayoutModel",
          "state": {
            "_view_name": "LayoutView",
            "grid_template_rows": null,
            "right": null,
            "justify_content": null,
            "_view_module": "@jupyter-widgets/base",
            "overflow": null,
            "_model_module_version": "1.2.0",
            "_view_count": null,
            "flex_flow": null,
            "width": null,
            "min_width": null,
            "border": null,
            "align_items": null,
            "bottom": null,
            "_model_module": "@jupyter-widgets/base",
            "top": null,
            "grid_column": null,
            "overflow_y": null,
            "overflow_x": null,
            "grid_auto_flow": null,
            "grid_area": null,
            "grid_template_columns": null,
            "flex": null,
            "_model_name": "LayoutModel",
            "justify_items": null,
            "grid_row": null,
            "max_height": null,
            "align_content": null,
            "visibility": null,
            "align_self": null,
            "height": null,
            "min_height": null,
            "padding": null,
            "grid_auto_rows": null,
            "grid_gap": null,
            "max_width": null,
            "order": null,
            "_view_module_version": "1.2.0",
            "grid_template_areas": null,
            "object_position": null,
            "object_fit": null,
            "grid_auto_columns": null,
            "margin": null,
            "display": null,
            "left": null
          }
        },
        "44e60797d4d24018a7e6d8ab9fc8d911": {
          "model_module": "@jupyter-widgets/controls",
          "model_name": "DescriptionStyleModel",
          "state": {
            "_view_name": "StyleView",
            "_model_name": "DescriptionStyleModel",
            "description_width": "",
            "_view_module": "@jupyter-widgets/base",
            "_model_module_version": "1.5.0",
            "_view_count": null,
            "_view_module_version": "1.2.0",
            "_model_module": "@jupyter-widgets/controls"
          }
        },
        "90ab52bbfc69404e8f478560bcac9e9f": {
          "model_module": "@jupyter-widgets/base",
          "model_name": "LayoutModel",
          "state": {
            "_view_name": "LayoutView",
            "grid_template_rows": null,
            "right": null,
            "justify_content": null,
            "_view_module": "@jupyter-widgets/base",
            "overflow": null,
            "_model_module_version": "1.2.0",
            "_view_count": null,
            "flex_flow": null,
            "width": null,
            "min_width": null,
            "border": null,
            "align_items": null,
            "bottom": null,
            "_model_module": "@jupyter-widgets/base",
            "top": null,
            "grid_column": null,
            "overflow_y": null,
            "overflow_x": null,
            "grid_auto_flow": null,
            "grid_area": null,
            "grid_template_columns": null,
            "flex": null,
            "_model_name": "LayoutModel",
            "justify_items": null,
            "grid_row": null,
            "max_height": null,
            "align_content": null,
            "visibility": null,
            "align_self": null,
            "height": null,
            "min_height": null,
            "padding": null,
            "grid_auto_rows": null,
            "grid_gap": null,
            "max_width": null,
            "order": null,
            "_view_module_version": "1.2.0",
            "grid_template_areas": null,
            "object_position": null,
            "object_fit": null,
            "grid_auto_columns": null,
            "margin": null,
            "display": null,
            "left": null
          }
        },
        "e7519a7df5534bbc91e8d6f42fd3747d": {
          "model_module": "@jupyter-widgets/controls",
          "model_name": "HBoxModel",
          "state": {
            "_view_name": "HBoxView",
            "_dom_classes": [],
            "_model_name": "HBoxModel",
            "_view_module": "@jupyter-widgets/controls",
            "_model_module_version": "1.5.0",
            "_view_count": null,
            "_view_module_version": "1.5.0",
            "box_style": "",
            "layout": "IPY_MODEL_93948af5698f4311acc6a07464fce364",
            "_model_module": "@jupyter-widgets/controls",
            "children": [
              "IPY_MODEL_4359d8f48ed9433ba942aeb9a05a33c2",
              "IPY_MODEL_b0c6e3f19cd44545912b693872d51109"
            ]
          }
        },
        "93948af5698f4311acc6a07464fce364": {
          "model_module": "@jupyter-widgets/base",
          "model_name": "LayoutModel",
          "state": {
            "_view_name": "LayoutView",
            "grid_template_rows": null,
            "right": null,
            "justify_content": null,
            "_view_module": "@jupyter-widgets/base",
            "overflow": null,
            "_model_module_version": "1.2.0",
            "_view_count": null,
            "flex_flow": null,
            "width": null,
            "min_width": null,
            "border": null,
            "align_items": null,
            "bottom": null,
            "_model_module": "@jupyter-widgets/base",
            "top": null,
            "grid_column": null,
            "overflow_y": null,
            "overflow_x": null,
            "grid_auto_flow": null,
            "grid_area": null,
            "grid_template_columns": null,
            "flex": null,
            "_model_name": "LayoutModel",
            "justify_items": null,
            "grid_row": null,
            "max_height": null,
            "align_content": null,
            "visibility": null,
            "align_self": null,
            "height": null,
            "min_height": null,
            "padding": null,
            "grid_auto_rows": null,
            "grid_gap": null,
            "max_width": null,
            "order": null,
            "_view_module_version": "1.2.0",
            "grid_template_areas": null,
            "object_position": null,
            "object_fit": null,
            "grid_auto_columns": null,
            "margin": null,
            "display": null,
            "left": null
          }
        },
        "4359d8f48ed9433ba942aeb9a05a33c2": {
          "model_module": "@jupyter-widgets/controls",
          "model_name": "FloatProgressModel",
          "state": {
            "_view_name": "ProgressView",
            "style": "IPY_MODEL_4691f741568945fab4f8c9684b05ebe9",
            "_dom_classes": [],
            "description": " 37%",
            "_model_name": "FloatProgressModel",
            "bar_style": "danger",
            "max": 25000,
            "_view_module": "@jupyter-widgets/controls",
            "_model_module_version": "1.5.0",
            "value": 9313,
            "_view_count": null,
            "_view_module_version": "1.5.0",
            "orientation": "horizontal",
            "min": 0,
            "description_tooltip": null,
            "_model_module": "@jupyter-widgets/controls",
            "layout": "IPY_MODEL_437d4de3211942c384c4e7366aa9d181"
          }
        },
        "b0c6e3f19cd44545912b693872d51109": {
          "model_module": "@jupyter-widgets/controls",
          "model_name": "HTMLModel",
          "state": {
            "_view_name": "HTMLView",
            "style": "IPY_MODEL_d4a28eea75ff45919bef74bd37681121",
            "_dom_classes": [],
            "description": "",
            "_model_name": "HTMLModel",
            "placeholder": "​",
            "_view_module": "@jupyter-widgets/controls",
            "_model_module_version": "1.5.0",
            "value": " 9313/25000 [00:00&lt;00:00, 93127.65 examples/s]",
            "_view_count": null,
            "_view_module_version": "1.5.0",
            "description_tooltip": null,
            "_model_module": "@jupyter-widgets/controls",
            "layout": "IPY_MODEL_b8a48df52c284fcc82644d034c6354d2"
          }
        },
        "4691f741568945fab4f8c9684b05ebe9": {
          "model_module": "@jupyter-widgets/controls",
          "model_name": "ProgressStyleModel",
          "state": {
            "_view_name": "StyleView",
            "_model_name": "ProgressStyleModel",
            "description_width": "initial",
            "_view_module": "@jupyter-widgets/base",
            "_model_module_version": "1.5.0",
            "_view_count": null,
            "_view_module_version": "1.2.0",
            "bar_color": null,
            "_model_module": "@jupyter-widgets/controls"
          }
        },
        "437d4de3211942c384c4e7366aa9d181": {
          "model_module": "@jupyter-widgets/base",
          "model_name": "LayoutModel",
          "state": {
            "_view_name": "LayoutView",
            "grid_template_rows": null,
            "right": null,
            "justify_content": null,
            "_view_module": "@jupyter-widgets/base",
            "overflow": null,
            "_model_module_version": "1.2.0",
            "_view_count": null,
            "flex_flow": null,
            "width": null,
            "min_width": null,
            "border": null,
            "align_items": null,
            "bottom": null,
            "_model_module": "@jupyter-widgets/base",
            "top": null,
            "grid_column": null,
            "overflow_y": null,
            "overflow_x": null,
            "grid_auto_flow": null,
            "grid_area": null,
            "grid_template_columns": null,
            "flex": null,
            "_model_name": "LayoutModel",
            "justify_items": null,
            "grid_row": null,
            "max_height": null,
            "align_content": null,
            "visibility": null,
            "align_self": null,
            "height": null,
            "min_height": null,
            "padding": null,
            "grid_auto_rows": null,
            "grid_gap": null,
            "max_width": null,
            "order": null,
            "_view_module_version": "1.2.0",
            "grid_template_areas": null,
            "object_position": null,
            "object_fit": null,
            "grid_auto_columns": null,
            "margin": null,
            "display": null,
            "left": null
          }
        },
        "d4a28eea75ff45919bef74bd37681121": {
          "model_module": "@jupyter-widgets/controls",
          "model_name": "DescriptionStyleModel",
          "state": {
            "_view_name": "StyleView",
            "_model_name": "DescriptionStyleModel",
            "description_width": "",
            "_view_module": "@jupyter-widgets/base",
            "_model_module_version": "1.5.0",
            "_view_count": null,
            "_view_module_version": "1.2.0",
            "_model_module": "@jupyter-widgets/controls"
          }
        },
        "b8a48df52c284fcc82644d034c6354d2": {
          "model_module": "@jupyter-widgets/base",
          "model_name": "LayoutModel",
          "state": {
            "_view_name": "LayoutView",
            "grid_template_rows": null,
            "right": null,
            "justify_content": null,
            "_view_module": "@jupyter-widgets/base",
            "overflow": null,
            "_model_module_version": "1.2.0",
            "_view_count": null,
            "flex_flow": null,
            "width": null,
            "min_width": null,
            "border": null,
            "align_items": null,
            "bottom": null,
            "_model_module": "@jupyter-widgets/base",
            "top": null,
            "grid_column": null,
            "overflow_y": null,
            "overflow_x": null,
            "grid_auto_flow": null,
            "grid_area": null,
            "grid_template_columns": null,
            "flex": null,
            "_model_name": "LayoutModel",
            "justify_items": null,
            "grid_row": null,
            "max_height": null,
            "align_content": null,
            "visibility": null,
            "align_self": null,
            "height": null,
            "min_height": null,
            "padding": null,
            "grid_auto_rows": null,
            "grid_gap": null,
            "max_width": null,
            "order": null,
            "_view_module_version": "1.2.0",
            "grid_template_areas": null,
            "object_position": null,
            "object_fit": null,
            "grid_auto_columns": null,
            "margin": null,
            "display": null,
            "left": null
          }
        },
        "322bc76dfd8d475abf988fe10496dba7": {
          "model_module": "@jupyter-widgets/controls",
          "model_name": "HBoxModel",
          "state": {
            "_view_name": "HBoxView",
            "_dom_classes": [],
            "_model_name": "HBoxModel",
            "_view_module": "@jupyter-widgets/controls",
            "_model_module_version": "1.5.0",
            "_view_count": null,
            "_view_module_version": "1.5.0",
            "box_style": "",
            "layout": "IPY_MODEL_69ed2a82b10f49d9b68f0cdb2e6affb5",
            "_model_module": "@jupyter-widgets/controls",
            "children": [
              "IPY_MODEL_7336652319ed47c7ac40744d1ff83728",
              "IPY_MODEL_ffa07c89053b44f28c21af8e5879480f"
            ]
          }
        },
        "69ed2a82b10f49d9b68f0cdb2e6affb5": {
          "model_module": "@jupyter-widgets/base",
          "model_name": "LayoutModel",
          "state": {
            "_view_name": "LayoutView",
            "grid_template_rows": null,
            "right": null,
            "justify_content": null,
            "_view_module": "@jupyter-widgets/base",
            "overflow": null,
            "_model_module_version": "1.2.0",
            "_view_count": null,
            "flex_flow": null,
            "width": null,
            "min_width": null,
            "border": null,
            "align_items": null,
            "bottom": null,
            "_model_module": "@jupyter-widgets/base",
            "top": null,
            "grid_column": null,
            "overflow_y": null,
            "overflow_x": null,
            "grid_auto_flow": null,
            "grid_area": null,
            "grid_template_columns": null,
            "flex": null,
            "_model_name": "LayoutModel",
            "justify_items": null,
            "grid_row": null,
            "max_height": null,
            "align_content": null,
            "visibility": null,
            "align_self": null,
            "height": null,
            "min_height": null,
            "padding": null,
            "grid_auto_rows": null,
            "grid_gap": null,
            "max_width": null,
            "order": null,
            "_view_module_version": "1.2.0",
            "grid_template_areas": null,
            "object_position": null,
            "object_fit": null,
            "grid_auto_columns": null,
            "margin": null,
            "display": null,
            "left": null
          }
        },
        "7336652319ed47c7ac40744d1ff83728": {
          "model_module": "@jupyter-widgets/controls",
          "model_name": "FloatProgressModel",
          "state": {
            "_view_name": "ProgressView",
            "style": "IPY_MODEL_4ca499675c254c50b32b570ae7fdc516",
            "_dom_classes": [],
            "description": "",
            "_model_name": "FloatProgressModel",
            "bar_style": "info",
            "max": 1,
            "_view_module": "@jupyter-widgets/controls",
            "_model_module_version": "1.5.0",
            "value": 1,
            "_view_count": null,
            "_view_module_version": "1.5.0",
            "orientation": "horizontal",
            "min": 0,
            "description_tooltip": null,
            "_model_module": "@jupyter-widgets/controls",
            "layout": "IPY_MODEL_4fc0f2f2b0984155a5051c311c2d34cd"
          }
        },
        "ffa07c89053b44f28c21af8e5879480f": {
          "model_module": "@jupyter-widgets/controls",
          "model_name": "HTMLModel",
          "state": {
            "_view_name": "HTMLView",
            "style": "IPY_MODEL_4dd52c893d954a28bb8e677176b904bf",
            "_dom_classes": [],
            "description": "",
            "_model_name": "HTMLModel",
            "placeholder": "​",
            "_view_module": "@jupyter-widgets/controls",
            "_model_module_version": "1.5.0",
            "value": " 50000/0 [00:19&lt;00:00, 3433.33 examples/s]",
            "_view_count": null,
            "_view_module_version": "1.5.0",
            "description_tooltip": null,
            "_model_module": "@jupyter-widgets/controls",
            "layout": "IPY_MODEL_d0182758cc6b4489a80c4652bea6f187"
          }
        },
        "4ca499675c254c50b32b570ae7fdc516": {
          "model_module": "@jupyter-widgets/controls",
          "model_name": "ProgressStyleModel",
          "state": {
            "_view_name": "StyleView",
            "_model_name": "ProgressStyleModel",
            "description_width": "initial",
            "_view_module": "@jupyter-widgets/base",
            "_model_module_version": "1.5.0",
            "_view_count": null,
            "_view_module_version": "1.2.0",
            "bar_color": null,
            "_model_module": "@jupyter-widgets/controls"
          }
        },
        "4fc0f2f2b0984155a5051c311c2d34cd": {
          "model_module": "@jupyter-widgets/base",
          "model_name": "LayoutModel",
          "state": {
            "_view_name": "LayoutView",
            "grid_template_rows": null,
            "right": null,
            "justify_content": null,
            "_view_module": "@jupyter-widgets/base",
            "overflow": null,
            "_model_module_version": "1.2.0",
            "_view_count": null,
            "flex_flow": null,
            "width": null,
            "min_width": null,
            "border": null,
            "align_items": null,
            "bottom": null,
            "_model_module": "@jupyter-widgets/base",
            "top": null,
            "grid_column": null,
            "overflow_y": null,
            "overflow_x": null,
            "grid_auto_flow": null,
            "grid_area": null,
            "grid_template_columns": null,
            "flex": null,
            "_model_name": "LayoutModel",
            "justify_items": null,
            "grid_row": null,
            "max_height": null,
            "align_content": null,
            "visibility": null,
            "align_self": null,
            "height": null,
            "min_height": null,
            "padding": null,
            "grid_auto_rows": null,
            "grid_gap": null,
            "max_width": null,
            "order": null,
            "_view_module_version": "1.2.0",
            "grid_template_areas": null,
            "object_position": null,
            "object_fit": null,
            "grid_auto_columns": null,
            "margin": null,
            "display": null,
            "left": null
          }
        },
        "4dd52c893d954a28bb8e677176b904bf": {
          "model_module": "@jupyter-widgets/controls",
          "model_name": "DescriptionStyleModel",
          "state": {
            "_view_name": "StyleView",
            "_model_name": "DescriptionStyleModel",
            "description_width": "",
            "_view_module": "@jupyter-widgets/base",
            "_model_module_version": "1.5.0",
            "_view_count": null,
            "_view_module_version": "1.2.0",
            "_model_module": "@jupyter-widgets/controls"
          }
        },
        "d0182758cc6b4489a80c4652bea6f187": {
          "model_module": "@jupyter-widgets/base",
          "model_name": "LayoutModel",
          "state": {
            "_view_name": "LayoutView",
            "grid_template_rows": null,
            "right": null,
            "justify_content": null,
            "_view_module": "@jupyter-widgets/base",
            "overflow": null,
            "_model_module_version": "1.2.0",
            "_view_count": null,
            "flex_flow": null,
            "width": null,
            "min_width": null,
            "border": null,
            "align_items": null,
            "bottom": null,
            "_model_module": "@jupyter-widgets/base",
            "top": null,
            "grid_column": null,
            "overflow_y": null,
            "overflow_x": null,
            "grid_auto_flow": null,
            "grid_area": null,
            "grid_template_columns": null,
            "flex": null,
            "_model_name": "LayoutModel",
            "justify_items": null,
            "grid_row": null,
            "max_height": null,
            "align_content": null,
            "visibility": null,
            "align_self": null,
            "height": null,
            "min_height": null,
            "padding": null,
            "grid_auto_rows": null,
            "grid_gap": null,
            "max_width": null,
            "order": null,
            "_view_module_version": "1.2.0",
            "grid_template_areas": null,
            "object_position": null,
            "object_fit": null,
            "grid_auto_columns": null,
            "margin": null,
            "display": null,
            "left": null
          }
        },
        "ed0e33f1ea0a478cb64bcbbfa1aee641": {
          "model_module": "@jupyter-widgets/controls",
          "model_name": "HBoxModel",
          "state": {
            "_view_name": "HBoxView",
            "_dom_classes": [],
            "_model_name": "HBoxModel",
            "_view_module": "@jupyter-widgets/controls",
            "_model_module_version": "1.5.0",
            "_view_count": null,
            "_view_module_version": "1.5.0",
            "box_style": "",
            "layout": "IPY_MODEL_c4c144afc0724509b126b75a0543f253",
            "_model_module": "@jupyter-widgets/controls",
            "children": [
              "IPY_MODEL_16ebb40029b849278ebe7b2a4632ac62",
              "IPY_MODEL_a676f589bded4fde931f14998d92587d"
            ]
          }
        },
        "c4c144afc0724509b126b75a0543f253": {
          "model_module": "@jupyter-widgets/base",
          "model_name": "LayoutModel",
          "state": {
            "_view_name": "LayoutView",
            "grid_template_rows": null,
            "right": null,
            "justify_content": null,
            "_view_module": "@jupyter-widgets/base",
            "overflow": null,
            "_model_module_version": "1.2.0",
            "_view_count": null,
            "flex_flow": null,
            "width": null,
            "min_width": null,
            "border": null,
            "align_items": null,
            "bottom": null,
            "_model_module": "@jupyter-widgets/base",
            "top": null,
            "grid_column": null,
            "overflow_y": null,
            "overflow_x": null,
            "grid_auto_flow": null,
            "grid_area": null,
            "grid_template_columns": null,
            "flex": null,
            "_model_name": "LayoutModel",
            "justify_items": null,
            "grid_row": null,
            "max_height": null,
            "align_content": null,
            "visibility": null,
            "align_self": null,
            "height": null,
            "min_height": null,
            "padding": null,
            "grid_auto_rows": null,
            "grid_gap": null,
            "max_width": null,
            "order": null,
            "_view_module_version": "1.2.0",
            "grid_template_areas": null,
            "object_position": null,
            "object_fit": null,
            "grid_auto_columns": null,
            "margin": null,
            "display": null,
            "left": null
          }
        },
        "16ebb40029b849278ebe7b2a4632ac62": {
          "model_module": "@jupyter-widgets/controls",
          "model_name": "FloatProgressModel",
          "state": {
            "_view_name": "ProgressView",
            "style": "IPY_MODEL_e8837f1703654a77a017bb9867825259",
            "_dom_classes": [],
            "description": " 97%",
            "_model_name": "FloatProgressModel",
            "bar_style": "danger",
            "max": 50000,
            "_view_module": "@jupyter-widgets/controls",
            "_model_module_version": "1.5.0",
            "value": 48366,
            "_view_count": null,
            "_view_module_version": "1.5.0",
            "orientation": "horizontal",
            "min": 0,
            "description_tooltip": null,
            "_model_module": "@jupyter-widgets/controls",
            "layout": "IPY_MODEL_cc7bea6d260e4ac0b558310b23f7e9ce"
          }
        },
        "a676f589bded4fde931f14998d92587d": {
          "model_module": "@jupyter-widgets/controls",
          "model_name": "HTMLModel",
          "state": {
            "_view_name": "HTMLView",
            "style": "IPY_MODEL_ef7f1a34a7904f9aaca7a86c85fb4683",
            "_dom_classes": [],
            "description": "",
            "_model_name": "HTMLModel",
            "placeholder": "​",
            "_view_module": "@jupyter-widgets/controls",
            "_model_module_version": "1.5.0",
            "value": " 48366/50000 [00:00&lt;00:00, 34677.81 examples/s]",
            "_view_count": null,
            "_view_module_version": "1.5.0",
            "description_tooltip": null,
            "_model_module": "@jupyter-widgets/controls",
            "layout": "IPY_MODEL_81e4826466e64e61b039355da3e934ec"
          }
        },
        "e8837f1703654a77a017bb9867825259": {
          "model_module": "@jupyter-widgets/controls",
          "model_name": "ProgressStyleModel",
          "state": {
            "_view_name": "StyleView",
            "_model_name": "ProgressStyleModel",
            "description_width": "initial",
            "_view_module": "@jupyter-widgets/base",
            "_model_module_version": "1.5.0",
            "_view_count": null,
            "_view_module_version": "1.2.0",
            "bar_color": null,
            "_model_module": "@jupyter-widgets/controls"
          }
        },
        "cc7bea6d260e4ac0b558310b23f7e9ce": {
          "model_module": "@jupyter-widgets/base",
          "model_name": "LayoutModel",
          "state": {
            "_view_name": "LayoutView",
            "grid_template_rows": null,
            "right": null,
            "justify_content": null,
            "_view_module": "@jupyter-widgets/base",
            "overflow": null,
            "_model_module_version": "1.2.0",
            "_view_count": null,
            "flex_flow": null,
            "width": null,
            "min_width": null,
            "border": null,
            "align_items": null,
            "bottom": null,
            "_model_module": "@jupyter-widgets/base",
            "top": null,
            "grid_column": null,
            "overflow_y": null,
            "overflow_x": null,
            "grid_auto_flow": null,
            "grid_area": null,
            "grid_template_columns": null,
            "flex": null,
            "_model_name": "LayoutModel",
            "justify_items": null,
            "grid_row": null,
            "max_height": null,
            "align_content": null,
            "visibility": null,
            "align_self": null,
            "height": null,
            "min_height": null,
            "padding": null,
            "grid_auto_rows": null,
            "grid_gap": null,
            "max_width": null,
            "order": null,
            "_view_module_version": "1.2.0",
            "grid_template_areas": null,
            "object_position": null,
            "object_fit": null,
            "grid_auto_columns": null,
            "margin": null,
            "display": null,
            "left": null
          }
        },
        "ef7f1a34a7904f9aaca7a86c85fb4683": {
          "model_module": "@jupyter-widgets/controls",
          "model_name": "DescriptionStyleModel",
          "state": {
            "_view_name": "StyleView",
            "_model_name": "DescriptionStyleModel",
            "description_width": "",
            "_view_module": "@jupyter-widgets/base",
            "_model_module_version": "1.5.0",
            "_view_count": null,
            "_view_module_version": "1.2.0",
            "_model_module": "@jupyter-widgets/controls"
          }
        },
        "81e4826466e64e61b039355da3e934ec": {
          "model_module": "@jupyter-widgets/base",
          "model_name": "LayoutModel",
          "state": {
            "_view_name": "LayoutView",
            "grid_template_rows": null,
            "right": null,
            "justify_content": null,
            "_view_module": "@jupyter-widgets/base",
            "overflow": null,
            "_model_module_version": "1.2.0",
            "_view_count": null,
            "flex_flow": null,
            "width": null,
            "min_width": null,
            "border": null,
            "align_items": null,
            "bottom": null,
            "_model_module": "@jupyter-widgets/base",
            "top": null,
            "grid_column": null,
            "overflow_y": null,
            "overflow_x": null,
            "grid_auto_flow": null,
            "grid_area": null,
            "grid_template_columns": null,
            "flex": null,
            "_model_name": "LayoutModel",
            "justify_items": null,
            "grid_row": null,
            "max_height": null,
            "align_content": null,
            "visibility": null,
            "align_self": null,
            "height": null,
            "min_height": null,
            "padding": null,
            "grid_auto_rows": null,
            "grid_gap": null,
            "max_width": null,
            "order": null,
            "_view_module_version": "1.2.0",
            "grid_template_areas": null,
            "object_position": null,
            "object_fit": null,
            "grid_auto_columns": null,
            "margin": null,
            "display": null,
            "left": null
          }
        }
      }
    }
  },
  "cells": [
    {
      "cell_type": "markdown",
      "metadata": {
        "id": "view-in-github",
        "colab_type": "text"
      },
      "source": [
        "<a href=\"https://colab.research.google.com/github/adhadse/colab_repo/blob/master/homl/Ch%2016%20Natural%20Language%20Processing%20with%20RNNs%20and%20Attention.ipynb\" target=\"_parent\"><img src=\"https://colab.research.google.com/assets/colab-badge.svg\" alt=\"Open In Colab\"/></a>"
      ]
    },
    {
      "cell_type": "markdown",
      "metadata": {
        "id": "z0OeTqB4qlhe"
      },
      "source": [
        "# Chapter 16: Natural Language Processing with RNNs and Attention\n",
        "This work is partialy combined text and code from the book [Hands-On Machine Learning with Scikit-Learn, Keras, and TensorFlow, 2nd Edition](https://www.oreilly.com/library/view/hands-on-machine-learning/9781492032632/) and is only supposed to be used as reference and recommended to follow along with a copy of the Book puchased. "
      ]
    },
    {
      "cell_type": "markdown",
      "metadata": {
        "id": "6QAX_i-Aq_BF"
      },
      "source": [
        "We will begin the chapter with *chracter RNN*, train it to predict the next character in a sentence. \n",
        "- We will first use a *Stateless RNN* (which learns on random portions of text at each iteration, without any information on the rest of the text. \n",
        "- We will then use a *stateful RNN* (preserves the hidden state between training iterations and continuous reading where it left off).\n",
        "\n",
        "Then we will build an RNN to perform sentiment analysis.\n",
        "\n",
        "We will also use RNN to build an Encoder-Decoder to perform neural machine translation (NMT).\n",
        "\n",
        "In the second part, the focus will be on *attention mechanisms*. These are Neural network components that learn to select the part of the inputs that the rest of the model should focus on at each time step. Then we look at attention only architecture called the *Transformer*."
      ]
    },
    {
      "cell_type": "code",
      "metadata": {
        "id": "lWGnqmBCwI3J"
      },
      "source": [
        "import tensorflow as tf\n",
        "import tensorflow.keras as keras\n",
        "import numpy as np"
      ],
      "execution_count": 1,
      "outputs": []
    },
    {
      "cell_type": "code",
      "metadata": {
        "id": "jX5Xtgj5fx58",
        "colab": {
          "base_uri": "https://localhost:8080/"
        },
        "outputId": "2ef5dd31-126c-4242-cb89-5657cfa4bc06"
      },
      "source": [
        "# Python ≥3.5 is required\n",
        "import sys\n",
        "assert sys.version_info >= (3, 5)\n",
        "\n",
        "# Is this notebook running on Colab or Kaggle?\n",
        "IS_COLAB = \"google.colab\" in sys.modules\n",
        "IS_KAGGLE = \"kaggle_secrets\" in sys.modules\n",
        "\n",
        "if IS_COLAB:\n",
        "    !pip install -q -U tensorflow-addons\n",
        "    !pip install -q -U transformers\n",
        "\n",
        "# Scikit-Learn ≥0.20 is required\n",
        "import sklearn\n",
        "assert sklearn.__version__ >= \"0.20\"\n",
        "\n",
        "# TensorFlow ≥2.0 is required\n",
        "import tensorflow as tf\n",
        "from tensorflow import keras\n",
        "assert tf.__version__ >= \"2.0\"\n",
        "\n",
        "if not tf.config.list_physical_devices('GPU'):\n",
        "    print(\"No GPU was detected. LSTMs and CNNs can be very slow without a GPU.\")\n",
        "    if IS_COLAB:\n",
        "        print(\"Go to Runtime > Change runtime and select a GPU hardware accelerator.\")\n",
        "    if IS_KAGGLE:\n",
        "        print(\"Go to Settings > Accelerator and select GPU.\")\n"
      ],
      "execution_count": null,
      "outputs": [
        {
          "output_type": "stream",
          "text": [
            "\u001b[K     |████████████████████████████████| 686kB 7.1MB/s \n",
            "\u001b[K     |████████████████████████████████| 2.3MB 6.8MB/s \n",
            "\u001b[K     |████████████████████████████████| 901kB 46.2MB/s \n",
            "\u001b[K     |████████████████████████████████| 3.3MB 32.3MB/s \n",
            "\u001b[?25hNo GPU was detected. LSTMs and CNNs can be very slow without a GPU.\n",
            "Go to Runtime > Change runtime and select a GPU hardware accelerator.\n"
          ],
          "name": "stdout"
        }
      ]
    },
    {
      "cell_type": "code",
      "metadata": {
        "colab": {
          "base_uri": "https://localhost:8080/"
        },
        "id": "8A0-4Te-gA1r",
        "outputId": "75c1dbb6-c62e-48c3-c1ff-7fdf3785aa17"
      },
      "source": [
        "tf.config.list_physical_devices('GPU')"
      ],
      "execution_count": null,
      "outputs": [
        {
          "output_type": "execute_result",
          "data": {
            "text/plain": [
              "[PhysicalDevice(name='/physical_device:GPU:0', device_type='GPU')]"
            ]
          },
          "metadata": {
            "tags": []
          },
          "execution_count": 4
        }
      ]
    },
    {
      "cell_type": "markdown",
      "metadata": {
        "id": "WF4FFGsBqcJ2"
      },
      "source": [
        "# Generating Shakespearean Text Using a Character RNN\n",
        "Let's build a Character RNN. For that we create a Training Dataset.\n",
        "\n",
        "## Stateless RNN\n",
        "<mark>At each training iteration the model starts with a hidden state full of zeros, then it updates this state at each time step, and then it throws it away.</mark>"
      ]
    },
    {
      "cell_type": "markdown",
      "metadata": {
        "id": "8B0GcJCqvjeM"
      },
      "source": [
        "## Creating the Training Dataset\n",
        "First, let's download all of Shakersperare's work using keras `get_file()` function."
      ]
    },
    {
      "cell_type": "code",
      "metadata": {
        "id": "QKtjhqTWQ9rF"
      },
      "source": [
        "shakespeare_url = \"https://raw.githubusercontent.com/karpathy/char-rnn/master/data/tinyshakespeare/input.txt\"\n",
        "filepath = keras.utils.get_file(\"shakespeare.txt\", shakespeare_url)\n",
        "with open(filepath) as f:\n",
        "  shakespeare_text = f.read()"
      ],
      "execution_count": null,
      "outputs": []
    },
    {
      "cell_type": "code",
      "metadata": {
        "id": "iluupzzWB4bp"
      },
      "source": [
        "\"\".join(sorted(set(shakespeare_text.lower())))"
      ],
      "execution_count": null,
      "outputs": []
    },
    {
      "cell_type": "markdown",
      "metadata": {
        "id": "C6Nfy7eDyPCB"
      },
      "source": [
        "Then we will encode every character as an integer. For that we first fit `Tokenizer` on our text."
      ]
    },
    {
      "cell_type": "code",
      "metadata": {
        "id": "icLIy49ca5Wc"
      },
      "source": [
        "tokenizer = keras.preprocessing.text.Tokenizer(char_level=True) # set every character to treat as token\n",
        "tokenizer.fit_on_texts(shakespeare_text)"
      ],
      "execution_count": null,
      "outputs": []
    },
    {
      "cell_type": "code",
      "metadata": {
        "colab": {
          "base_uri": "https://localhost:8080/"
        },
        "id": "CTaciaK4zIJM",
        "outputId": "62fca4c6-40a8-4f3c-b546-2bb087f779bd"
      },
      "source": [
        "tokenizer.texts_to_sequences([\"First\"])"
      ],
      "execution_count": null,
      "outputs": [
        {
          "output_type": "execute_result",
          "data": {
            "text/plain": [
              "[[20, 6, 9, 8, 3]]"
            ]
          },
          "metadata": {
            "tags": []
          },
          "execution_count": 23
        }
      ]
    },
    {
      "cell_type": "code",
      "metadata": {
        "colab": {
          "base_uri": "https://localhost:8080/"
        },
        "id": "ZztR_HFuzwap",
        "outputId": "07041264-cb8e-4a37-9d6e-d049456e6c16"
      },
      "source": [
        "tokenizer.sequences_to_texts([[20, 6, 9, 8, 3]])"
      ],
      "execution_count": null,
      "outputs": [
        {
          "output_type": "execute_result",
          "data": {
            "text/plain": [
              "['f i r s t']"
            ]
          },
          "metadata": {
            "tags": []
          },
          "execution_count": 24
        }
      ]
    },
    {
      "cell_type": "code",
      "metadata": {
        "colab": {
          "base_uri": "https://localhost:8080/"
        },
        "id": "6mHRK2a1z7eq",
        "outputId": "f18c1a22-058c-40ee-8f57-400173c7e0b3"
      },
      "source": [
        "max_id = len(tokenizer.word_index)    # number of distinct characters\n",
        "max_id"
      ],
      "execution_count": null,
      "outputs": [
        {
          "output_type": "execute_result",
          "data": {
            "text/plain": [
              "39"
            ]
          },
          "metadata": {
            "tags": []
          },
          "execution_count": 25
        }
      ]
    },
    {
      "cell_type": "code",
      "metadata": {
        "colab": {
          "base_uri": "https://localhost:8080/"
        },
        "id": "EbFaA74H0GG5",
        "outputId": "cbee1ea2-1ee7-43ac-d5e0-bd2d24d5e1e8"
      },
      "source": [
        "dataset_size = tokenizer.document_count # total number of characters\n",
        "dataset_size"
      ],
      "execution_count": null,
      "outputs": [
        {
          "output_type": "execute_result",
          "data": {
            "text/plain": [
              "1115394"
            ]
          },
          "metadata": {
            "tags": []
          },
          "execution_count": 26
        }
      ]
    },
    {
      "cell_type": "markdown",
      "metadata": {
        "id": "mJn2bbHO8E8y"
      },
      "source": [
        "Then we'll encode the full text. "
      ]
    },
    {
      "cell_type": "code",
      "metadata": {
        "id": "Q9TvLckt0mJh"
      },
      "source": [
        "# we subtract by 1 to represent IDs from 0 to 38 \n",
        "# rather than from 1 to 39\n",
        "[encoded] = np.array(tokenizer.texts_to_sequences([shakespeare_text])) - 1"
      ],
      "execution_count": null,
      "outputs": []
    },
    {
      "cell_type": "markdown",
      "metadata": {
        "id": "oJCsR_JR82mt"
      },
      "source": [
        "## How to Split a Sequential Dataset\n",
        "It's often simpler to split time series across time but this assumes pattern RNN cann learn in past will still exist in the future, i.e., the time series is *stationary*.\n",
        "\n",
        "<mark> To make sure the time series is indeed sufficiently stationary, you can plot the model's errors on the validation set across time: if the model performs much bettter on the the first part of the validations set than on the last part, then the time series may not be stationary enough, and we might need be better off training the model on a shorter time span.</mark>\n",
        "\n",
        "Create `tf.data.Dataset` and take first 90% of the text for the training set."
      ]
    },
    {
      "cell_type": "code",
      "metadata": {
        "id": "dLfbMaaoXkPy"
      },
      "source": [
        "train_size = dataset_size * 90 // 100\n",
        "dataset = tf.data.Dataset.from_tensor_slices(encoded[:train_size])"
      ],
      "execution_count": null,
      "outputs": []
    },
    {
      "cell_type": "markdown",
      "metadata": {
        "id": "PjPwDmp5ilqs"
      },
      "source": [
        "## Chopping the Sequential Dataset into Multiple Windows\n",
        "Right now our dataset is a a very long single sequence. Feeding it to RNN will make it behave as a deep net with overr a million layers.\n",
        "\n",
        "Using `window()` method we can convert this long sequence of characters into many smaller windows of text. Every instance in the dataset  will be fairly short substring of the whole text, making the RNN roll over the lenth of these substrings. This is called ***truncated backpropagation through time***.\n",
        "\n",
        "> 🟢<mark>It's easier to train RNNs on shorter input sequences</mark>, but **RNN will not be able to learn any pattern longer than `n_steps`.**\n"
      ]
    },
    {
      "cell_type": "code",
      "metadata": {
        "id": "kEcA5qSxY6ME"
      },
      "source": [
        "n_steps = 100 # length of input sequence\n",
        "window_length = n_steps + 1 # target = input shifted 1 character ahead\n",
        "dataset = dataset.window(window_length, \n",
        "                         shift=1,     # By default it creates nonoverlapping windows But we wanted largest dataset possible \n",
        "                         drop_remainder=True)    # Ensures that all windows are exactly 101 characters long \n",
        "                                                 # allowing to create batches without having to do any padding\n"
      ],
      "execution_count": null,
      "outputs": []
    },
    {
      "cell_type": "markdown",
      "metadata": {
        "id": "lG0SZ1tWmfrF"
      },
      "source": [
        "<mark>The `window()` method creates a dataset that contains windows, each of which is also represented as a dataset.</mark> This is termed as *nested dataset*.\n",
        "\n",
        "But or model expects tensors as input, not datasets, so we need to convert it to *flat dataset* using `flat_map()`."
      ]
    },
    {
      "cell_type": "code",
      "metadata": {
        "id": "EBygTq-cmeo7"
      },
      "source": [
        "# create a dataset from dataset of datasets\n",
        "# while also converting datasets to tensors and batching them: creating a tensor for each batch\n",
        "\n",
        "dataset = dataset.flat_map(lambda window: window.batch(window_length)) "
      ],
      "execution_count": null,
      "outputs": []
    },
    {
      "cell_type": "markdown",
      "metadata": {
        "id": "vBLN-4-voF1D"
      },
      "source": [
        "Since the gradient Descent works best when instances in the training set are independent and identically distributed, we <mark>shuffle the widows</mark>"
      ]
    },
    {
      "cell_type": "code",
      "metadata": {
        "id": "66UiWpI0oGty"
      },
      "source": [
        "# A batch of 32 instances\n",
        "# each tensor of length 101 encoded charaters\n",
        "batch_size = 32\n",
        "dataset = dataset.shuffle(10000).batch(batch_size)\n",
        "\n",
        "# separate the inputs (the first 100 characters) from the target (the last character)\n",
        "dataset = dataset.map(lambda windows: (windows[:, :-1], windows[:, 1:]))"
      ],
      "execution_count": null,
      "outputs": []
    },
    {
      "cell_type": "markdown",
      "metadata": {
        "id": "XpkfTV6FoHIR"
      },
      "source": [
        "Next, we encode the categorical input features as one-hot vectors. We can even do embedding but the categories are far less than 50, So."
      ]
    },
    {
      "cell_type": "code",
      "metadata": {
        "id": "g4eTQsdDoI1p"
      },
      "source": [
        "dataset = dataset.map(\n",
        "    lambda X_batch, y_batch: (tf.one_hot(X_batch, depth=max_id), y_batch)\n",
        ")"
      ],
      "execution_count": null,
      "outputs": []
    },
    {
      "cell_type": "markdown",
      "metadata": {
        "id": "_aDpg51_oJYD"
      },
      "source": [
        "And add the prefetch."
      ]
    },
    {
      "cell_type": "code",
      "metadata": {
        "id": "L5aRJYOFoJzs"
      },
      "source": [
        "dataset = dataset.prefetch(1)"
      ],
      "execution_count": null,
      "outputs": []
    },
    {
      "cell_type": "code",
      "metadata": {
        "colab": {
          "base_uri": "https://localhost:8080/"
        },
        "id": "b7VidGPW_fRS",
        "outputId": "b7534897-ee9c-489b-b361-364bc680896a"
      },
      "source": [
        "for X_batch, Y_batch in dataset.take(1):\n",
        "  print(X_batch.shape, Y_batch.shape)"
      ],
      "execution_count": null,
      "outputs": [
        {
          "output_type": "stream",
          "text": [
            "(32, 100, 39) (32, 100)\n"
          ],
          "name": "stdout"
        }
      ]
    },
    {
      "cell_type": "markdown",
      "metadata": {
        "id": "lpzudbIPy7ld"
      },
      "source": [
        "## Building and Training the Char-RNN Model\n"
      ]
    },
    {
      "cell_type": "code",
      "metadata": {
        "colab": {
          "base_uri": "https://localhost:8080/"
        },
        "id": "dRvJzXrdy6Ot",
        "outputId": "452aaef5-ee85-42cd-915f-10b26ad9b036"
      },
      "source": [
        "model = keras.models.Sequential([\n",
        "    keras.layers.GRU(128, return_sequences=True, \n",
        "                     input_shape=(None, max_id),\n",
        "                     dropout=0.2,\n",
        "                     recurrent_dropout=0.2),\n",
        "    keras.layers.GRU(120, return_sequences=True,\n",
        "                     dropout=0.2,\n",
        "                     recurrent_dropout=0.2),\n",
        "    keras.layers.TimeDistributed(keras.layers.Dense(max_id,\n",
        "                                                    activation=\"softmax\"))\n",
        "])\n",
        "\n",
        "my_checkpoint = keras.callbacks.ModelCheckpoint(\"Char_RNN.h5\")\n",
        "model.compile(loss=\"sparse_categorical_crossentropy\", optimizer=\"adam\")\n",
        "history = model.fit(dataset, epochs=20, callbacks=[my_checkpoint])"
      ],
      "execution_count": null,
      "outputs": [
        {
          "output_type": "stream",
          "text": [
            "WARNING:tensorflow:Layer gru_4 will not use cuDNN kernels since it doesn't meet the criteria. It will use a generic GPU kernel as fallback when running on GPU.\n",
            "WARNING:tensorflow:Layer gru_5 will not use cuDNN kernels since it doesn't meet the criteria. It will use a generic GPU kernel as fallback when running on GPU.\n",
            "Epoch 1/20\n",
            "  21023/Unknown - 12074s 573ms/step - loss: 1.5041"
          ],
          "name": "stdout"
        }
      ]
    },
    {
      "cell_type": "markdown",
      "metadata": {
        "id": "OBKcfA-3DG0q"
      },
      "source": [
        "## Using the Char-RNN Model\n",
        "To predict the next character in text, we first need to precprocess it."
      ]
    },
    {
      "cell_type": "code",
      "metadata": {
        "id": "UZT_HBWW8fCd"
      },
      "source": [
        "def preprocess(texts):\n",
        "  X = np.array(tokenizer.texts_to_sequences(texts)) - 1\n",
        "  return tf.one_hot(X, max_id)\n",
        "\n",
        "X_new = precprocess([\"how are yo\"])\n",
        "Y_pred = model.predict_classes(X_new)\n",
        "tokenizer.sequences_to_text(Y_pred + 1)[0][-1] # 1st sentence last character"
      ],
      "execution_count": null,
      "outputs": []
    },
    {
      "cell_type": "markdown",
      "metadata": {
        "id": "CidEW6IwHKQu"
      },
      "source": [
        "## Generating Fake Shakespearean Text\n",
        "<mark> We can pick the next character randomly, with a probability equal to the estimated probability, </mark> using `tf.random.categorical()` function.\n",
        "\n",
        "`categorical()` function samples random class indices, give the class log probabilities (logits).\n",
        "\n",
        "To control the diversity of character, we <mark>divide the logits by a number called  the *temperature*. \n",
        "  \n",
        "Temperature close to 0, favors the high probability characters, whereas very high value give all characters an equal probability."
      ]
    },
    {
      "cell_type": "code",
      "metadata": {
        "id": "J4C_rrMkGZpF"
      },
      "source": [
        "def next_char(text, temperature): \n",
        "  X_new = preprocess([text])\n",
        "  y_proba = model.predict(X_new)[0, -1, :]\n",
        "  rescaled_logits = tf.math.log(y_proba) / temperature\n",
        "  char_id = tf.random.categorical(rescaled_logits, num_samples=1) + 1\n",
        "  return tokenizer.sequences_to_text(char_id.numpy())[0]"
      ],
      "execution_count": null,
      "outputs": []
    },
    {
      "cell_type": "markdown",
      "metadata": {
        "id": "FOsweDAbWNDg"
      },
      "source": [
        "Next, we repeatedly call `next_char()` to get the next character."
      ]
    },
    {
      "cell_type": "code",
      "metadata": {
        "id": "j99uch5qWX1T"
      },
      "source": [
        "def complete_text(text, n_chars=50, temperature=1):\n",
        "  for _ in range(n_chars):\n",
        "    text += next_char(text, temperature)\n",
        "    return text"
      ],
      "execution_count": null,
      "outputs": []
    },
    {
      "cell_type": "markdown",
      "metadata": {
        "id": "3JMWRVhCWq21"
      },
      "source": [
        "Let's generate some texts."
      ]
    },
    {
      "cell_type": "code",
      "metadata": {
        "id": "cXMCUaWtWm-3"
      },
      "source": [
        "print(complete_text(\"t\", temperature=0.2))"
      ],
      "execution_count": null,
      "outputs": []
    },
    {
      "cell_type": "code",
      "metadata": {
        "id": "xp09-VK8W5cX"
      },
      "source": [
        "print(complete_text(\"w\", temperature=1))"
      ],
      "execution_count": null,
      "outputs": []
    },
    {
      "cell_type": "code",
      "metadata": {
        "id": "Nll5CEkGW_SD"
      },
      "source": [
        "print(complete_text(\"w\", temperature=2))"
      ],
      "execution_count": null,
      "outputs": []
    },
    {
      "cell_type": "markdown",
      "metadata": {
        "id": "gIKe2RkwXHxr"
      },
      "source": [
        "# Stateful RNN\n",
        "<mark>Stateful RNNs can preserve the final state after processing one training batch and use it as initial state for the next batch.</mark>\n",
        "\n",
        "For that to become true, <mark>stateful RNNs require sequential and nonoverlapping input sequences.</mark>, i.e., \n",
        "- make `shift=n_steps`\n",
        "- *not* call the `shuffle()` method.\n",
        "\n",
        "Batching becomes harder as the frame will not be consecutive(to begin where it left off). One solution is to just `batch(1)`."
      ]
    },
    {
      "cell_type": "code",
      "metadata": {
        "id": "tp2ing5ndDBv"
      },
      "source": [
        "dataset = tf.data.Dataset.from_tensor_slices(encoded[:train_size])\n",
        "dataset = dataset.window(window_length, shift=n_steps, drop_remainder=True)\n",
        "dataset = dataset.flat_map(lambda window: window.batch(window_length))\n",
        "dataset = dataset.batch(1)\n",
        "dataset = dataset.map(lambda windows: (window[:, :-1], windows[:, 1:]))\n",
        "dataset = datset.map(\n",
        "    lambda X_batch, y_batch: (tf.one_hot(X_batch, depth=max_id), y_batch)\n",
        ")\n",
        "dataset = dataset.prefetch(1)"
      ],
      "execution_count": null,
      "outputs": []
    },
    {
      "cell_type": "markdown",
      "metadata": {
        "id": "DjFaD8062kRW"
      },
      "source": [
        "When creating stateful RNN model:\n",
        "- set `stateful=True` when creating every recurrent layer.\n",
        "- RNN need to know the batch size, so do set `batch_input_shape` for the first layer."
      ]
    },
    {
      "cell_type": "code",
      "metadata": {
        "id": "C7QzMP_t2Tbi"
      },
      "source": [
        "model = keras.models.Sequential([\n",
        "    keras.layers.GRU(128, return_sequences=True,\n",
        "                     stateful=True,\n",
        "                     dropout=0.2, \n",
        "                     recurrent_dropout=0.2,\n",
        "                     batch_input_shape=[batch_size, None, max_id]),\n",
        "    keras.layers.GRU(128, return_sequences=True,\n",
        "                     stateful=True,\n",
        "                     dropout=0.2, \n",
        "                     recurrent_dropout=0.2),\n",
        "    keras.layers.TimeDistributed(keras.layers.Dense(max_id, activation=\"softmax\"))\n",
        "])"
      ],
      "execution_count": null,
      "outputs": []
    },
    {
      "cell_type": "markdown",
      "metadata": {
        "id": "glJ3ZY6hW5AE"
      },
      "source": [
        "At the end of each epoch, we need to reset the states before we go back to the beginning of the text. For this, we can use a small callback:"
      ]
    },
    {
      "cell_type": "code",
      "metadata": {
        "id": "yIOO4pRfBOtS"
      },
      "source": [
        "class ResetStatesCallback(keras.callbacks.Callback):\n",
        "  def on_epoch_begin(self, epoch, logs):\n",
        "    self.model.reset_states()"
      ],
      "execution_count": null,
      "outputs": []
    },
    {
      "cell_type": "markdown",
      "metadata": {
        "id": "h1vMQQw7Bh3F"
      },
      "source": [
        "We'll train  it for more epochs, because each epoch is much shorter than earlier, and there is only one instance per batch)."
      ]
    },
    {
      "cell_type": "code",
      "metadata": {
        "id": "368S2RI5B8df"
      },
      "source": [
        "model.compile(loss=\"sparse_categorical_crossentropy\",\n",
        "              optimizer=\"adam\")\n",
        "model.fit(dataset, epochs=50, callbacks=[ResetStatesCallback()])"
      ],
      "execution_count": null,
      "outputs": []
    },
    {
      "cell_type": "markdown",
      "metadata": {
        "id": "71Ti6kXrCbIN"
      },
      "source": [
        ">🟢The trained model will require an input batches of the same size as it was trained. <mark>To uplift the restriction, create an identical *Stateless* model and copy the stateful model's weight to this model.</mark>\n",
        "\n",
        "Now, let's do some *sentiment analysis*: using some word-level models."
      ]
    },
    {
      "cell_type": "markdown",
      "metadata": {
        "id": "rB47RSmRDE7u"
      },
      "source": [
        "# Sentiment Analysis\n",
        "on IMDb reviews dataset. Let's load it."
      ]
    },
    {
      "cell_type": "code",
      "metadata": {
        "id": "mdyK5yQvDETw",
        "colab": {
          "base_uri": "https://localhost:8080/"
        },
        "outputId": "288d8c37-8794-4371-e193-973e54ba177a"
      },
      "source": [
        "(X_train, y_train), (X_text, y_test) = keras.datasets.imdb.load_data()"
      ],
      "execution_count": null,
      "outputs": [
        {
          "output_type": "stream",
          "text": [
            "Downloading data from https://storage.googleapis.com/tensorflow/tf-keras-datasets/imdb.npz\n",
            "17465344/17464789 [==============================] - 0s 0us/step\n"
          ],
          "name": "stdout"
        },
        {
          "output_type": "stream",
          "text": [
            "<string>:6: VisibleDeprecationWarning: Creating an ndarray from ragged nested sequences (which is a list-or-tuple of lists-or-tuples-or ndarrays with different lengths or shapes) is deprecated. If you meant to do this, you must specify 'dtype=object' when creating the ndarray\n",
            "/usr/local/lib/python3.7/dist-packages/tensorflow/python/keras/datasets/imdb.py:155: VisibleDeprecationWarning: Creating an ndarray from ragged nested sequences (which is a list-or-tuple of lists-or-tuples-or ndarrays with different lengths or shapes) is deprecated. If you meant to do this, you must specify 'dtype=object' when creating the ndarray\n",
            "  x_train, y_train = np.array(xs[:idx]), np.array(labels[:idx])\n",
            "/usr/local/lib/python3.7/dist-packages/tensorflow/python/keras/datasets/imdb.py:156: VisibleDeprecationWarning: Creating an ndarray from ragged nested sequences (which is a list-or-tuple of lists-or-tuples-or ndarrays with different lengths or shapes) is deprecated. If you meant to do this, you must specify 'dtype=object' when creating the ndarray\n",
            "  x_test, y_test = np.array(xs[idx:]), np.array(labels[idx:])\n"
          ],
          "name": "stderr"
        }
      ]
    },
    {
      "cell_type": "code",
      "metadata": {
        "colab": {
          "base_uri": "https://localhost:8080/"
        },
        "id": "UayjlPV6B4Dw",
        "outputId": "e0fe335e-44f7-45da-b356-42fb47061353"
      },
      "source": [
        "X_train[0][:10]"
      ],
      "execution_count": null,
      "outputs": [
        {
          "output_type": "execute_result",
          "data": {
            "text/plain": [
              "[1, 14, 22, 16, 43, 530, 973, 1622, 1385, 65]"
            ]
          },
          "metadata": {
            "tags": []
          },
          "execution_count": 6
        }
      ]
    },
    {
      "cell_type": "markdown",
      "metadata": {
        "id": "LhSXo2oeEClm"
      },
      "source": [
        "`X_train` consists of a list of reviews, each of which is represented as a NumPy array of integers, where each integer represents a word.\n",
        "\n",
        "The integers 0, 1, and 2 are special: they represent the padding token, the *start-of-sequences* (SSS) token, and unknown words, respectively."
      ]
    },
    {
      "cell_type": "code",
      "metadata": {
        "colab": {
          "base_uri": "https://localhost:8080/",
          "height": 71
        },
        "id": "qpFzyLETBAt7",
        "outputId": "c456f993-f323-45a9-b157-f81edaac6208"
      },
      "source": [
        "word_index = keras.datasets.imdb.get_word_index()\n",
        "id_to_word = {id_ + 3: word for word, id_ in word_index.items()} # get dic with id:word with ids>=3\n",
        "for id_, token in enumerate((\"<pad>\", \"<sos>\", \"<unk>\")):\n",
        "  # assign the special tokens to id 0, 1, 2\n",
        "  id_to_word[id_] = token\n",
        "\n",
        "\" \".join([id_to_word[id_] for id_ in X_train[0][:10]])"
      ],
      "execution_count": null,
      "outputs": [
        {
          "output_type": "stream",
          "text": [
            "Downloading data from https://storage.googleapis.com/tensorflow/tf-keras-datasets/imdb_word_index.json\n",
            "1646592/1641221 [==============================] - 0s 0us/step\n"
          ],
          "name": "stdout"
        },
        {
          "output_type": "execute_result",
          "data": {
            "application/vnd.google.colaboratory.intrinsic+json": {
              "type": "string"
            },
            "text/plain": [
              "'<sos> this film was just brilliant casting location scenery story'"
            ]
          },
          "metadata": {
            "tags": []
          },
          "execution_count": 7
        }
      ]
    },
    {
      "cell_type": "markdown",
      "metadata": {
        "id": "W5N5_sINKwH6"
      },
      "source": [
        "This data is already preprocessed. When you want to deploy your model to different platforms, we would want  the data to preprocessed to make predictions; for which we reuiqre to it to postable and hence usig TensorFlow operations.\n",
        "\n",
        "Let's load the original IMDb reviews using TensorFlow Datasets."
      ]
    },
    {
      "cell_type": "code",
      "metadata": {
        "id": "T7OwfIXuD7Ne",
        "colab": {
          "base_uri": "https://localhost:8080/",
          "height": 374,
          "referenced_widgets": [
            "4e71d5964ad8439783292a4be7a2c392",
            "62f622f4eba9440589f2ea112bf31153",
            "b0fde53b77e6414289143aff0e73c63d",
            "d74fd22c106f49cc8f633f310655ea87",
            "635e706ff9254fe2b2b3fa78729cffca",
            "ca77010003ed4572afb4f45c8fb8f2a3",
            "fa5d9b53a8714e5398800b57ed7962a2",
            "48bc0f91a572447081b58ae4884b1d42",
            "c1f7e17c22334d77ab0dbe0d485eca84",
            "ce05cadb83104216b75c53d33ffcf1ac",
            "c180444d599d492aa4f57dbc6d3d7302",
            "4b6f927fe6b64c6fb6c6b21a8b629136",
            "d1b0267ec3d24d519f64c4a440dd59ca",
            "eebbea85bc86466bbf41d18c3df164ae",
            "ca5b6742331a48bdbb3f2ce66ad98bcd",
            "90a31a06bcf4458da5c2e48e285968b6",
            "ec18e664608e404aa3e985a48e0ca781",
            "de2d061b7641421d85bfc42cc0d1d4da",
            "6f2cca7df4e947bc9749ee79fca9678a",
            "eb6170c34e5f4645acf5ad059728b3f7",
            "2a83ffe8dc1246ad9a1aa72486248aef",
            "68ae9d3394bf4884a4dc53c9fd146e66",
            "b6b2424f2af542819be5a44f7c5ada25",
            "240aecfbdf1045b1800091cf5cbee1c2",
            "25b32cc28ad143a1a4c3b390a8e7d3b7",
            "c66bac036c9f44ad86b87aa1ef19c04a",
            "68986ec89ccf4e4b92678c26b5bdbdba",
            "5e03364331d14072b388199323a92926",
            "b99617eea792477f8a8939f506b81249",
            "f591ee08e8a14127bd82210e42b96581",
            "19c2abdddd0541e6b3aa76fe139e9748",
            "e3b96e8384ac46f9bb01a8aa92dcc50e",
            "9e9395890ce047c2a7b27de052bdb970",
            "908a0bd7f2864ad09e6b9f1676dd0bb9",
            "02fbd66acd8c449aa512433ab53bebab",
            "94c88564ce7b45b88d6a8fe771f956d0",
            "99c8cda3620d406497e92c3a2bbed6dd",
            "1cf89c38e31e4b05b9951161f787b969",
            "44e60797d4d24018a7e6d8ab9fc8d911",
            "90ab52bbfc69404e8f478560bcac9e9f",
            "e7519a7df5534bbc91e8d6f42fd3747d",
            "93948af5698f4311acc6a07464fce364",
            "4359d8f48ed9433ba942aeb9a05a33c2",
            "b0c6e3f19cd44545912b693872d51109",
            "4691f741568945fab4f8c9684b05ebe9",
            "437d4de3211942c384c4e7366aa9d181",
            "d4a28eea75ff45919bef74bd37681121",
            "b8a48df52c284fcc82644d034c6354d2",
            "322bc76dfd8d475abf988fe10496dba7",
            "69ed2a82b10f49d9b68f0cdb2e6affb5",
            "7336652319ed47c7ac40744d1ff83728",
            "ffa07c89053b44f28c21af8e5879480f",
            "4ca499675c254c50b32b570ae7fdc516",
            "4fc0f2f2b0984155a5051c311c2d34cd",
            "4dd52c893d954a28bb8e677176b904bf",
            "d0182758cc6b4489a80c4652bea6f187",
            "ed0e33f1ea0a478cb64bcbbfa1aee641",
            "c4c144afc0724509b126b75a0543f253",
            "16ebb40029b849278ebe7b2a4632ac62",
            "a676f589bded4fde931f14998d92587d",
            "e8837f1703654a77a017bb9867825259",
            "cc7bea6d260e4ac0b558310b23f7e9ce",
            "ef7f1a34a7904f9aaca7a86c85fb4683",
            "81e4826466e64e61b039355da3e934ec"
          ]
        },
        "outputId": "b93e971c-d703-4c6b-bf64-8db92d467120"
      },
      "source": [
        "import tensorflow_datasets as tfds\n",
        "\n",
        "datasets, info = tfds.load(\"imdb_reviews\", as_supervised=True, with_info=True)\n",
        "train_size = info.splits[\"train\"].num_examples"
      ],
      "execution_count": null,
      "outputs": [
        {
          "output_type": "stream",
          "text": [
            "\u001b[1mDownloading and preparing dataset imdb_reviews/plain_text/1.0.0 (download: 80.23 MiB, generated: Unknown size, total: 80.23 MiB) to /root/tensorflow_datasets/imdb_reviews/plain_text/1.0.0...\u001b[0m\n"
          ],
          "name": "stdout"
        },
        {
          "output_type": "display_data",
          "data": {
            "application/vnd.jupyter.widget-view+json": {
              "model_id": "4e71d5964ad8439783292a4be7a2c392",
              "version_minor": 0,
              "version_major": 2
            },
            "text/plain": [
              "HBox(children=(FloatProgress(value=1.0, bar_style='info', description='Dl Completed...', max=1.0, style=Progre…"
            ]
          },
          "metadata": {
            "tags": []
          }
        },
        {
          "output_type": "display_data",
          "data": {
            "application/vnd.jupyter.widget-view+json": {
              "model_id": "c1f7e17c22334d77ab0dbe0d485eca84",
              "version_minor": 0,
              "version_major": 2
            },
            "text/plain": [
              "HBox(children=(FloatProgress(value=1.0, bar_style='info', description='Dl Size...', max=1.0, style=ProgressSty…"
            ]
          },
          "metadata": {
            "tags": []
          }
        },
        {
          "output_type": "stream",
          "text": [
            "\n",
            "\n",
            "\n",
            "\n"
          ],
          "name": "stdout"
        },
        {
          "output_type": "display_data",
          "data": {
            "application/vnd.jupyter.widget-view+json": {
              "model_id": "ec18e664608e404aa3e985a48e0ca781",
              "version_minor": 0,
              "version_major": 2
            },
            "text/plain": [
              "HBox(children=(FloatProgress(value=1.0, bar_style='info', max=1.0), HTML(value='')))"
            ]
          },
          "metadata": {
            "tags": []
          }
        },
        {
          "output_type": "stream",
          "text": [
            "\rShuffling and writing examples to /root/tensorflow_datasets/imdb_reviews/plain_text/1.0.0.incompleteNQ4EM4/imdb_reviews-train.tfrecord\n"
          ],
          "name": "stdout"
        },
        {
          "output_type": "display_data",
          "data": {
            "application/vnd.jupyter.widget-view+json": {
              "model_id": "25b32cc28ad143a1a4c3b390a8e7d3b7",
              "version_minor": 0,
              "version_major": 2
            },
            "text/plain": [
              "HBox(children=(FloatProgress(value=0.0, max=25000.0), HTML(value='')))"
            ]
          },
          "metadata": {
            "tags": []
          }
        },
        {
          "output_type": "stream",
          "text": [
            "\r"
          ],
          "name": "stdout"
        },
        {
          "output_type": "display_data",
          "data": {
            "application/vnd.jupyter.widget-view+json": {
              "model_id": "9e9395890ce047c2a7b27de052bdb970",
              "version_minor": 0,
              "version_major": 2
            },
            "text/plain": [
              "HBox(children=(FloatProgress(value=1.0, bar_style='info', max=1.0), HTML(value='')))"
            ]
          },
          "metadata": {
            "tags": []
          }
        },
        {
          "output_type": "stream",
          "text": [
            "\rShuffling and writing examples to /root/tensorflow_datasets/imdb_reviews/plain_text/1.0.0.incompleteNQ4EM4/imdb_reviews-test.tfrecord\n"
          ],
          "name": "stdout"
        },
        {
          "output_type": "display_data",
          "data": {
            "application/vnd.jupyter.widget-view+json": {
              "model_id": "e7519a7df5534bbc91e8d6f42fd3747d",
              "version_minor": 0,
              "version_major": 2
            },
            "text/plain": [
              "HBox(children=(FloatProgress(value=0.0, max=25000.0), HTML(value='')))"
            ]
          },
          "metadata": {
            "tags": []
          }
        },
        {
          "output_type": "stream",
          "text": [
            "\r"
          ],
          "name": "stdout"
        },
        {
          "output_type": "display_data",
          "data": {
            "application/vnd.jupyter.widget-view+json": {
              "model_id": "322bc76dfd8d475abf988fe10496dba7",
              "version_minor": 0,
              "version_major": 2
            },
            "text/plain": [
              "HBox(children=(FloatProgress(value=1.0, bar_style='info', max=1.0), HTML(value='')))"
            ]
          },
          "metadata": {
            "tags": []
          }
        },
        {
          "output_type": "stream",
          "text": [
            "\rShuffling and writing examples to /root/tensorflow_datasets/imdb_reviews/plain_text/1.0.0.incompleteNQ4EM4/imdb_reviews-unsupervised.tfrecord\n"
          ],
          "name": "stdout"
        },
        {
          "output_type": "display_data",
          "data": {
            "application/vnd.jupyter.widget-view+json": {
              "model_id": "ed0e33f1ea0a478cb64bcbbfa1aee641",
              "version_minor": 0,
              "version_major": 2
            },
            "text/plain": [
              "HBox(children=(FloatProgress(value=0.0, max=50000.0), HTML(value='')))"
            ]
          },
          "metadata": {
            "tags": []
          }
        },
        {
          "output_type": "stream",
          "text": [
            "WARNING:absl:Dataset is using deprecated text encoder API which will be removed soon. Please use the plain_text version of the dataset and migrate to `tensorflow_text`.\n"
          ],
          "name": "stderr"
        },
        {
          "output_type": "stream",
          "text": [
            "\u001b[1mDataset imdb_reviews downloaded and prepared to /root/tensorflow_datasets/imdb_reviews/plain_text/1.0.0. Subsequent calls will reuse this data.\u001b[0m\n",
            "\r"
          ],
          "name": "stdout"
        }
      ]
    },
    {
      "cell_type": "code",
      "metadata": {
        "id": "74PFH_dYsNeg"
      },
      "source": [
        "def preprocess(X_batch, y_batch):\n",
        "  X_batch = tf.strings.substr(X_batch, pos=0, len=300)               # keep 300 char only for each\n",
        "  X_batch = tf.strings.regex_replace(X_batch, b\"<br\\\\s*/?>\", b\" \")   # replace <br /> tags with spaces\n",
        "  X_batch = tf.strings.regex_replace(X_batch, b\"[^a-zA-Z']\", b\" \")   # replace any char other than letters and quote with spaces\n",
        "  X_batch = tf.strings.split(X_batch)                                # split reviews by spaces; creating ragged tensor\n",
        "  return X_batch.to_tensor(default_value=b\"<pad>\"), y_batch          # return dense tensor padding all reviews with <pad> token"
      ],
      "execution_count": null,
      "outputs": []
    },
    {
      "cell_type": "markdown",
      "metadata": {
        "id": "SKifH-Jj7KYc"
      },
      "source": [
        "**Construct Vocabulary**\n",
        "\n",
        "Preprocess the whole training set, and use `Counter` to count the number off occurances of each word."
      ]
    },
    {
      "cell_type": "code",
      "metadata": {
        "id": "5_RDGnoZJ2-h"
      },
      "source": [
        "from collections import Counter\n",
        "\n",
        "vocabulary = Counter()\n",
        "for X_batch, y_batch in datasets[\"train\"].batch(32).map(preprocess):\n",
        "  for review in X_batch:\n",
        "    vocabulary.update(list(review.numpy()))"
      ],
      "execution_count": null,
      "outputs": []
    },
    {
      "cell_type": "code",
      "metadata": {
        "colab": {
          "base_uri": "https://localhost:8080/"
        },
        "id": "Za9M-6x4PKSg",
        "outputId": "a809e23c-098e-483e-8c35-bb2c0a5dc3da"
      },
      "source": [
        "vocabulary.most_common()[:3]"
      ],
      "execution_count": null,
      "outputs": [
        {
          "output_type": "execute_result",
          "data": {
            "text/plain": [
              "[(b'<pad>', 214309), (b'the', 61137), (b'a', 38564)]"
            ]
          },
          "metadata": {
            "tags": []
          },
          "execution_count": 15
        }
      ]
    },
    {
      "cell_type": "code",
      "metadata": {
        "colab": {
          "base_uri": "https://localhost:8080/"
        },
        "id": "uxT8PubUm0Gu",
        "outputId": "2f0c6dc0-91f0-4f07-91d6-cd13e0aaa27f"
      },
      "source": [
        "len(vocabulary)"
      ],
      "execution_count": null,
      "outputs": [
        {
          "output_type": "execute_result",
          "data": {
            "text/plain": [
              "53893"
            ]
          },
          "metadata": {
            "tags": []
          },
          "execution_count": 35
        }
      ]
    },
    {
      "cell_type": "markdown",
      "metadata": {
        "id": "mIdrLq-xNu-n"
      },
      "source": [
        "We probably don't require our model to know all words in the dictionary to get good performace. So let' truncate the vocabulary to only most common words."
      ]
    },
    {
      "cell_type": "code",
      "metadata": {
        "id": "aQn9tQrZNvgq"
      },
      "source": [
        "vocab_size = 10_000\n",
        "truncated_vocabulary = [\n",
        "    word for word, count in vocabulary.most_common()[:vocab_size]\n",
        "]"
      ],
      "execution_count": null,
      "outputs": []
    },
    {
      "cell_type": "markdown",
      "metadata": {
        "id": "hTh-cIMaRUiX"
      },
      "source": [
        "Next, we'll create a lookup table to replace each word with its ID."
      ]
    },
    {
      "cell_type": "code",
      "metadata": {
        "id": "nrbd31ufQBsH"
      },
      "source": [
        "words = tf.constant(truncated_vocabulary)\n",
        "word_ids = tf.range(len(truncated_vocabulary), dtype=tf.int64)\n",
        "vocab_init = tf.lookup.KeyValueTensorInitializer(words, word_ids)\n",
        "num_oov_buckets = 1_000\n",
        "table = tf.lookup.StaticVocabularyTable(vocab_init, num_oov_buckets)"
      ],
      "execution_count": null,
      "outputs": []
    },
    {
      "cell_type": "code",
      "metadata": {
        "colab": {
          "base_uri": "https://localhost:8080/"
        },
        "id": "ldzpa5fKSbN7",
        "outputId": "04f32851-e36b-4323-b237-fa7d20bc9b35"
      },
      "source": [
        "table.lookup(tf.constant([b\"This movie was faaaaaantastic\".split()]))"
      ],
      "execution_count": null,
      "outputs": [
        {
          "output_type": "execute_result",
          "data": {
            "text/plain": [
              "<tf.Tensor: shape=(1, 4), dtype=int64, numpy=array([[   22,    12,    11, 10053]])>"
            ]
          },
          "metadata": {
            "tags": []
          },
          "execution_count": 26
        }
      ]
    },
    {
      "cell_type": "markdown",
      "metadata": {
        "id": "wd1qg1eQNv5f"
      },
      "source": [
        "At last we finalize the training set to encode words, batch it and prefetch it."
      ]
    },
    {
      "cell_type": "code",
      "metadata": {
        "id": "dpHPzzefNwTN"
      },
      "source": [
        "def encode_words(X_batch, y_batch):\n",
        "  return table.lookup(X_batch), y_batch\n",
        "\n",
        "train_set = datasets[\"train\"].batch(32).map(preprocess)\n",
        "train_set = train_set.map(encode_words).prefetch(1)"
      ],
      "execution_count": null,
      "outputs": []
    },
    {
      "cell_type": "markdown",
      "metadata": {
        "id": "pTWAbgZ1NwpA"
      },
      "source": [
        "Creating the model."
      ]
    },
    {
      "cell_type": "code",
      "metadata": {
        "colab": {
          "base_uri": "https://localhost:8080/"
        },
        "id": "XDMa2v45NxMN",
        "outputId": "82268f67-61a1-4444-bcd1-3250989e953b"
      },
      "source": [
        "embedding_size = 128  # tweakable | hyperparameter\n",
        "model = keras.models.Sequential([\n",
        "    keras.layers.Embedding(vocab_size + num_oov_buckets, embedding_size,\n",
        "                           mask_zero=True,\n",
        "                           input_shape=[None]),\n",
        "    keras.layers.GRU(128, return_sequences=True),\n",
        "    keras.layers.GRU(128),   # The mask tensor not propagated after this, \n",
        "                             # as this layer only return output of last time step\n",
        "    keras.layers.Dense(1, activation=\"sigmoid\")\n",
        "])\n",
        "\n",
        "model.summary()"
      ],
      "execution_count": null,
      "outputs": [
        {
          "output_type": "stream",
          "text": [
            "Model: \"sequential_2\"\n",
            "_________________________________________________________________\n",
            "Layer (type)                 Output Shape              Param #   \n",
            "=================================================================\n",
            "embedding_2 (Embedding)      (None, None, 128)         1408000   \n",
            "_________________________________________________________________\n",
            "gru_4 (GRU)                  (None, None, 128)         99072     \n",
            "_________________________________________________________________\n",
            "gru_5 (GRU)                  (None, 128)               99072     \n",
            "_________________________________________________________________\n",
            "dense_2 (Dense)              (None, 1)                 129       \n",
            "=================================================================\n",
            "Total params: 1,606,273\n",
            "Trainable params: 1,606,273\n",
            "Non-trainable params: 0\n",
            "_________________________________________________________________\n"
          ],
          "name": "stdout"
        }
      ]
    },
    {
      "cell_type": "code",
      "metadata": {
        "colab": {
          "base_uri": "https://localhost:8080/"
        },
        "id": "bugH-H9SmlTv",
        "outputId": "d2a48abf-5a24-44c4-c1fa-de44139aa76f"
      },
      "source": [
        "model.compile(loss=\"binary_crossentropy\",\n",
        "              optimizer=\"adam\",\n",
        "              metrics=\"accuracy\")\n",
        "history = model.fit(train_set, epochs=5)"
      ],
      "execution_count": null,
      "outputs": [
        {
          "output_type": "stream",
          "text": [
            "Epoch 1/5\n",
            "782/782 [==============================] - 122s 148ms/step - loss: 0.5379 - accuracy: 0.7236\n",
            "Epoch 2/5\n",
            "782/782 [==============================] - 116s 149ms/step - loss: 0.3464 - accuracy: 0.8546\n",
            "Epoch 3/5\n",
            "782/782 [==============================] - 116s 148ms/step - loss: 0.1886 - accuracy: 0.9330\n",
            "Epoch 4/5\n",
            "782/782 [==============================] - 116s 148ms/step - loss: 0.1353 - accuracy: 0.9522\n",
            "Epoch 5/5\n",
            "782/782 [==============================] - 113s 145ms/step - loss: 0.1155 - accuracy: 0.9578\n"
          ],
          "name": "stdout"
        }
      ]
    },
    {
      "cell_type": "markdown",
      "metadata": {
        "id": "xH26bS1QNxrj"
      },
      "source": [
        "## Masking\n",
        "By simply adding `mask_zero=True` we can tell the model to ignore the padding tokens. Otherwise the model  will learn to ignore the padding tokens.\n",
        "\n",
        "<mark>It working is that the `Embedding` layer creates *mask tensor* equal to `k.not_equal(inputs, 0)` (where `k = keras.backend`): which is a Boolean tensor with the same shape as the inputs, and it is equal to `False` anywhere the word IDs are 0 otherwie `True`.</mark> \n",
        "\n",
        "**This mask is then automatically propogated by the model to all subsequent layers, as long as the time dimension is preserved**.\n",
        "\n",
        "A recurrent layer simply copies the ouput from the previous time steps whereas for the output layer (if it reaches, not in our case though) then those time steps is not contributed to the loss.\n",
        "\n",
        "If our layer does not start with an `Embedding` layer, we might use `keras.layers.Masking` layer instead: <mark>it sets the mask to `k.any(k.not_equal(inputs, 0), axis=-1)` meaning that time steps where the last dimension is full of zeros will be masked out in subsequent layers (again, as long  as the time dimsension exits).</mark>\n",
        "\n",
        "This masking might not work with more complex models. In such cases, you will need to explicitly compute the mask andpass it to the appropriate layers, using either the Functional API or Subclassing API.\n",
        "\n",
        "Like in this case:\n",
        "\n"
      ]
    },
    {
      "cell_type": "code",
      "metadata": {
        "id": "2_7jLXINNyFq"
      },
      "source": [
        "# similar to previous but handles masking manually\n",
        "K = keras.backend\n",
        "inputs = keras.layers.Input(shape=[None])\n",
        "mask = keras.layers.Lambda(lambda inputs: K.not_equal(inputs, 0))(inputs)\n",
        "z = keras.layers.Embedding(vocab_size + num_oov_buckets, embedding_size)(inputs)\n",
        "z = keras.layers.GRU(128, return_sequences=True)(z, mask=mask)\n",
        "z = keras.layers.GRU(128)(z, mask=mask)\n",
        "outputs = keras.layers.Dense(1, activation=\"sigmoid\")(z)\n",
        "\n",
        "model = keras.Model(inputs=[inputs], outputs=[outputs])"
      ],
      "execution_count": null,
      "outputs": []
    },
    {
      "cell_type": "markdown",
      "metadata": {
        "id": "PBi9SBNxNycQ"
      },
      "source": [
        "## Reusing Pretrained Embeddings\n",
        "The TensorFlow Hub project makes it easy to reuse pretrained model components in your own model. These model components  are called *modules*.\n",
        "\n",
        "These modules will be automatically downloaded, along with its prerained weights and can be easily included in your model.\n",
        "\n",
        "We can use these *modules* like this:"
      ]
    },
    {
      "cell_type": "code",
      "metadata": {
        "colab": {
          "base_uri": "https://localhost:8080/"
        },
        "id": "ip9Y8r7XGp--",
        "outputId": "d93d5c76-4912-4ffa-ba4e-d283b3d8a5e9"
      },
      "source": [
        "import tensorflow_hub as hub\n",
        "\n",
        "model = keras.Sequential([\n",
        "    hub.KerasLayer(\"https://tfhub.dev/google/tf2-preview/nnlm-en-dim50/1\",\n",
        "                   dtype=tf.string, input_shape=[], output_shape=[50]),   # By default NOT Trainable\n",
        "    keras.layers.Dense(128, activation=\"relu\"),\n",
        "    keras.layers.Dense(1, activation=\"sigmoid\")\n",
        "])\n",
        "model.compile(loss=\"binary_crossentropy\",\n",
        "              optimizer=\"adam\",\n",
        "              metrics=[\"accuracy\"])\n",
        "model.summary()"
      ],
      "execution_count": null,
      "outputs": [
        {
          "output_type": "stream",
          "text": [
            "Model: \"sequential\"\n",
            "_________________________________________________________________\n",
            "Layer (type)                 Output Shape              Param #   \n",
            "=================================================================\n",
            "keras_layer (KerasLayer)     (None, 50)                48190600  \n",
            "_________________________________________________________________\n",
            "dense (Dense)                (None, 128)               6528      \n",
            "_________________________________________________________________\n",
            "dense_1 (Dense)              (None, 1)                 129       \n",
            "=================================================================\n",
            "Total params: 48,197,257\n",
            "Trainable params: 6,657\n",
            "Non-trainable params: 48,190,600\n",
            "_________________________________________________________________\n"
          ],
          "name": "stdout"
        }
      ]
    },
    {
      "cell_type": "markdown",
      "metadata": {
        "id": "0XfiOGpWNzbj"
      },
      "source": [
        "This *module* we just added to our model is a *Sentence encoder*. It parses the string (splitting words on spaces) and embeds each word using an emedding matrix that was trained on a huge corpus. Then it computes the mean of all the word embeddings, and the result is the sentence embedding of dimension 50.\n",
        "\n",
        "Next, we can just load the IMDb reviews dataset, nd there is no need to preprocess it in any kind."
      ]
    },
    {
      "cell_type": "code",
      "metadata": {
        "id": "d3KdreogNOe4",
        "colab": {
          "base_uri": "https://localhost:8080/"
        },
        "outputId": "6d7f6aa6-933c-4229-ec30-d615f56da022"
      },
      "source": [
        "import tensorflow_datasets as tfds\n",
        "\n",
        "datasets, info = tfds.load(\"imdb_reviews\", as_supervised=True, with_info=True)\n",
        "train_size = info.splits[\"train\"].num_examples\n",
        "batch_size = 32\n",
        "train_set = datasets[\"train\"].batch(batch_size).prefetch(1)\n",
        "history = model.fit(train_set, epochs=5)"
      ],
      "execution_count": null,
      "outputs": [
        {
          "output_type": "stream",
          "text": [
            "Epoch 1/5\n",
            "782/782 [==============================] - 5s 6ms/step - loss: 0.5474 - accuracy: 0.7249\n",
            "Epoch 2/5\n",
            "782/782 [==============================] - 4s 5ms/step - loss: 0.5148 - accuracy: 0.7475\n",
            "Epoch 3/5\n",
            "782/782 [==============================] - 4s 6ms/step - loss: 0.5092 - accuracy: 0.7508\n",
            "Epoch 4/5\n",
            "782/782 [==============================] - 4s 5ms/step - loss: 0.5056 - accuracy: 0.7538\n",
            "Epoch 5/5\n",
            "782/782 [==============================] - 4s 5ms/step - loss: 0.5026 - accuracy: 0.7554\n"
          ],
          "name": "stdout"
        }
      ]
    },
    {
      "cell_type": "code",
      "metadata": {
        "colab": {
          "base_uri": "https://localhost:8080/"
        },
        "id": "dvO8krpKP8H7",
        "outputId": "666ac500-d23d-4678-cedc-7f4ff772c09e"
      },
      "source": [
        "model.evaluate(datasets[\"test\"].batch(batch_size).prefetch(1))"
      ],
      "execution_count": null,
      "outputs": [
        {
          "output_type": "stream",
          "text": [
            "782/782 [==============================] - 4s 5ms/step - loss: 0.5134 - accuracy: 0.7462\n"
          ],
          "name": "stdout"
        },
        {
          "output_type": "execute_result",
          "data": {
            "text/plain": [
              "[0.5133841633796692, 0.7462400197982788]"
            ]
          },
          "metadata": {
            "tags": []
          },
          "execution_count": 11
        }
      ]
    },
    {
      "cell_type": "markdown",
      "metadata": {
        "id": "EtfmP9EFa5J7"
      },
      "source": [
        "# An Encoder-Decoder Network for Neural Machine Translation\n"
      ]
    },
    {
      "cell_type": "markdown",
      "metadata": {
        "id": "dubZePVm3uOk"
      },
      "source": [
        "![A simple machine translation model.jpg](data:image/jpeg;base64,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)"
      ]
    },
    {
      "cell_type": "markdown",
      "metadata": {
        "id": "HUFaw2J233-s"
      },
      "source": [
        "Let's say we want to create a simple neural machine translation model that will accept English sentences to French sentences.\n",
        "\n",
        "- The encoder is given the input (embeddings of), English sentence, reversed to ensure that the beggining of the english sentence will be fed  last to the encoder, which is useful because that's generally the first thing that the decoder needs to translate.\n",
        "\n",
        "- The decoder is given as input (embeddings of) the word that it *should* have output at the previous step.\n",
        "\n",
        "  <mark>For the very first word it is given the start-of-sequence (SOS) token. The decoder is expected to end the sentence with an end-of-sequence (EOS) token.</mark>\n",
        "\n",
        "<mark>At each step, the decoder outputs a score for each word in the output vocabulary (i.e., French), and then the softmax layer turns these scores into probabilities. The word with the highest probability is output.</mark>\n",
        "\n",
        "Although at inference time, we only feed the decoder the word it outputs at the previous step.\n",
        "\n",
        "Couple of details:\n",
        "- Sentences length might vary. Group sentences according to buckets of similar length, then use padding for shorter sequences to ensure all sentences in a bucket have the same length.\n",
        "- We must mask out any output past the EOS token, so that those output does not contribute to the loss.\n",
        "- Outputting a probability for each and every possible word would be slow. Use *sampled softmax* technique: use only logits output by the model for the correct word and for random saample of incorrect words, then compute an apprximation of the loss based only on these logits. Use the normal softmax function at inference time.\n"
      ]
    },
    {
      "cell_type": "code",
      "metadata": {
        "colab": {
          "base_uri": "https://localhost:8080/"
        },
        "id": "qqSMPX-2LF3f",
        "outputId": "39638b82-b07f-4a3e-a98f-94c039ec5ec8"
      },
      "source": [
        "!pip install tensorflow_addons"
      ],
      "execution_count": 4,
      "outputs": [
        {
          "output_type": "stream",
          "text": [
            "Collecting tensorflow_addons\n",
            "\u001b[?25l  Downloading https://files.pythonhosted.org/packages/66/4b/e893d194e626c24b3df2253066aa418f46a432fdb68250cde14bf9bb0700/tensorflow_addons-0.13.0-cp37-cp37m-manylinux2010_x86_64.whl (679kB)\n",
            "\u001b[K     |████████████████████████████████| 686kB 6.5MB/s \n",
            "\u001b[?25hRequirement already satisfied: typeguard>=2.7 in /usr/local/lib/python3.7/dist-packages (from tensorflow_addons) (2.7.1)\n",
            "Installing collected packages: tensorflow-addons\n",
            "Successfully installed tensorflow-addons-0.13.0\n"
          ],
          "name": "stdout"
        }
      ]
    },
    {
      "cell_type": "code",
      "metadata": {
        "id": "m6dCIDqFa5lq"
      },
      "source": [
        "# A basic encoder-decoder model similar to the diagram above\n",
        "import tensorflow_addons as tfa\n",
        "\n",
        "vocab_size = 10_000\n",
        "embedding_size = 128 \n",
        "encoder_inputs = keras.layers.Input(shape=[None], dtype=np.int32)\n",
        "decoder_inputs = keras.layers.Input(shape=[None], dtype=np.int32)\n",
        "sequence_lengths = keras.layers.Input(shape=[], dtype=np.int32)\n",
        "\n",
        "embeddings = keras.layers.Embedding(vocab_size, embedding_size)\n",
        "encoder_embeddings = embeddings(encoder_inputs)\n",
        "decoder_embeddings = embeddings(decoder_inputs)\n",
        "\n",
        "encoder = keras.layers.LSTM(512, return_state=True)\n",
        "encoder_outputs, state_h, state_c = encoder(encoder_embeddings)\n",
        "encoder_state = [state_h, state_c]\n",
        "\n",
        "decoder_cell = keras.layers.LSTMCell(512)\n",
        "sampler = tfa.seq2seq.sampler.TrainingSampler()\n",
        "output_layer = keras.layers.Dense(vocab_size)\n",
        "decoder = tfa.seq2seq.basic_decoder.BasicDecoder(\n",
        "    cell=decoder_cell, \n",
        "    sampler=sampler,\n",
        "    output_layer=output_layer)\n",
        "final_outputs, final_state, final_sequence_length =decoder(\n",
        "    decoder_embeddings, \n",
        "    initial_state=encoder_state,\n",
        "    sequence_length=sequence_lengths\n",
        ")\n",
        "Y_proba = tf.nn.softmax(final_outputs.rnn_output)\n",
        "\n",
        "model = keras.Model(inputs=[encoder_inputs, decoder_inputs, sequence_lengths],\n",
        "                    outputs=[Y_proba])"
      ],
      "execution_count": 5,
      "outputs": []
    },
    {
      "cell_type": "markdown",
      "metadata": {
        "id": "HfRp7XcKa58W"
      },
      "source": [
        "## Bidirectional RNNs\n",
        "In many NLP tasks it is required to look ahead at next words (or in \"future\") before encoding a given word.\n",
        "\n",
        "To do this  we use *bidirectional reccurent layer*, which run two recurrent layers on the same inputs, one reading the words from left to right and the other reading them from right to left. Then simply combine their outputs at each time step, typically by concatenating them."
      ]
    },
    {
      "cell_type": "markdown",
      "metadata": {
        "id": "x6BTM0i_ERl3"
      },
      "source": [
        "![biderectional recurrent  layer.jpg](data:image/jpeg;base64,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)"
      ]
    },
    {
      "cell_type": "markdown",
      "metadata": {
        "id": "XxO59JjDEZG0"
      },
      "source": [
        "In keras we can use `keras.layers.Bidirectional`"
      ]
    },
    {
      "cell_type": "code",
      "metadata": {
        "id": "TXy668aoa6hI",
        "colab": {
          "base_uri": "https://localhost:8080/"
        },
        "outputId": "4373bfb3-2644-4330-b9e7-15c39ef5af4d"
      },
      "source": [
        "keras.layers.Bidirectional(keras.layers.GRU(10, return_sequences=True))"
      ],
      "execution_count": null,
      "outputs": [
        {
          "output_type": "execute_result",
          "data": {
            "text/plain": [
              "<tensorflow.python.keras.layers.wrappers.Bidirectional at 0x7fa0f5e117d0>"
            ]
          },
          "metadata": {
            "tags": []
          },
          "execution_count": 3
        }
      ]
    },
    {
      "cell_type": "markdown",
      "metadata": {
        "id": "5Lfg38eKa69p"
      },
      "source": [
        "## Beam Search\n",
        "I Natural Machine Translation task often the model fails to output the correct sentence just because of few words if previously outputted were incorrect and deliberately tries to correct the whole sentence by outputting relevant words against the previous output.\n",
        "\n",
        "The question arise, How can we give the model a chance to go back and fix mistakes it made earlier?\n",
        "\n",
        "The most common solution is *beam search*:<mark> it keeps track of a short list of the $k$ most promising sentences (say, the top three/four) and at each decoder step it tries to extend them by one word, keeping only the $k$ most likely sentences. The parameter  $k$ is calle the *beam width*.</mark>\n",
        "\n",
        "Let's implement bean search using TensorFlow Addons:"
      ]
    },
    {
      "cell_type": "code",
      "metadata": {
        "id": "7At3iANma7dI"
      },
      "source": [
        "import tensorflow_addons as tfa\n",
        "\n",
        "beam_width = 10\n",
        "decoder = tfa.seq2seq.beam_search_decoder.BeamSearchDecoder(\n",
        "    cell=decoder_cell, \n",
        "    beam_width=beam_width,\n",
        "    output_layer=output_layer\n",
        ")\n",
        "decoder_initial_state = tfa.seq2seq.beam_search_decoder.tile_batch(\n",
        "    encoder_state,\n",
        "    multiplier=beam_width\n",
        ")\n",
        "outputs, _, _ = decoder(\n",
        "    decoder_embeddings, \n",
        "    start_tokens=start_tokens,\n",
        "    end_token=end_token,\n",
        "    initial_state=decoder_initial_state \n",
        ")"
      ],
      "execution_count": null,
      "outputs": []
    },
    {
      "cell_type": "markdown",
      "metadata": {
        "id": "Ypk8sMF4PyVM"
      },
      "source": [
        "This will give fairly good performance for short sentences but will fail short of gaining any reliable preformace when translating longer sentences due to limited short-term memory of RNNs. *Attention mechanisms* address this problem and provide a very good solution. Let's look at that how."
      ]
    },
    {
      "cell_type": "markdown",
      "metadata": {
        "id": "HSH4sZpQQVFt"
      },
      "source": [
        "## Attention Mechanism\n",
        "In our basic Encoder-Decoder setup a representation of word (along with other words) needs to be carried over many steps before it is actually used.\n",
        "\n",
        "A revolutionary techniquee to make this path shorter was introduced in 2014 papaer by Dzmitry Bahdanau et a. <mark> They introduced a technique called concatenative attention (or *additive* or *Bahdanau* attention) that allowed the decoder to focus on the appropraite wwords (as encoded by encoder) at each time step.</mark>\n",
        "\n",
        "**The idea behind concatenative attention**\n",
        "\n",
        "The idea is to instead of just sending the encoder's final signal, we send all of its outuputs to the decoder. At each time step, the decoder's memory cell computes a weihted sum of all these encoder outputs: this determines which words it will focus on at this time step. \n",
        "\n",
        ">**The weight $\\alpha_{(t,i)}$ is the weight of the i<sup>th</sup> encoder output at the t<sup>th</sup> decoder time step.** \n",
        "\n",
        "The rest of the decoder is same: the memory cell gets the input at each time step, the hidden state and (if training) target word from the previous step otherwise the output from the previous time step.\n",
        "\n",
        "The weights $\\alpha_{(t,i)}$ comes from *attention model* which consists of a time-distributed `Dense` layer with a single neuron, which recieves the encoder outputs, concatenated with decoder's previous hidden state which output a score (or energy) for each encoder output which finally goes through a softmax layer to get the weights for each encoder output."
      ]
    },
    {
      "cell_type": "markdown",
      "metadata": {
        "id": "fi3y3N-zbd-u"
      },
      "source": [
        "![NMT using Encoder-Decoder with an attention model.jpg](data:image/jpeg;base64,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)"
      ]
    },
    {
      "cell_type": "markdown",
      "metadata": {
        "id": "oPje7wW0JyRj"
      },
      "source": [
        "***Luong attention*** or ***Multiplicative attention***\n",
        "\n",
        "A much more better performant attention mechanism was proposed by Ming-Thang Luong et al. in a 2015 paper.\n",
        "\n",
        "**Simplifcation they proposed:**\n",
        "- <mark>Since the goal of the attention mechanism is to measure the similarity between one of the encoder's outputs and the decoder's previous hidden state, the authors proposed to simply compute the *dot product* of these two vectors giving a score which all go though a softmax layer to get the final weights.</mark>\n",
        "- Use the decoder's hidden state at the current time step ($h_{(t)}$) rather than previous time step ($h_{(t-1)}$), then to use the <mark>output of the attention mechanism ($\\tilde{h}$)</mark> to compute decoder's predictions.\n",
        "\n",
        "They also proposed \"general\" dot product approach where the encoder outputs first go through a linear transformations (i.e., a timie distributed `Dense`layer withouta bias term) before the dot products are computed.\n",
        "\n",
        "*Equation 16-1. Attention Mechanism*\n",
        " $$\\tilde{h}_{(t)} = \\sum_i \\alpha_{(t,i)}y_{(i)}$$\n",
        "\n",
        " with $\\alpha_{(t,i)}=\\frac{\\exp\\big(e_{(t,i)}\\big)}{\\sum_{i'}\\exp\\big( e_{(t, i')}\\big)}$\n",
        "\n",
        "  and $e_{(t, i)} = \\begin{cases}h_{(t)}^\\top y_{(i)}&\\text{dot}\\\\h_{(t)}^\\top Wy_{(i)}&\\text{general}\\\\v^\\top \\tanh \\big( W\\big[h_{(t)};yy_{(i)}\\big] \\big)&\\text{concat}\\end{cases}$\n",
        "  \n",
        "Let's implement this using tensorflow-addons\n",
        "\n"
      ]
    },
    {
      "cell_type": "code",
      "metadata": {
        "id": "JsGO1PLWQVbY"
      },
      "source": [
        "attention_mechanism = tfa.seq2seq.attention_wrapper.LuongAttention(\n",
        "    units,\n",
        "    encoder_state,\n",
        "    memory_sequence_length=encoder_sequence_length,\n",
        ")\n",
        "attention_decoder = tfa.seq2seq.attention_wrapper.AttentionWrapper(\n",
        "    decoder_cell,\n",
        "    attention_mechanism,\n",
        "    attenstion_layer_size=n_units\n",
        ")"
      ],
      "execution_count": null,
      "outputs": []
    },
    {
      "cell_type": "markdown",
      "metadata": {
        "id": "p3jbseXqQVyh"
      },
      "source": [
        "## Visual Attention\n",
        "Another use case of attention mechanism is in generating image caption using visual attention.\n",
        "\n",
        "A CNN is given a image which as usuak outputs feature maps, then a decoder RNN equipped with attention mechanism uses it to generates the caption by focussing on just the right part of the image; one word at a time."
      ]
    },
    {
      "cell_type": "markdown",
      "metadata": {
        "id": "Ry3k5zAQXww5"
      },
      "source": [
        "## Attention Is All You Need: The Transformer Architecture\n",
        "A team of Google researcher in 2017, released The Transformer architecture in their paper. A significantly faster to train and easier to parallelize; plus without any recurrent or convolutional layers, just attention mechanisms (plus few other things)."
      ]
    },
    {
      "cell_type": "markdown",
      "metadata": {
        "id": "567UktumZQji"
      },
      "source": [
        "![transformer.jpg](data:image/jpeg;base64,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)"
      ]
    },
    {
      "cell_type": "markdown",
      "metadata": {
        "id": "mSgv94OYZVgH"
      },
      "source": [
        "Image from [Papers with Code](https://paperswithcode.com/method/transformer)\n",
        "\n",
        "**Let's dive in what's the diagram means:**\n",
        "- Lefthand part is the encoder. Encodes each word into a 512-dimensional representation. The top part is stacked $N$ times.\n",
        "\n",
        "  The input shape is `[batch_size, max_input_sentence_length]`  and the output shape becomes `[batch_size, max_input_sentence_length, 512]`. \n",
        "- Righthand part is the Decoder. During training, we inputs the target sentence (sequence of word IDs) shifted one time step to the right whereas at inference we feed it the previously output words.\n",
        "\n",
        "  As with encoder; the top part part of decoder is also stacked $N$ times and each one recieves the final output of the encoder. The decoder outputs a probablity for each possible next word.\n",
        "  \n",
        "  At each time step (its output shape is `[batch_size, max_output_sentence_length, vocabulary_length]`.\n",
        "\n",
        "The question arise then how do we translate a sentence by only looking at one word at a time?\n",
        "- Encoder's ***Multi-Head Attention***: the purpose of this components is to <mark> encode each word's relationship with every other word in the same sentence, paying more attention to the most relevant ones, </mark> and relies on *self-attention* mechanism.\n",
        "- Decoder's **Masked Multi-Head Attention*** does the same thing but each word is only allowed to attend to words located before it.\n",
        "- ***Positional Embeddings*** <mark>are simply dense vectors that represent the position of a word in the sentence. The n<sup>th</sup> positional embedding is added to the word embeddings of the n<sup>th</sup> word in the sentence.</mark>\n",
        "\n",
        "\n"
      ]
    },
    {
      "cell_type": "markdown",
      "metadata": {
        "id": "HzsfOCBoxEcg"
      },
      "source": [
        "### Positional Embeddings\n",
        "  \n",
        "As said earlier it encodes the position of a word within a sentence. In the paper the authors preferred to use fixed positional embeddings as it can extend to arbitrarily long sentences. These are defined using sine and cosine functions of different frequencies. \n",
        "\n",
        "In the <mark>positional matrix $\\mathbf{P}$</mark>; <mark>$P_{p, i}$ is the $i$<sup>th</sup> component of the embeddding for the word located at the $p$<sup>th</sup> position in the sentence.</mark>\n",
        "\n",
        "*Equation 16-2. Sine/cosine positional embeddings*\n",
        " $$P_{p, 2i}=\\sin\\big(p/10000^{2i/d}\\big)$$\n",
        " $$P_{p, 2i+1} = \\cos \\big( p/10000^{2i/d} \\big)$$\n",
        "\n"
      ]
    },
    {
      "cell_type": "code",
      "metadata": {
        "id": "evxVYhaiQWMc"
      },
      "source": [
        "class PositionalEmbedding(keras.layers.Layer):\n",
        "  \"\"\"\n",
        "  max_steps: maximum sentence length\n",
        "  max_dims: dimensions for each word represetation\n",
        "  \"\"\"\n",
        "  def __init__(self, max_steps, max_dims, dtype=tf.float32, **kwargs):\n",
        "    super().__init__(dtype=dtype, **kwargs)\n",
        "    if max_dims % 2 == 1: \n",
        "      max_dims +=1       # max_dims must be even\n",
        "    p, i = np.meshgrid(np.arange(max_steps), np.arange(max_dims//2))\n",
        "    pos_emb = np.empty((1, max_steps, max_dims))\n",
        "    pos_emb[0, :, ::2] = np.sin(p / 10_000**(2 * i / max_dims)).T\n",
        "    pos_emb[0, :, 1::2] = np.cos(p / 10_000**(2 * i / max_dims )).T\n",
        "    self.positional_embedding = tf.constant(pos_emb.astype(self.dtype))\n",
        "\n",
        "  def call(self, inputs):\n",
        "    shape= tf.shape(inputs)\n",
        "    return inputs + self.positional_embedding[:, :shape[-2], :shape[-1]]"
      ],
      "execution_count": 6,
      "outputs": []
    },
    {
      "cell_type": "code",
      "metadata": {
        "id": "FTux0aQYYUJb"
      },
      "source": [
        "embed_size = 512\n",
        "max_steps = 500\n",
        "vocab_size = 10_000\n",
        "encoder_inputs = keras.layers.Input(shape=[None], dtype=np.int32)\n",
        "decoder_inputs = keras.layers.Input(shape=[None], dtype=np.int32)\n",
        "embeddings = keras.layers.Embedding(vocab_size, embed_size)\n",
        "encoder_embeddings = embeddings(encoder_inputs)\n",
        "decoder_embeddings = embeddings(decoder_inputs)\n",
        "positional_embeddings = PositionalEmbedding(max_steps, max_dims=embed_size)\n",
        "encoder_in = positional_embeddings(encoder_embeddings)\n",
        "decoder_in = positional_embeddings(decoder_embeddings)"
      ],
      "execution_count": 7,
      "outputs": []
    },
    {
      "cell_type": "markdown",
      "metadata": {
        "id": "jov1T1QLQWou"
      },
      "source": [
        "### Multi-Head Attention\n",
        "To understand Multi-Head Attention layer works, we need to understand the ***Scaled Dot-Product Attention*** layer.\n",
        "\n",
        "Suppose the decoder's already in the step to convert the verb from the input sentence, so it needs to fetch that verb in the original sentence. It's analgous to having the enocder creating a dictionary `{\"subject\": \"They\", \"verb\":\"played\", ...}`; the only thing tho is  the model does not have discrete tokens to repsent these keys instead it has vectorized representations of these concepts called the \"query\" which off course will not perfectly match any key in the dictionary.\n",
        "\n",
        "The solution is to compute a similarity measure between the query and each key in the dictionary and then use the softmax function to convert these similarity scores to weights that add up to 1. If the kkey that repsents the verb is by far the most similar to the query, then that key's weight will be close to 1.\n",
        "\n",
        "*Equation 14-3. Scaled Dot-Poduct Attention*\n",
        "$$\\text{Attention(Q,K,V)} = \\text{softmax}\\Big( \\frac{\\text{QK$^\\top$}}{\\sqrt{d_{keys}}}\\Big)$$\n",
        "\n",
        "In this equation:\n",
        "- $\\text{Q}$ matrix containing one row per query. Its shape is [$n_\\text{queries}$, $d_\\text{keys}$], where $n_\\text{queries}$ is the number of queries and $d_\\text{keys}$ is the number of dimensions of each query and each key.\n",
        "- $\\text{K}$ is a matrix containing one row per key. Its shape is [$n_\\text{keys}$, $d_\\text{keys}$], where $n_\\text{keys}$ is the number of keys and values.\n",
        "- $\\text{V}$ is a matrix containing one row per value. Its shape is [$n_\\text{keys}$, $n_\\text{keys}$], it contains one similarity score for each query/key pair. The output of the softmax function has the same shape, but all rows sum up to 1. The final output has a shape of [$n_\\text{queries}$, $d_\\text{values}$], on row per query, each one represents the query result.\n",
        "\n",
        "If we ignore the skip connections, layer normalization layers, the Feed Forward blcksm and the fact that this is a Scaled Dot prouct Attention, not exactly Multi-Head Attention, then the rest of the Transformer model can be implemented like this:"
      ]
    },
    {
      "cell_type": "code",
      "metadata": {
        "id": "0m4dimQ3QXEJ"
      },
      "source": [
        "Z = encoder_in\n",
        "for N in range(6):\n",
        "  Z = keras.layers.Attention(use_scale=True)([Z, z])                # use_scale=True: creates an additional\n",
        "                                                                    # that lets the layer learn how to properly\n",
        "encoder_outputs = Z                                                 # downscale the similarity scores. \n",
        "Z = decoder_in\n",
        "for N in range(6):\n",
        "  Z = keras.layers.Attention(use_scale=True, causal=True)([Z, Z])   # causal = True: ensure each output \n",
        "  Z = keras.layers.Attention(use_scale=True)([Z, encoder_outputs])  # token only attends to previous output\n",
        "                                                                    # tokens, and not future ones\n",
        "outputs = keras.layers.TimeDistributed(\n",
        "    keras.layers.Dense(vocab_size, activation=\"softmax\")\n",
        ")(Z)"
      ],
      "execution_count": null,
      "outputs": []
    },
    {
      "cell_type": "markdown",
      "metadata": {
        "id": "qZc5jLBhQXfw"
      },
      "source": [
        "So, What is Multi-Head Attention layer? This,"
      ]
    },
    {
      "cell_type": "markdown",
      "metadata": {
        "id": "Rdq321WaZjrG"
      },
      "source": [
        "![Multi-Head Attention Layer architecture.jpg](data:image/jpeg;base64,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)"
      ]
    },
    {
      "cell_type": "markdown",
      "metadata": {
        "id": "o8snH9wnZqtP"
      },
      "source": [
        "Image from [paperswithcode.com](https://www.google.com/url?sa=i&url=https%3A%2F%2Fpaperswithcode.com%2Fmethod%2Fmulti-head-attention&psig=AOvVaw1n8CQQ6jAkNEX-VqZcybOd&ust=1622902708189000&source=images&cd=vfe&ved=0CA0QjhxqFwoTCPj7su6V_vACFQAAAAAdAAAAABAD)\n",
        "\n",
        "So a Multi-Head Attention layer is just a bunch of Scaled Dot Product Attention layers, each preceded by a linear transformation (Time distributed `Dense` layer with no activation) of the values, keys, and queries. The outputs are simply concatenated, and they go through a final linear transformation. But why tho?\n",
        "\n",
        "The reason is <mark>the word representation encodes many different characteristics of the word. If we just used a single Scaled Dot Product Attention layer, we wouldn't be able to query all of these characteristics. This is why Multi-Head Attention layer applies multiple different linear transformations of the values, keys, and queries: this allow the model to apply many different projections of the word representation into different subpaces, each focusing on a subset of the word's characteristics.</mark>"
      ]
    }
  ]
}