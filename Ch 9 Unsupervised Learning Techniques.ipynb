{
  "nbformat": 4,
  "nbformat_minor": 0,
  "metadata": {
    "kernelspec": {
      "display_name": "Python 3",
      "language": "python",
      "name": "python3"
    },
    "language_info": {
      "codemirror_mode": {
        "name": "ipython",
        "version": 3
      },
      "file_extension": ".py",
      "mimetype": "text/x-python",
      "name": "python",
      "nbconvert_exporter": "python",
      "pygments_lexer": "ipython3",
      "version": "3.8.5"
    },
    "colab": {
      "name": "Ch 9 Unsupervised Learning Techniques.ipynb",
      "provenance": []
    }
  },
  "cells": [
    {
      "cell_type": "markdown",
      "metadata": {
        "id": "AZ76F1ll2nqL"
      },
      "source": [
        "# Chapter 9: Unsupervied Learning Techniques\n",
        "This work is partialy combined text and code from the book [Hands-On Machine Learning with Scikit-Learn, Keras, and TensorFlow, 2nd Edition](https://www.oreilly.com/library/view/hands-on-machine-learning/9781492032632/) is only supposed to be used as reference and is recommended to follow along with a copy of the Book puchased."
      ]
    },
    {
      "cell_type": "markdown",
      "metadata": {
        "id": "b1chZwMI2eIL"
      },
      "source": [
        "# Clustering\n",
        "## K-Means\n",
        "It will try to find each blob's center and assign each instance to the closest blob. All it cares about when assigning an instance to a cluster is the distance to the centroid.\n",
        "\n",
        "**Note**: You have to specify the number of clusters $k$ that the algoithm must find.\n",
        "- ***label*** is the index of the cluster that this instance gets assigned to by the algorithm."
      ]
    },
    {
      "cell_type": "code",
      "metadata": {
        "id": "ZbxP8zI62eIT"
      },
      "source": [
        "from sklearn.cluster import KMeans\n",
        "\n",
        "k = 5\n",
        "kmeans = KMeans(n_cluster=k)\n",
        "\n",
        "#each instance was assigned to one of the five clusters.\n",
        "y_pred = KMeans.fit_predict(X)"
      ],
      "execution_count": null,
      "outputs": []
    },
    {
      "cell_type": "markdown",
      "metadata": {
        "id": "fhSp_xoA2eIU"
      },
      "source": [
        "`labels_`: Copy of labels of the instances it was trained on."
      ]
    },
    {
      "cell_type": "code",
      "metadata": {
        "id": "wv5rc8XM2eIU"
      },
      "source": [
        "y_pred is kmeans.labels_"
      ],
      "execution_count": null,
      "outputs": []
    },
    {
      "cell_type": "markdown",
      "metadata": {
        "id": "undfjikT2eIV"
      },
      "source": [
        "`cluster_centroids_`: All centroid the algorithm found."
      ]
    },
    {
      "cell_type": "code",
      "metadata": {
        "id": "DLJLHJMj2eIV"
      },
      "source": [
        "kmeans.cluster_centers_"
      ],
      "execution_count": null,
      "outputs": []
    },
    {
      "cell_type": "markdown",
      "metadata": {
        "id": "Fdfm6W8y2eIW"
      },
      "source": [
        "#### Assign new instances to the cluster whose centroid  is closest"
      ]
    },
    {
      "cell_type": "code",
      "metadata": {
        "id": "Pzp5QYMv2eIW"
      },
      "source": [
        "X_new = np.array([[0, 2], [3, 2], [-3, 3], [-3, 2.5]])\n",
        "kmeans.predict(X_new)"
      ],
      "execution_count": null,
      "outputs": []
    },
    {
      "cell_type": "markdown",
      "metadata": {
        "id": "tXez0Mtw2eIW"
      },
      "source": [
        "**Hard Clustering**: Assigning each instance to a single cluster\n",
        "\n",
        "**Soft Clustering**: give each instance a score per cluster.\n",
        "\n",
        "`transform()` method measures the distance from each instance to every centroid."
      ]
    },
    {
      "cell_type": "code",
      "metadata": {
        "id": "aFs181MT2eIX"
      },
      "source": [
        "kmeans.transform(X_new)"
      ],
      "execution_count": null,
      "outputs": []
    },
    {
      "cell_type": "markdown",
      "metadata": {
        "id": "Bq9bfqZr2eIX"
      },
      "source": [
        "### How KMeans work?\n",
        "1. **Place the centroids randomly** \n",
        "   1. By picking $k$ instances at random and using their locations as centroids\n",
        "2. **Label the instances**\n",
        "   2. By assigning each of them to the cluster whose centroid is closest.\n",
        "3. **Update the centroids.**\n",
        "   3. By computing the mean of the instances for each cluster.\n",
        "4. Repeat Step 2, 3; **Until centroid stops Moving.**"
      ]
    },
    {
      "cell_type": "markdown",
      "metadata": {
        "id": "nkMEUvKV2eIY"
      },
      "source": [
        "### Centroid Intialization methods\n",
        "Athough the algorithm is guaranteed to converge, it may not converge to the right solution (i.e., it may converge to a local optimum): **whether it does or not depends on the centroid inititlization.**\n",
        "\n",
        "#### If you happen to know approximately where the centroids should be, \n",
        "- set the `init` hyperparameter to a NumPy array containing the list of centroids, and \n",
        "- set `n_init = 1`.\n",
        "\n",
        "#### Run algorithm with different Random Initialization and keep the best solution\n",
        "`n_init` control the bumber of random initialization. By default set to `10`, which means that the whole algorithm, runs 10 times when you call `fit()`, and Scikit-learn keeps the best solution.\n",
        "The way Scikit-learn know which solution is the best is by use of a performance metric, <mark>*inertia*</mark>\n",
        "\n",
        "Model's **Inertia** is the means squared distance between each instance and its closest centroid.\n",
        "- Model with the lowest inertia is kept.\n",
        "- accessible via `inertia_` instance variable"
      ]
    },
    {
      "cell_type": "code",
      "metadata": {
        "id": "9CC8JM632eIY"
      },
      "source": [
        "good_init = np.array([[-3, 3], [-3, 2], [-3, 1], [-1, 2], [0, 2]])\n",
        "kmeans = KMeans(n_clusters=5, init=good_init, n_init=1) "
      ],
      "execution_count": null,
      "outputs": []
    },
    {
      "cell_type": "code",
      "metadata": {
        "id": "8gUOspRC2eIZ"
      },
      "source": [
        "kmeans.inertia_"
      ],
      "execution_count": null,
      "outputs": []
    },
    {
      "cell_type": "markdown",
      "metadata": {
        "id": "hVD-B5Z22eIZ"
      },
      "source": [
        "`score()` method returns the negative inertia.\n",
        "\n",
        "Why negative? Because a predictor's score() must always respect Scikit-learn's <mark>\"greater is better\" rule</mark>: \n",
        "\n",
        "**if a predictor is better than another, its `score()` method should return a greater score.**"
      ]
    },
    {
      "cell_type": "code",
      "metadata": {
        "id": "EkJq9Tdd2eIZ"
      },
      "source": [
        "kmeans.score(X)"
      ],
      "execution_count": null,
      "outputs": []
    },
    {
      "cell_type": "markdown",
      "metadata": {
        "id": "bOmpc0bq2eIa"
      },
      "source": [
        "### KMeans++\n",
        "Select centroid that are distant from one another. \n",
        "\n",
        "#### KMeans++ Initialization algorithm:\n",
        "1. Take one centroid $c^{(1)}$, chosen uniformly at random from the dataset.\n",
        "2. Take a new centroid $c^{(i)}$, choosing an instance $x^{(i)}$ with probability $$D\\big(x^{(i)}\\big)^2 \\big/ \\sum^{m}_{j=1}D\\big(x^{(j)}\\big)^2$$<mark>where $D\\big(x^{(i)}\\big)$ is the distance between the instance $x^{(i)}$ and the closest centroid that was already choosen.</mark> This probability distribution ensures that the instances farther away from already chosen centroids are much more likely to be selected as centroids.\n",
        "3. Repeat the previous step until all $k$ centroids have been chosen.\n",
        "\n",
        "`KMeans` class uses this initialization method by default. If want the original random initilization method; set `init` hyperparameter to \"random\"."
      ]
    },
    {
      "cell_type": "markdown",
      "metadata": {
        "id": "S8mKodVl2eIa"
      },
      "source": [
        "### Accelerated K-Means\n",
        "An improvement to K-Means algorithm proposed by Charles Elkan. Default K-Means algorithm Scikit-learn uses You can force to use the original one by setting the `algorithm` hyperparameter to `\"full\"`.\n",
        "\n",
        "It considerably accelerates the algorithm by avoiding many unnecessary calculations. It is achieved as:\n",
        "- Exploiting **Triangle Inequality** (i.e., that a straight line is always the shortest distance between two points.\n",
        "- By keeping track of lower and upper bounds for distances between instances and centroids.\n",
        "\n",
        "### Mini-batch k-Means\n",
        "Proposed in 2010 by David Sculley. Instead of using the full dataset at each iteration, the algorithm is capable of using mini batches, moving the the centroids just sligthly att each iteration."
      ]
    },
    {
      "cell_type": "code",
      "metadata": {
        "id": "RxvSVStE2eIb"
      },
      "source": [
        "from sklearn.cluster import MiniBatchKMeans\n",
        "\n",
        "minibatch_kmeans = MiniBatchKMeans(n_clusters=5)\n",
        "minibatch_kmeans.fit(X)"
      ],
      "execution_count": null,
      "outputs": []
    },
    {
      "cell_type": "markdown",
      "metadata": {
        "id": "KU9UVeZd2eIc"
      },
      "source": [
        "### Finding the optimal number of clusters\n",
        "#### When plotting the inertia as a  function of the number of clusters $k$, the curve often contains an inflextion point called the \"elbow\".  Use the $K$ value at the elbow.\n",
        "\n",
        "#### Silhouette Score\n",
        "Mean of *silhouette coefficient* over all the instances.\n",
        "\n",
        "An instance's Silhouette Coefficient can be defined as $$\\frac{(b-a)} {max(a, b)}$$\n",
        "\n",
        "where,\n",
        "- $a$ is the mean distance to the other instances in the same cluster. (i.e., <mark>mean intra-cluster distance</mark>)\n",
        "- $b$ is the mean nearest-cluster distance (i.e., <mark>the mean distance to the instances of the next closest cluster, defined as the one that minimizes $b$</mark>, excluding the instance's own cluster)\n",
        "\n",
        "Silhoutte coefficient can vary between -1 and +1;\n",
        "- Close to +1 means that the instance is well inside its own cluster and far away from other cluster.\n",
        "- Close to 0 means that it is close to a cluster boundary\n",
        "- Close to -1 means that the instance may have been assigned to the wrong instances."
      ]
    },
    {
      "cell_type": "code",
      "metadata": {
        "id": "9tgaZGec2eId"
      },
      "source": [
        "from sklearn.metrics import silhouette_score\n",
        "\n",
        "silhouette_score(X, kmeans.labels_)"
      ],
      "execution_count": null,
      "outputs": []
    },
    {
      "cell_type": "markdown",
      "metadata": {
        "id": "HFzBC48z2eId"
      },
      "source": [
        "#### Silhouette Diagram\n",
        "Plot every instance's silhouette coeffcient, sorted by\n",
        "- the cluster they are assigned to \n",
        "- and by the value of the coefficient per cluster.\n",
        "\n",
        "Each diagram contains one knife shape per cluster. \n",
        "- Height indicates the <mark>number of instances the cluster</mark> contains.\n",
        "- Width represents the <mark>sorted silhoutte coefficients of the instances in the cluster</mark> (**wider is better**)\n",
        "- Dashed line indicates the <mark>mean silhouette coefficient</mark>.\n",
        "\n",
        "**How to interpret it?**\n",
        "\n",
        "When most of the instances in a cluster have a lower coefficient than this score (represented by dashed line) (i.e., if many of te instances stop short of the dashed line, ending to the left of it), then the cluster is rather bad since this means its instances are much too close to other clusters."
      ]
    },
    {
      "cell_type": "markdown",
      "metadata": {
        "id": "YqIyMfR72eIf"
      },
      "source": [
        "### Limits of K-Means\n",
        "K-Means does not behave very well when the clusters have varying sizes, different densities, or nonspherical shapes.\n",
        "\n",
        "**It is Important to scale the input features before you run K-Means**, or the clusters may be stretched and K-Means will perform poorly. Although it does not gurantee that all clusters will be nice and spherical, but it generally improves things."
      ]
    },
    {
      "cell_type": "markdown",
      "metadata": {
        "id": "n7ZsgTGt2eIg"
      },
      "source": [
        "### Using Clustering for Image Segmentation\n",
        "- **Image Segmentation**: Task of partitioning an image into multiple segments.\n",
        "- **Semantic Segmentation**: All pixels that are part of the same <mark>object type</mark> get assigned to the same segment.\n",
        "    \n",
        "   - In a self driving car's vision system, all pixels that are part of a pedestrian's iamge might be assigned to the \"pedestrian\" segment (there would be one segment containing all the pedestian)\n",
        "- **Instance Segmentation**: All pixels that are part of the same <mark>individual object</mark> are assigned to the same segment.\n",
        "    \n",
        "    - There would be a different segment for each pedestrian."
      ]
    },
    {
      "cell_type": "code",
      "metadata": {
        "id": "vLRyfenU2eIg",
        "outputId": "b8f901eb-9a4d-4909-a3aa-fb583a09b316"
      },
      "source": [
        "import os\n",
        "import matplotlib.pyplot as plt\n",
        "from sklearn.cluster import KMeans\n",
        "from matplotlib.image import imread # or 'from imagio import imread'\n",
        "\n",
        "image = imread(os.path.join(\"images\", \"unsupervised_learning\", \"ladybug.png\"))\n",
        "image.shape"
      ],
      "execution_count": null,
      "outputs": [
        {
          "output_type": "execute_result",
          "data": {
            "text/plain": [
              "(533, 800, 3)"
            ]
          },
          "metadata": {
            "tags": []
          },
          "execution_count": 12
        }
      ]
    },
    {
      "cell_type": "code",
      "metadata": {
        "id": "DhJ0RUN52eIh",
        "outputId": "ff2e5da1-9f7d-487e-c247-5ba6f7e2191b"
      },
      "source": [
        "plt.imshow(image)"
      ],
      "execution_count": null,
      "outputs": [
        {
          "output_type": "execute_result",
          "data": {
            "text/plain": [
              "<matplotlib.image.AxesImage at 0x27d980cf2e0>"
            ]
          },
          "metadata": {
            "tags": []
          },
          "execution_count": 33
        },
        {
          "output_type": "display_data",
          "data": {
            "image/png": "[encoded data removed]",
            "text/plain": [
              "<Figure size 432x288 with 1 Axes>"
            ]
          },
          "metadata": {
            "tags": [],
            "needs_background": "light"
          }
        }
      ]
    },
    {
      "cell_type": "markdown",
      "metadata": {
        "id": "xt_dMO2o2eIi"
      },
      "source": [
        "The image is represented as 3D array. The first dimension's size is the height, second is width, third being number of color channels, in this case red, green, and blue(rgb).\n",
        "\n",
        "The following code reshapes the array to get a long list of RGB colors, then it clusters these colors using K-Means."
      ]
    },
    {
      "cell_type": "code",
      "metadata": {
        "id": "r-CNemkV2eIi"
      },
      "source": [
        "X = image.reshape(-1, 3)\n",
        "kmeans = KMeans(n_clusters=8).fit(X)\n",
        "segmented_img = kmeans.cluster_centers_[kmeans.labels_]\n",
        "segmented_img = segmented_img.reshape(image.shape)"
      ],
      "execution_count": null,
      "outputs": []
    },
    {
      "cell_type": "code",
      "metadata": {
        "id": "4pz604pY2eIi",
        "outputId": "d7f4d237-ffe9-43cd-dc00-8cca51503f6e"
      },
      "source": [
        "import numpy as np\n",
        "x = np.array([[[1,2,3],[4,5,6],[7,8,9]],[[10,11,12],[13,14,15],[16,17,19]]])\n",
        "x.shape"
      ],
      "execution_count": null,
      "outputs": [
        {
          "output_type": "execute_result",
          "data": {
            "text/plain": [
              "(2, 3, 3)"
            ]
          },
          "metadata": {
            "tags": []
          },
          "execution_count": 32
        }
      ]
    },
    {
      "cell_type": "code",
      "metadata": {
        "id": "8oJnhtNk2eIi",
        "outputId": "69b1c72c-350c-4e6a-cff8-a01f9b3f4f00"
      },
      "source": [
        "x.reshape(-1,3)"
      ],
      "execution_count": null,
      "outputs": [
        {
          "output_type": "execute_result",
          "data": {
            "text/plain": [
              "array([[ 1,  2,  3],\n",
              "       [ 4,  5,  6],\n",
              "       [ 7,  8,  9],\n",
              "       [10, 11, 12],\n",
              "       [13, 14, 15],\n",
              "       [16, 17, 19]])"
            ]
          },
          "metadata": {
            "tags": []
          },
          "execution_count": 31
        }
      ]
    },
    {
      "cell_type": "code",
      "metadata": {
        "id": "jlCewCsD2eIj",
        "outputId": "734e1cd7-b9a3-4526-ee2b-edd0fe8eef0d"
      },
      "source": [
        "plt.imshow(segmented_img)"
      ],
      "execution_count": null,
      "outputs": [
        {
          "output_type": "execute_result",
          "data": {
            "text/plain": [
              "<matplotlib.image.AxesImage at 0x27d9bb98eb0>"
            ]
          },
          "metadata": {
            "tags": []
          },
          "execution_count": 34
        },
        {
          "output_type": "display_data",
          "data": {
            "image/png": "[encoded data removed]",
            "text/plain": [
              "<Figure size 432x288 with 1 Axes>"
            ]
          },
          "metadata": {
            "tags": [],
            "needs_background": "light"
          }
        }
      ]
    },
    {
      "cell_type": "markdown",
      "metadata": {
        "id": "ehBwOso_2eIj"
      },
      "source": [
        "### Using Clustering for preprocessing"
      ]
    },
    {
      "cell_type": "code",
      "metadata": {
        "id": "_3_V_pZq2eIj",
        "outputId": "88eeae6e-86e5-4e39-b238-bed863eb9f68"
      },
      "source": [
        "from sklearn.datasets import load_digits\n",
        "from sklearn.model_selection import train_test_split\n",
        "from sklearn.linear_model import LogisticRegression\n",
        "\n",
        "X_digits, y_digits = load_digits(return_X_y=True)\n",
        "X_train, X_test, y_train, y_test = train_test_split(X_digits, y_digits)\n",
        " \n",
        "log_reg = LogisticRegression(max_iter=20000)\n",
        "log_reg.fit(X_train, y_train)\n",
        "\n",
        "log_reg.score(X_test, y_test)"
      ],
      "execution_count": null,
      "outputs": [
        {
          "output_type": "execute_result",
          "data": {
            "text/plain": [
              "0.9488888888888889"
            ]
          },
          "metadata": {
            "tags": []
          },
          "execution_count": 121
        }
      ]
    },
    {
      "cell_type": "code",
      "metadata": {
        "id": "o3ZMpHEH2eIj",
        "outputId": "fcbb9854-1353-41bf-f0d3-27160e0a97d8"
      },
      "source": [
        "from sklearn.pipeline import Pipeline\n",
        "\n",
        "pipeline = Pipeline([\n",
        "    ('kmeans', KMeans(n_clusters=50)),\n",
        "    ('log_Reg', LogisticRegression(max_iter=20000)),\n",
        "])\n",
        "pipeline.fit(X_train, y_train).score(X_test, y_test)"
      ],
      "execution_count": null,
      "outputs": [
        {
          "output_type": "execute_result",
          "data": {
            "text/plain": [
              "0.9666666666666667"
            ]
          },
          "metadata": {
            "tags": []
          },
          "execution_count": 47
        }
      ]
    },
    {
      "cell_type": "code",
      "metadata": {
        "scrolled": true,
        "id": "01r_7GUF2eIk",
        "outputId": "5884ce56-dadf-405b-c423-ba261b61f5a3"
      },
      "source": [
        "# We can do better; \n",
        "# Finding the best n_clusters value for kmeans\n",
        "from sklearn.model_selection import GridSearchCV\n",
        "\n",
        "param_grid = dict(kmeans__n_clusters=range(2, 100))\n",
        "grid_clf = GridSearchCV(pipeline, param_grid, cv=3, verbose=2)\n",
        "grid_clf.fit(X_train, y_train)"
      ],
      "execution_count": null,
      "outputs": [
        {
          "output_type": "stream",
          "text": [
            "Fitting 3 folds for each of 98 candidates, totalling 294 fits\n",
            "[CV] kmeans__n_clusters=2 ............................................\n"
          ],
          "name": "stdout"
        },
        {
          "output_type": "stream",
          "text": [
            "[Parallel(n_jobs=1)]: Using backend SequentialBackend with 1 concurrent workers.\n"
          ],
          "name": "stderr"
        },
        {
          "output_type": "stream",
          "text": [
            "[CV] ............................. kmeans__n_clusters=2, total=   0.6s\n",
            "[CV] kmeans__n_clusters=2 ............................................\n"
          ],
          "name": "stdout"
        },
        {
          "output_type": "stream",
          "text": [
            "[Parallel(n_jobs=1)]: Done   1 out of   1 | elapsed:    0.5s remaining:    0.0s\n"
          ],
          "name": "stderr"
        },
        {
          "output_type": "stream",
          "text": [
            "[CV] ............................. kmeans__n_clusters=2, total=   0.5s\n",
            "[CV] kmeans__n_clusters=2 ............................................\n",
            "[CV] ............................. kmeans__n_clusters=2, total=   0.8s\n",
            "[CV] kmeans__n_clusters=3 ............................................\n",
            "[CV] ............................. kmeans__n_clusters=3, total=   1.7s\n",
            "[CV] kmeans__n_clusters=3 ............................................\n",
            "[CV] ............................. kmeans__n_clusters=3, total=   2.0s\n",
            "[CV] kmeans__n_clusters=3 ............................................\n",
            "[CV] ............................. kmeans__n_clusters=3, total=   1.3s\n",
            "[CV] kmeans__n_clusters=4 ............................................\n",
            "[CV] ............................. kmeans__n_clusters=4, total=   1.5s\n",
            "[CV] kmeans__n_clusters=4 ............................................\n",
            "[CV] ............................. kmeans__n_clusters=4, total=   1.5s\n",
            "[CV] kmeans__n_clusters=4 ............................................\n",
            "[CV] ............................. kmeans__n_clusters=4, total=   1.4s\n",
            "[CV] kmeans__n_clusters=5 ............................................\n",
            "[CV] ............................. kmeans__n_clusters=5, total=   4.0s\n",
            "[CV] kmeans__n_clusters=5 ............................................\n",
            "[CV] ............................. kmeans__n_clusters=5, total=   3.9s\n",
            "[CV] kmeans__n_clusters=5 ............................................\n",
            "[CV] ............................. kmeans__n_clusters=5, total=   3.7s\n",
            "[CV] kmeans__n_clusters=6 ............................................\n",
            "[CV] ............................. kmeans__n_clusters=6, total=   5.4s\n",
            "[CV] kmeans__n_clusters=6 ............................................\n",
            "[CV] ............................. kmeans__n_clusters=6, total=   3.6s\n",
            "[CV] kmeans__n_clusters=6 ............................................\n",
            "[CV] ............................. kmeans__n_clusters=6, total=   4.6s\n",
            "[CV] kmeans__n_clusters=7 ............................................\n",
            "[CV] ............................. kmeans__n_clusters=7, total=   5.7s\n",
            "[CV] kmeans__n_clusters=7 ............................................\n",
            "[CV] ............................. kmeans__n_clusters=7, total=   4.0s\n",
            "[CV] kmeans__n_clusters=7 ............................................\n",
            "[CV] ............................. kmeans__n_clusters=7, total=   6.5s\n",
            "[CV] kmeans__n_clusters=8 ............................................\n",
            "[CV] ............................. kmeans__n_clusters=8, total=   7.2s\n",
            "[CV] kmeans__n_clusters=8 ............................................\n",
            "[CV] ............................. kmeans__n_clusters=8, total=   5.9s\n",
            "[CV] kmeans__n_clusters=8 ............................................\n",
            "[CV] ............................. kmeans__n_clusters=8, total=   5.5s\n",
            "[CV] kmeans__n_clusters=9 ............................................\n",
            "[CV] ............................. kmeans__n_clusters=9, total=   8.9s\n",
            "[CV] kmeans__n_clusters=9 ............................................\n",
            "[CV] ............................. kmeans__n_clusters=9, total=   8.1s\n",
            "[CV] kmeans__n_clusters=9 ............................................\n",
            "[CV] ............................. kmeans__n_clusters=9, total=   7.3s\n",
            "[CV] kmeans__n_clusters=10 ...........................................\n",
            "[CV] ............................ kmeans__n_clusters=10, total=   7.7s\n",
            "[CV] kmeans__n_clusters=10 ...........................................\n",
            "[CV] ............................ kmeans__n_clusters=10, total=   9.8s\n",
            "[CV] kmeans__n_clusters=10 ...........................................\n",
            "[CV] ............................ kmeans__n_clusters=10, total=   5.3s\n",
            "[CV] kmeans__n_clusters=11 ...........................................\n",
            "[CV] ............................ kmeans__n_clusters=11, total=   6.1s\n",
            "[CV] kmeans__n_clusters=11 ...........................................\n",
            "[CV] ............................ kmeans__n_clusters=11, total=   8.2s\n",
            "[CV] kmeans__n_clusters=11 ...........................................\n",
            "[CV] ............................ kmeans__n_clusters=11, total=   8.2s\n",
            "[CV] kmeans__n_clusters=12 ...........................................\n",
            "[CV] ............................ kmeans__n_clusters=12, total=   8.6s\n",
            "[CV] kmeans__n_clusters=12 ...........................................\n",
            "[CV] ............................ kmeans__n_clusters=12, total=   4.7s\n",
            "[CV] kmeans__n_clusters=12 ...........................................\n",
            "[CV] ............................ kmeans__n_clusters=12, total=   9.5s\n",
            "[CV] kmeans__n_clusters=13 ...........................................\n",
            "[CV] ............................ kmeans__n_clusters=13, total=   8.5s\n",
            "[CV] kmeans__n_clusters=13 ...........................................\n",
            "[CV] ............................ kmeans__n_clusters=13, total=   7.3s\n",
            "[CV] kmeans__n_clusters=13 ...........................................\n",
            "[CV] ............................ kmeans__n_clusters=13, total=   6.7s\n",
            "[CV] kmeans__n_clusters=14 ...........................................\n",
            "[CV] ............................ kmeans__n_clusters=14, total=   5.8s\n",
            "[CV] kmeans__n_clusters=14 ...........................................\n",
            "[CV] ............................ kmeans__n_clusters=14, total=   6.3s\n",
            "[CV] kmeans__n_clusters=14 ...........................................\n",
            "[CV] ............................ kmeans__n_clusters=14, total=   6.3s\n",
            "[CV] kmeans__n_clusters=15 ...........................................\n",
            "[CV] ............................ kmeans__n_clusters=15, total=   8.7s\n",
            "[CV] kmeans__n_clusters=15 ...........................................\n",
            "[CV] ............................ kmeans__n_clusters=15, total=   8.8s\n",
            "[CV] kmeans__n_clusters=15 ...........................................\n",
            "[CV] ............................ kmeans__n_clusters=15, total=   5.8s\n",
            "[CV] kmeans__n_clusters=16 ...........................................\n",
            "[CV] ............................ kmeans__n_clusters=16, total=   5.8s\n",
            "[CV] kmeans__n_clusters=16 ...........................................\n",
            "[CV] ............................ kmeans__n_clusters=16, total=   6.3s\n",
            "[CV] kmeans__n_clusters=16 ...........................................\n",
            "[CV] ............................ kmeans__n_clusters=16, total=   5.6s\n",
            "[CV] kmeans__n_clusters=17 ...........................................\n",
            "[CV] ............................ kmeans__n_clusters=17, total=   8.7s\n",
            "[CV] kmeans__n_clusters=17 ...........................................\n",
            "[CV] ............................ kmeans__n_clusters=17, total=   7.4s\n",
            "[CV] kmeans__n_clusters=17 ...........................................\n",
            "[CV] ............................ kmeans__n_clusters=17, total=   6.5s\n",
            "[CV] kmeans__n_clusters=18 ...........................................\n",
            "[CV] ............................ kmeans__n_clusters=18, total=  10.3s\n",
            "[CV] kmeans__n_clusters=18 ...........................................\n",
            "[CV] ............................ kmeans__n_clusters=18, total=   6.1s\n",
            "[CV] kmeans__n_clusters=18 ...........................................\n",
            "[CV] ............................ kmeans__n_clusters=18, total=   6.9s\n",
            "[CV] kmeans__n_clusters=19 ...........................................\n",
            "[CV] ............................ kmeans__n_clusters=19, total=   7.1s\n",
            "[CV] kmeans__n_clusters=19 ...........................................\n",
            "[CV] ............................ kmeans__n_clusters=19, total=   7.3s\n",
            "[CV] kmeans__n_clusters=19 ...........................................\n"
          ],
          "name": "stdout"
        },
        {
          "output_type": "stream",
          "text": [
            "C:\\anaconda3\\lib\\site-packages\\sklearn\\linear_model\\_logistic.py:762: ConvergenceWarning: lbfgs failed to converge (status=1):\n",
            "STOP: TOTAL NO. of f AND g EVALUATIONS EXCEEDS LIMIT.\n",
            "\n",
            "Increase the number of iterations (max_iter) or scale the data as shown in:\n",
            "    https://scikit-learn.org/stable/modules/preprocessing.html\n",
            "Please also refer to the documentation for alternative solver options:\n",
            "    https://scikit-learn.org/stable/modules/linear_model.html#logistic-regression\n",
            "  n_iter_i = _check_optimize_result(\n"
          ],
          "name": "stderr"
        },
        {
          "output_type": "stream",
          "text": [
            "[CV] ............................ kmeans__n_clusters=19, total=  10.5s\n",
            "[CV] kmeans__n_clusters=20 ...........................................\n",
            "[CV] ............................ kmeans__n_clusters=20, total=   8.7s\n",
            "[CV] kmeans__n_clusters=20 ...........................................\n",
            "[CV] ............................ kmeans__n_clusters=20, total=   9.0s\n",
            "[CV] kmeans__n_clusters=20 ...........................................\n",
            "[CV] ............................ kmeans__n_clusters=20, total=   5.3s\n",
            "[CV] kmeans__n_clusters=21 ...........................................\n",
            "[CV] ............................ kmeans__n_clusters=21, total=   6.1s\n",
            "[CV] kmeans__n_clusters=21 ...........................................\n",
            "[CV] ............................ kmeans__n_clusters=21, total=   8.3s\n",
            "[CV] kmeans__n_clusters=21 ...........................................\n",
            "[CV] ............................ kmeans__n_clusters=21, total=   5.3s\n",
            "[CV] kmeans__n_clusters=22 ...........................................\n",
            "[CV] ............................ kmeans__n_clusters=22, total=   4.9s\n",
            "[CV] kmeans__n_clusters=22 ...........................................\n",
            "[CV] ............................ kmeans__n_clusters=22, total=   4.8s\n",
            "[CV] kmeans__n_clusters=22 ...........................................\n",
            "[CV] ............................ kmeans__n_clusters=22, total=   5.3s\n",
            "[CV] kmeans__n_clusters=23 ...........................................\n",
            "[CV] ............................ kmeans__n_clusters=23, total=   5.3s\n",
            "[CV] kmeans__n_clusters=23 ...........................................\n"
          ],
          "name": "stdout"
        },
        {
          "output_type": "stream",
          "text": [
            "C:\\anaconda3\\lib\\site-packages\\sklearn\\linear_model\\_logistic.py:762: ConvergenceWarning: lbfgs failed to converge (status=1):\n",
            "STOP: TOTAL NO. of f AND g EVALUATIONS EXCEEDS LIMIT.\n",
            "\n",
            "Increase the number of iterations (max_iter) or scale the data as shown in:\n",
            "    https://scikit-learn.org/stable/modules/preprocessing.html\n",
            "Please also refer to the documentation for alternative solver options:\n",
            "    https://scikit-learn.org/stable/modules/linear_model.html#logistic-regression\n",
            "  n_iter_i = _check_optimize_result(\n"
          ],
          "name": "stderr"
        },
        {
          "output_type": "stream",
          "text": [
            "[CV] ............................ kmeans__n_clusters=23, total=  13.1s\n",
            "[CV] kmeans__n_clusters=23 ...........................................\n",
            "[CV] ............................ kmeans__n_clusters=23, total=   5.5s\n",
            "[CV] kmeans__n_clusters=24 ...........................................\n",
            "[CV] ............................ kmeans__n_clusters=24, total=   7.4s\n",
            "[CV] kmeans__n_clusters=24 ...........................................\n",
            "[CV] ............................ kmeans__n_clusters=24, total=   7.2s\n",
            "[CV] kmeans__n_clusters=24 ...........................................\n",
            "[CV] ............................ kmeans__n_clusters=24, total=   4.4s\n",
            "[CV] kmeans__n_clusters=25 ...........................................\n",
            "[CV] ............................ kmeans__n_clusters=25, total=   7.2s\n",
            "[CV] kmeans__n_clusters=25 ...........................................\n",
            "[CV] ............................ kmeans__n_clusters=25, total=   7.3s\n",
            "[CV] kmeans__n_clusters=25 ...........................................\n",
            "[CV] ............................ kmeans__n_clusters=25, total=  10.2s\n",
            "[CV] kmeans__n_clusters=26 ...........................................\n",
            "[CV] ............................ kmeans__n_clusters=26, total=   6.1s\n",
            "[CV] kmeans__n_clusters=26 ...........................................\n",
            "[CV] ............................ kmeans__n_clusters=26, total=   3.5s\n",
            "[CV] kmeans__n_clusters=26 ...........................................\n",
            "[CV] ............................ kmeans__n_clusters=26, total=   7.1s\n",
            "[CV] kmeans__n_clusters=27 ...........................................\n",
            "[CV] ............................ kmeans__n_clusters=27, total=   4.6s\n",
            "[CV] kmeans__n_clusters=27 ...........................................\n",
            "[CV] ............................ kmeans__n_clusters=27, total=  10.5s\n",
            "[CV] kmeans__n_clusters=27 ...........................................\n",
            "[CV] ............................ kmeans__n_clusters=27, total=   4.9s\n",
            "[CV] kmeans__n_clusters=28 ...........................................\n",
            "[CV] ............................ kmeans__n_clusters=28, total=   6.3s\n",
            "[CV] kmeans__n_clusters=28 ...........................................\n",
            "[CV] ............................ kmeans__n_clusters=28, total=   6.1s\n",
            "[CV] kmeans__n_clusters=28 ...........................................\n",
            "[CV] ............................ kmeans__n_clusters=28, total=   9.7s\n",
            "[CV] kmeans__n_clusters=29 ...........................................\n",
            "[CV] ............................ kmeans__n_clusters=29, total=   6.5s\n",
            "[CV] kmeans__n_clusters=29 ...........................................\n",
            "[CV] ............................ kmeans__n_clusters=29, total=   5.0s\n",
            "[CV] kmeans__n_clusters=29 ...........................................\n",
            "[CV] ............................ kmeans__n_clusters=29, total=   9.1s\n",
            "[CV] kmeans__n_clusters=30 ...........................................\n",
            "[CV] ............................ kmeans__n_clusters=30, total=   5.4s\n",
            "[CV] kmeans__n_clusters=30 ...........................................\n",
            "[CV] ............................ kmeans__n_clusters=30, total=   2.6s\n",
            "[CV] kmeans__n_clusters=30 ...........................................\n",
            "[CV] ............................ kmeans__n_clusters=30, total=   4.7s\n",
            "[CV] kmeans__n_clusters=31 ...........................................\n",
            "[CV] ............................ kmeans__n_clusters=31, total=   8.1s\n",
            "[CV] kmeans__n_clusters=31 ...........................................\n",
            "[CV] ............................ kmeans__n_clusters=31, total=   8.3s\n",
            "[CV] kmeans__n_clusters=31 ...........................................\n",
            "[CV] ............................ kmeans__n_clusters=31, total=   7.1s\n",
            "[CV] kmeans__n_clusters=32 ...........................................\n",
            "[CV] ............................ kmeans__n_clusters=32, total=   7.4s\n",
            "[CV] kmeans__n_clusters=32 ...........................................\n",
            "[CV] ............................ kmeans__n_clusters=32, total=   5.2s\n",
            "[CV] kmeans__n_clusters=32 ...........................................\n",
            "[CV] ............................ kmeans__n_clusters=32, total=   6.5s\n",
            "[CV] kmeans__n_clusters=33 ...........................................\n",
            "[CV] ............................ kmeans__n_clusters=33, total=   4.1s\n",
            "[CV] kmeans__n_clusters=33 ...........................................\n",
            "[CV] ............................ kmeans__n_clusters=33, total=   5.1s\n",
            "[CV] kmeans__n_clusters=33 ...........................................\n",
            "[CV] ............................ kmeans__n_clusters=33, total=   3.3s\n",
            "[CV] kmeans__n_clusters=34 ...........................................\n",
            "[CV] ............................ kmeans__n_clusters=34, total=   6.8s\n",
            "[CV] kmeans__n_clusters=34 ...........................................\n",
            "[CV] ............................ kmeans__n_clusters=34, total=   7.3s\n",
            "[CV] kmeans__n_clusters=34 ...........................................\n",
            "[CV] ............................ kmeans__n_clusters=34, total=   4.4s\n",
            "[CV] kmeans__n_clusters=35 ...........................................\n",
            "[CV] ............................ kmeans__n_clusters=35, total=   6.0s\n",
            "[CV] kmeans__n_clusters=35 ...........................................\n",
            "[CV] ............................ kmeans__n_clusters=35, total=   5.4s\n",
            "[CV] kmeans__n_clusters=35 ...........................................\n",
            "[CV] ............................ kmeans__n_clusters=35, total=   5.7s\n",
            "[CV] kmeans__n_clusters=36 ...........................................\n",
            "[CV] ............................ kmeans__n_clusters=36, total=   4.3s\n",
            "[CV] kmeans__n_clusters=36 ...........................................\n",
            "[CV] ............................ kmeans__n_clusters=36, total=   7.8s\n",
            "[CV] kmeans__n_clusters=36 ...........................................\n",
            "[CV] ............................ kmeans__n_clusters=36, total=   6.7s\n",
            "[CV] kmeans__n_clusters=37 ...........................................\n",
            "[CV] ............................ kmeans__n_clusters=37, total=   6.9s\n",
            "[CV] kmeans__n_clusters=37 ...........................................\n",
            "[CV] ............................ kmeans__n_clusters=37, total=   4.4s\n",
            "[CV] kmeans__n_clusters=37 ...........................................\n",
            "[CV] ............................ kmeans__n_clusters=37, total=   3.7s\n",
            "[CV] kmeans__n_clusters=38 ...........................................\n",
            "[CV] ............................ kmeans__n_clusters=38, total=   3.7s\n",
            "[CV] kmeans__n_clusters=38 ...........................................\n",
            "[CV] ............................ kmeans__n_clusters=38, total=   6.3s\n",
            "[CV] kmeans__n_clusters=38 ...........................................\n",
            "[CV] ............................ kmeans__n_clusters=38, total=  11.7s\n",
            "[CV] kmeans__n_clusters=39 ...........................................\n",
            "[CV] ............................ kmeans__n_clusters=39, total=   5.5s\n",
            "[CV] kmeans__n_clusters=39 ...........................................\n",
            "[CV] ............................ kmeans__n_clusters=39, total=   4.5s\n",
            "[CV] kmeans__n_clusters=39 ...........................................\n",
            "[CV] ............................ kmeans__n_clusters=39, total=   6.9s\n",
            "[CV] kmeans__n_clusters=40 ...........................................\n",
            "[CV] ............................ kmeans__n_clusters=40, total=   6.4s\n",
            "[CV] kmeans__n_clusters=40 ...........................................\n",
            "[CV] ............................ kmeans__n_clusters=40, total=   5.4s\n",
            "[CV] kmeans__n_clusters=40 ...........................................\n",
            "[CV] ............................ kmeans__n_clusters=40, total=   5.1s\n",
            "[CV] kmeans__n_clusters=41 ...........................................\n",
            "[CV] ............................ kmeans__n_clusters=41, total=  10.5s\n",
            "[CV] kmeans__n_clusters=41 ...........................................\n",
            "[CV] ............................ kmeans__n_clusters=41, total=   6.5s\n",
            "[CV] kmeans__n_clusters=41 ...........................................\n",
            "[CV] ............................ kmeans__n_clusters=41, total=   4.1s\n",
            "[CV] kmeans__n_clusters=42 ...........................................\n",
            "[CV] ............................ kmeans__n_clusters=42, total=   4.4s\n",
            "[CV] kmeans__n_clusters=42 ...........................................\n",
            "[CV] ............................ kmeans__n_clusters=42, total=   4.2s\n",
            "[CV] kmeans__n_clusters=42 ...........................................\n"
          ],
          "name": "stdout"
        },
        {
          "output_type": "stream",
          "text": [
            "[CV] ............................ kmeans__n_clusters=42, total=   6.3s\n",
            "[CV] kmeans__n_clusters=43 ...........................................\n",
            "[CV] ............................ kmeans__n_clusters=43, total=   4.2s\n",
            "[CV] kmeans__n_clusters=43 ...........................................\n",
            "[CV] ............................ kmeans__n_clusters=43, total=   5.1s\n",
            "[CV] kmeans__n_clusters=43 ...........................................\n",
            "[CV] ............................ kmeans__n_clusters=43, total=   5.0s\n",
            "[CV] kmeans__n_clusters=44 ...........................................\n",
            "[CV] ............................ kmeans__n_clusters=44, total=   5.5s\n",
            "[CV] kmeans__n_clusters=44 ...........................................\n",
            "[CV] ............................ kmeans__n_clusters=44, total=   4.2s\n",
            "[CV] kmeans__n_clusters=44 ...........................................\n",
            "[CV] ............................ kmeans__n_clusters=44, total=   4.9s\n",
            "[CV] kmeans__n_clusters=45 ...........................................\n",
            "[CV] ............................ kmeans__n_clusters=45, total=   5.1s\n",
            "[CV] kmeans__n_clusters=45 ...........................................\n",
            "[CV] ............................ kmeans__n_clusters=45, total=   7.8s\n",
            "[CV] kmeans__n_clusters=45 ...........................................\n",
            "[CV] ............................ kmeans__n_clusters=45, total=   3.9s\n",
            "[CV] kmeans__n_clusters=46 ...........................................\n",
            "[CV] ............................ kmeans__n_clusters=46, total=   4.6s\n",
            "[CV] kmeans__n_clusters=46 ...........................................\n",
            "[CV] ............................ kmeans__n_clusters=46, total=   3.7s\n",
            "[CV] kmeans__n_clusters=46 ...........................................\n",
            "[CV] ............................ kmeans__n_clusters=46, total=   6.3s\n",
            "[CV] kmeans__n_clusters=47 ...........................................\n",
            "[CV] ............................ kmeans__n_clusters=47, total=   5.8s\n",
            "[CV] kmeans__n_clusters=47 ...........................................\n",
            "[CV] ............................ kmeans__n_clusters=47, total=   9.7s\n",
            "[CV] kmeans__n_clusters=47 ...........................................\n",
            "[CV] ............................ kmeans__n_clusters=47, total=   7.2s\n",
            "[CV] kmeans__n_clusters=48 ...........................................\n",
            "[CV] ............................ kmeans__n_clusters=48, total=   7.6s\n",
            "[CV] kmeans__n_clusters=48 ...........................................\n",
            "[CV] ............................ kmeans__n_clusters=48, total=   6.4s\n",
            "[CV] kmeans__n_clusters=48 ...........................................\n",
            "[CV] ............................ kmeans__n_clusters=48, total=   4.7s\n",
            "[CV] kmeans__n_clusters=49 ...........................................\n",
            "[CV] ............................ kmeans__n_clusters=49, total=   4.7s\n",
            "[CV] kmeans__n_clusters=49 ...........................................\n",
            "[CV] ............................ kmeans__n_clusters=49, total=   3.2s\n",
            "[CV] kmeans__n_clusters=49 ...........................................\n",
            "[CV] ............................ kmeans__n_clusters=49, total=   4.2s\n",
            "[CV] kmeans__n_clusters=50 ...........................................\n",
            "[CV] ............................ kmeans__n_clusters=50, total=   6.9s\n",
            "[CV] kmeans__n_clusters=50 ...........................................\n",
            "[CV] ............................ kmeans__n_clusters=50, total=   3.9s\n",
            "[CV] kmeans__n_clusters=50 ...........................................\n",
            "[CV] ............................ kmeans__n_clusters=50, total=   7.1s\n",
            "[CV] kmeans__n_clusters=51 ...........................................\n",
            "[CV] ............................ kmeans__n_clusters=51, total=   7.3s\n",
            "[CV] kmeans__n_clusters=51 ...........................................\n",
            "[CV] ............................ kmeans__n_clusters=51, total=   6.5s\n",
            "[CV] kmeans__n_clusters=51 ...........................................\n",
            "[CV] ............................ kmeans__n_clusters=51, total=   3.1s\n",
            "[CV] kmeans__n_clusters=52 ...........................................\n",
            "[CV] ............................ kmeans__n_clusters=52, total=   4.8s\n",
            "[CV] kmeans__n_clusters=52 ...........................................\n",
            "[CV] ............................ kmeans__n_clusters=52, total=   4.6s\n",
            "[CV] kmeans__n_clusters=52 ...........................................\n",
            "[CV] ............................ kmeans__n_clusters=52, total=   3.7s\n",
            "[CV] kmeans__n_clusters=53 ...........................................\n",
            "[CV] ............................ kmeans__n_clusters=53, total=   5.4s\n",
            "[CV] kmeans__n_clusters=53 ...........................................\n",
            "[CV] ............................ kmeans__n_clusters=53, total=   7.0s\n",
            "[CV] kmeans__n_clusters=53 ...........................................\n",
            "[CV] ............................ kmeans__n_clusters=53, total=   3.1s\n",
            "[CV] kmeans__n_clusters=54 ...........................................\n",
            "[CV] ............................ kmeans__n_clusters=54, total=   6.7s\n",
            "[CV] kmeans__n_clusters=54 ...........................................\n",
            "[CV] ............................ kmeans__n_clusters=54, total=   2.6s\n",
            "[CV] kmeans__n_clusters=54 ...........................................\n",
            "[CV] ............................ kmeans__n_clusters=54, total=   5.5s\n",
            "[CV] kmeans__n_clusters=55 ...........................................\n",
            "[CV] ............................ kmeans__n_clusters=55, total=   2.6s\n",
            "[CV] kmeans__n_clusters=55 ...........................................\n",
            "[CV] ............................ kmeans__n_clusters=55, total=   5.5s\n",
            "[CV] kmeans__n_clusters=55 ...........................................\n",
            "[CV] ............................ kmeans__n_clusters=55, total=   3.2s\n",
            "[CV] kmeans__n_clusters=56 ...........................................\n",
            "[CV] ............................ kmeans__n_clusters=56, total=   3.7s\n",
            "[CV] kmeans__n_clusters=56 ...........................................\n",
            "[CV] ............................ kmeans__n_clusters=56, total=   6.6s\n",
            "[CV] kmeans__n_clusters=56 ...........................................\n",
            "[CV] ............................ kmeans__n_clusters=56, total=   2.8s\n",
            "[CV] kmeans__n_clusters=57 ...........................................\n",
            "[CV] ............................ kmeans__n_clusters=57, total=   7.2s\n",
            "[CV] kmeans__n_clusters=57 ...........................................\n",
            "[CV] ............................ kmeans__n_clusters=57, total=   7.4s\n",
            "[CV] kmeans__n_clusters=57 ...........................................\n",
            "[CV] ............................ kmeans__n_clusters=57, total=   6.4s\n",
            "[CV] kmeans__n_clusters=58 ...........................................\n",
            "[CV] ............................ kmeans__n_clusters=58, total=   4.8s\n",
            "[CV] kmeans__n_clusters=58 ...........................................\n",
            "[CV] ............................ kmeans__n_clusters=58, total=   6.2s\n",
            "[CV] kmeans__n_clusters=58 ...........................................\n",
            "[CV] ............................ kmeans__n_clusters=58, total=   3.7s\n",
            "[CV] kmeans__n_clusters=59 ...........................................\n",
            "[CV] ............................ kmeans__n_clusters=59, total=   5.5s\n",
            "[CV] kmeans__n_clusters=59 ...........................................\n",
            "[CV] ............................ kmeans__n_clusters=59, total=   4.6s\n",
            "[CV] kmeans__n_clusters=59 ...........................................\n",
            "[CV] ............................ kmeans__n_clusters=59, total=   3.2s\n",
            "[CV] kmeans__n_clusters=60 ...........................................\n",
            "[CV] ............................ kmeans__n_clusters=60, total=   3.4s\n",
            "[CV] kmeans__n_clusters=60 ...........................................\n",
            "[CV] ............................ kmeans__n_clusters=60, total=   2.8s\n",
            "[CV] kmeans__n_clusters=60 ...........................................\n",
            "[CV] ............................ kmeans__n_clusters=60, total=   3.6s\n",
            "[CV] kmeans__n_clusters=61 ...........................................\n",
            "[CV] ............................ kmeans__n_clusters=61, total=   4.1s\n",
            "[CV] kmeans__n_clusters=61 ...........................................\n",
            "[CV] ............................ kmeans__n_clusters=61, total=   3.1s\n",
            "[CV] kmeans__n_clusters=61 ...........................................\n",
            "[CV] ............................ kmeans__n_clusters=61, total=   3.1s\n",
            "[CV] kmeans__n_clusters=62 ...........................................\n"
          ],
          "name": "stdout"
        },
        {
          "output_type": "stream",
          "text": [
            "[CV] ............................ kmeans__n_clusters=62, total=   3.0s\n",
            "[CV] kmeans__n_clusters=62 ...........................................\n",
            "[CV] ............................ kmeans__n_clusters=62, total=   5.1s\n",
            "[CV] kmeans__n_clusters=62 ...........................................\n",
            "[CV] ............................ kmeans__n_clusters=62, total=   5.3s\n",
            "[CV] kmeans__n_clusters=63 ...........................................\n",
            "[CV] ............................ kmeans__n_clusters=63, total=   3.0s\n",
            "[CV] kmeans__n_clusters=63 ...........................................\n",
            "[CV] ............................ kmeans__n_clusters=63, total=   4.9s\n",
            "[CV] kmeans__n_clusters=63 ...........................................\n",
            "[CV] ............................ kmeans__n_clusters=63, total=   3.2s\n",
            "[CV] kmeans__n_clusters=64 ...........................................\n",
            "[CV] ............................ kmeans__n_clusters=64, total=   6.8s\n",
            "[CV] kmeans__n_clusters=64 ...........................................\n",
            "[CV] ............................ kmeans__n_clusters=64, total=   5.2s\n",
            "[CV] kmeans__n_clusters=64 ...........................................\n",
            "[CV] ............................ kmeans__n_clusters=64, total=   3.5s\n",
            "[CV] kmeans__n_clusters=65 ...........................................\n",
            "[CV] ............................ kmeans__n_clusters=65, total=   4.1s\n",
            "[CV] kmeans__n_clusters=65 ...........................................\n",
            "[CV] ............................ kmeans__n_clusters=65, total=   6.6s\n",
            "[CV] kmeans__n_clusters=65 ...........................................\n",
            "[CV] ............................ kmeans__n_clusters=65, total=   3.2s\n",
            "[CV] kmeans__n_clusters=66 ...........................................\n",
            "[CV] ............................ kmeans__n_clusters=66, total=   2.8s\n",
            "[CV] kmeans__n_clusters=66 ...........................................\n",
            "[CV] ............................ kmeans__n_clusters=66, total=   5.1s\n",
            "[CV] kmeans__n_clusters=66 ...........................................\n",
            "[CV] ............................ kmeans__n_clusters=66, total=   5.2s\n",
            "[CV] kmeans__n_clusters=67 ...........................................\n",
            "[CV] ............................ kmeans__n_clusters=67, total=   4.7s\n",
            "[CV] kmeans__n_clusters=67 ...........................................\n",
            "[CV] ............................ kmeans__n_clusters=67, total=   5.8s\n",
            "[CV] kmeans__n_clusters=67 ...........................................\n",
            "[CV] ............................ kmeans__n_clusters=67, total=   3.1s\n",
            "[CV] kmeans__n_clusters=68 ...........................................\n",
            "[CV] ............................ kmeans__n_clusters=68, total=   4.3s\n",
            "[CV] kmeans__n_clusters=68 ...........................................\n",
            "[CV] ............................ kmeans__n_clusters=68, total=   4.2s\n",
            "[CV] kmeans__n_clusters=68 ...........................................\n",
            "[CV] ............................ kmeans__n_clusters=68, total=   4.5s\n",
            "[CV] kmeans__n_clusters=69 ...........................................\n",
            "[CV] ............................ kmeans__n_clusters=69, total=   4.7s\n",
            "[CV] kmeans__n_clusters=69 ...........................................\n",
            "[CV] ............................ kmeans__n_clusters=69, total=   5.6s\n",
            "[CV] kmeans__n_clusters=69 ...........................................\n",
            "[CV] ............................ kmeans__n_clusters=69, total=   7.3s\n",
            "[CV] kmeans__n_clusters=70 ...........................................\n",
            "[CV] ............................ kmeans__n_clusters=70, total=   5.4s\n",
            "[CV] kmeans__n_clusters=70 ...........................................\n",
            "[CV] ............................ kmeans__n_clusters=70, total=   2.8s\n",
            "[CV] kmeans__n_clusters=70 ...........................................\n",
            "[CV] ............................ kmeans__n_clusters=70, total=   6.3s\n",
            "[CV] kmeans__n_clusters=71 ...........................................\n",
            "[CV] ............................ kmeans__n_clusters=71, total=   6.8s\n",
            "[CV] kmeans__n_clusters=71 ...........................................\n",
            "[CV] ............................ kmeans__n_clusters=71, total=   3.6s\n",
            "[CV] kmeans__n_clusters=71 ...........................................\n",
            "[CV] ............................ kmeans__n_clusters=71, total=   7.3s\n",
            "[CV] kmeans__n_clusters=72 ...........................................\n",
            "[CV] ............................ kmeans__n_clusters=72, total=   7.1s\n",
            "[CV] kmeans__n_clusters=72 ...........................................\n",
            "[CV] ............................ kmeans__n_clusters=72, total=   4.9s\n",
            "[CV] kmeans__n_clusters=72 ...........................................\n",
            "[CV] ............................ kmeans__n_clusters=72, total=   4.1s\n",
            "[CV] kmeans__n_clusters=73 ...........................................\n",
            "[CV] ............................ kmeans__n_clusters=73, total=   5.2s\n",
            "[CV] kmeans__n_clusters=73 ...........................................\n",
            "[CV] ............................ kmeans__n_clusters=73, total=   6.4s\n",
            "[CV] kmeans__n_clusters=73 ...........................................\n",
            "[CV] ............................ kmeans__n_clusters=73, total=   4.1s\n",
            "[CV] kmeans__n_clusters=74 ...........................................\n",
            "[CV] ............................ kmeans__n_clusters=74, total=   5.5s\n",
            "[CV] kmeans__n_clusters=74 ...........................................\n",
            "[CV] ............................ kmeans__n_clusters=74, total=   5.1s\n",
            "[CV] kmeans__n_clusters=74 ...........................................\n",
            "[CV] ............................ kmeans__n_clusters=74, total=   5.6s\n",
            "[CV] kmeans__n_clusters=75 ...........................................\n",
            "[CV] ............................ kmeans__n_clusters=75, total=   5.5s\n",
            "[CV] kmeans__n_clusters=75 ...........................................\n",
            "[CV] ............................ kmeans__n_clusters=75, total=   4.9s\n",
            "[CV] kmeans__n_clusters=75 ...........................................\n",
            "[CV] ............................ kmeans__n_clusters=75, total=   7.3s\n",
            "[CV] kmeans__n_clusters=76 ...........................................\n",
            "[CV] ............................ kmeans__n_clusters=76, total=   3.0s\n",
            "[CV] kmeans__n_clusters=76 ...........................................\n",
            "[CV] ............................ kmeans__n_clusters=76, total=   4.4s\n",
            "[CV] kmeans__n_clusters=76 ...........................................\n",
            "[CV] ............................ kmeans__n_clusters=76, total=   3.3s\n",
            "[CV] kmeans__n_clusters=77 ...........................................\n",
            "[CV] ............................ kmeans__n_clusters=77, total=   2.9s\n",
            "[CV] kmeans__n_clusters=77 ...........................................\n",
            "[CV] ............................ kmeans__n_clusters=77, total=   6.8s\n",
            "[CV] kmeans__n_clusters=77 ...........................................\n",
            "[CV] ............................ kmeans__n_clusters=77, total=   6.2s\n",
            "[CV] kmeans__n_clusters=78 ...........................................\n",
            "[CV] ............................ kmeans__n_clusters=78, total=   3.9s\n",
            "[CV] kmeans__n_clusters=78 ...........................................\n",
            "[CV] ............................ kmeans__n_clusters=78, total=   6.1s\n",
            "[CV] kmeans__n_clusters=78 ...........................................\n",
            "[CV] ............................ kmeans__n_clusters=78, total=   3.1s\n",
            "[CV] kmeans__n_clusters=79 ...........................................\n",
            "[CV] ............................ kmeans__n_clusters=79, total=   4.0s\n",
            "[CV] kmeans__n_clusters=79 ...........................................\n",
            "[CV] ............................ kmeans__n_clusters=79, total=   4.6s\n",
            "[CV] kmeans__n_clusters=79 ...........................................\n",
            "[CV] ............................ kmeans__n_clusters=79, total=   3.7s\n",
            "[CV] kmeans__n_clusters=80 ...........................................\n",
            "[CV] ............................ kmeans__n_clusters=80, total=   3.1s\n",
            "[CV] kmeans__n_clusters=80 ...........................................\n",
            "[CV] ............................ kmeans__n_clusters=80, total=   4.8s\n",
            "[CV] kmeans__n_clusters=80 ...........................................\n",
            "[CV] ............................ kmeans__n_clusters=80, total=   5.3s\n",
            "[CV] kmeans__n_clusters=81 ...........................................\n",
            "[CV] ............................ kmeans__n_clusters=81, total=   5.5s\n",
            "[CV] kmeans__n_clusters=81 ...........................................\n"
          ],
          "name": "stdout"
        },
        {
          "output_type": "stream",
          "text": [
            "[CV] ............................ kmeans__n_clusters=81, total=   3.7s\n",
            "[CV] kmeans__n_clusters=81 ...........................................\n",
            "[CV] ............................ kmeans__n_clusters=81, total=   8.3s\n",
            "[CV] kmeans__n_clusters=82 ...........................................\n",
            "[CV] ............................ kmeans__n_clusters=82, total=   3.1s\n",
            "[CV] kmeans__n_clusters=82 ...........................................\n",
            "[CV] ............................ kmeans__n_clusters=82, total=   4.4s\n",
            "[CV] kmeans__n_clusters=82 ...........................................\n",
            "[CV] ............................ kmeans__n_clusters=82, total=   3.6s\n",
            "[CV] kmeans__n_clusters=83 ...........................................\n",
            "[CV] ............................ kmeans__n_clusters=83, total=   2.9s\n",
            "[CV] kmeans__n_clusters=83 ...........................................\n",
            "[CV] ............................ kmeans__n_clusters=83, total=   3.2s\n",
            "[CV] kmeans__n_clusters=83 ...........................................\n",
            "[CV] ............................ kmeans__n_clusters=83, total=   3.4s\n",
            "[CV] kmeans__n_clusters=84 ...........................................\n",
            "[CV] ............................ kmeans__n_clusters=84, total=   4.4s\n",
            "[CV] kmeans__n_clusters=84 ...........................................\n",
            "[CV] ............................ kmeans__n_clusters=84, total=   5.9s\n",
            "[CV] kmeans__n_clusters=84 ...........................................\n",
            "[CV] ............................ kmeans__n_clusters=84, total=   4.7s\n",
            "[CV] kmeans__n_clusters=85 ...........................................\n",
            "[CV] ............................ kmeans__n_clusters=85, total=   3.4s\n",
            "[CV] kmeans__n_clusters=85 ...........................................\n",
            "[CV] ............................ kmeans__n_clusters=85, total=   6.0s\n",
            "[CV] kmeans__n_clusters=85 ...........................................\n",
            "[CV] ............................ kmeans__n_clusters=85, total=   4.8s\n",
            "[CV] kmeans__n_clusters=86 ...........................................\n",
            "[CV] ............................ kmeans__n_clusters=86, total=   4.8s\n",
            "[CV] kmeans__n_clusters=86 ...........................................\n",
            "[CV] ............................ kmeans__n_clusters=86, total=   5.2s\n",
            "[CV] kmeans__n_clusters=86 ...........................................\n",
            "[CV] ............................ kmeans__n_clusters=86, total=   6.5s\n",
            "[CV] kmeans__n_clusters=87 ...........................................\n",
            "[CV] ............................ kmeans__n_clusters=87, total=   6.3s\n",
            "[CV] kmeans__n_clusters=87 ...........................................\n",
            "[CV] ............................ kmeans__n_clusters=87, total=   3.0s\n",
            "[CV] kmeans__n_clusters=87 ...........................................\n",
            "[CV] ............................ kmeans__n_clusters=87, total=   5.0s\n",
            "[CV] kmeans__n_clusters=88 ...........................................\n",
            "[CV] ............................ kmeans__n_clusters=88, total=   4.1s\n",
            "[CV] kmeans__n_clusters=88 ...........................................\n",
            "[CV] ............................ kmeans__n_clusters=88, total=   4.2s\n",
            "[CV] kmeans__n_clusters=88 ...........................................\n",
            "[CV] ............................ kmeans__n_clusters=88, total=   4.3s\n",
            "[CV] kmeans__n_clusters=89 ...........................................\n",
            "[CV] ............................ kmeans__n_clusters=89, total=   6.5s\n",
            "[CV] kmeans__n_clusters=89 ...........................................\n",
            "[CV] ............................ kmeans__n_clusters=89, total=   7.3s\n",
            "[CV] kmeans__n_clusters=89 ...........................................\n",
            "[CV] ............................ kmeans__n_clusters=89, total=   4.7s\n",
            "[CV] kmeans__n_clusters=90 ...........................................\n",
            "[CV] ............................ kmeans__n_clusters=90, total=   4.5s\n",
            "[CV] kmeans__n_clusters=90 ...........................................\n",
            "[CV] ............................ kmeans__n_clusters=90, total=   3.2s\n",
            "[CV] kmeans__n_clusters=90 ...........................................\n",
            "[CV] ............................ kmeans__n_clusters=90, total=   6.1s\n",
            "[CV] kmeans__n_clusters=91 ...........................................\n",
            "[CV] ............................ kmeans__n_clusters=91, total=   3.1s\n",
            "[CV] kmeans__n_clusters=91 ...........................................\n",
            "[CV] ............................ kmeans__n_clusters=91, total=   3.3s\n",
            "[CV] kmeans__n_clusters=91 ...........................................\n",
            "[CV] ............................ kmeans__n_clusters=91, total=   5.2s\n",
            "[CV] kmeans__n_clusters=92 ...........................................\n",
            "[CV] ............................ kmeans__n_clusters=92, total=   3.3s\n",
            "[CV] kmeans__n_clusters=92 ...........................................\n",
            "[CV] ............................ kmeans__n_clusters=92, total=   5.8s\n",
            "[CV] kmeans__n_clusters=92 ...........................................\n",
            "[CV] ............................ kmeans__n_clusters=92, total=   3.6s\n",
            "[CV] kmeans__n_clusters=93 ...........................................\n",
            "[CV] ............................ kmeans__n_clusters=93, total=   3.6s\n",
            "[CV] kmeans__n_clusters=93 ...........................................\n",
            "[CV] ............................ kmeans__n_clusters=93, total=   3.0s\n",
            "[CV] kmeans__n_clusters=93 ...........................................\n",
            "[CV] ............................ kmeans__n_clusters=93, total=   7.0s\n",
            "[CV] kmeans__n_clusters=94 ...........................................\n",
            "[CV] ............................ kmeans__n_clusters=94, total=   3.1s\n",
            "[CV] kmeans__n_clusters=94 ...........................................\n",
            "[CV] ............................ kmeans__n_clusters=94, total=   5.8s\n",
            "[CV] kmeans__n_clusters=94 ...........................................\n",
            "[CV] ............................ kmeans__n_clusters=94, total=   5.8s\n",
            "[CV] kmeans__n_clusters=95 ...........................................\n",
            "[CV] ............................ kmeans__n_clusters=95, total=   4.1s\n",
            "[CV] kmeans__n_clusters=95 ...........................................\n",
            "[CV] ............................ kmeans__n_clusters=95, total=   3.4s\n",
            "[CV] kmeans__n_clusters=95 ...........................................\n",
            "[CV] ............................ kmeans__n_clusters=95, total=   5.9s\n",
            "[CV] kmeans__n_clusters=96 ...........................................\n",
            "[CV] ............................ kmeans__n_clusters=96, total=   5.3s\n",
            "[CV] kmeans__n_clusters=96 ...........................................\n",
            "[CV] ............................ kmeans__n_clusters=96, total=   3.0s\n",
            "[CV] kmeans__n_clusters=96 ...........................................\n",
            "[CV] ............................ kmeans__n_clusters=96, total=   5.5s\n",
            "[CV] kmeans__n_clusters=97 ...........................................\n",
            "[CV] ............................ kmeans__n_clusters=97, total=   9.1s\n",
            "[CV] kmeans__n_clusters=97 ...........................................\n",
            "[CV] ............................ kmeans__n_clusters=97, total=   4.1s\n",
            "[CV] kmeans__n_clusters=97 ...........................................\n",
            "[CV] ............................ kmeans__n_clusters=97, total=   4.5s\n",
            "[CV] kmeans__n_clusters=98 ...........................................\n",
            "[CV] ............................ kmeans__n_clusters=98, total=   4.4s\n",
            "[CV] kmeans__n_clusters=98 ...........................................\n",
            "[CV] ............................ kmeans__n_clusters=98, total=   4.1s\n",
            "[CV] kmeans__n_clusters=98 ...........................................\n",
            "[CV] ............................ kmeans__n_clusters=98, total=   5.8s\n",
            "[CV] kmeans__n_clusters=99 ...........................................\n",
            "[CV] ............................ kmeans__n_clusters=99, total=   7.1s\n",
            "[CV] kmeans__n_clusters=99 ...........................................\n",
            "[CV] ............................ kmeans__n_clusters=99, total=   7.6s\n",
            "[CV] kmeans__n_clusters=99 ...........................................\n",
            "[CV] ............................ kmeans__n_clusters=99, total=   5.1s\n"
          ],
          "name": "stdout"
        },
        {
          "output_type": "stream",
          "text": [
            "[Parallel(n_jobs=1)]: Done 294 out of 294 | elapsed: 26.4min finished\n"
          ],
          "name": "stderr"
        },
        {
          "output_type": "execute_result",
          "data": {
            "text/plain": [
              "GridSearchCV(cv=3,\n",
              "             estimator=Pipeline(steps=[('kmeans', KMeans(n_clusters=50)),\n",
              "                                       ('log_Reg',\n",
              "                                        LogisticRegression(max_iter=20000))]),\n",
              "             param_grid={'kmeans__n_clusters': range(2, 100)}, verbose=2)"
            ]
          },
          "metadata": {
            "tags": []
          },
          "execution_count": 48
        }
      ]
    },
    {
      "cell_type": "code",
      "metadata": {
        "id": "AUsfjVlJ2eIk",
        "outputId": "8c24753a-18f5-4fca-a836-6a8097c57a63"
      },
      "source": [
        "grid_clf.best_params_"
      ],
      "execution_count": null,
      "outputs": [
        {
          "output_type": "execute_result",
          "data": {
            "text/plain": [
              "{'kmeans__n_clusters': 72}"
            ]
          },
          "metadata": {
            "tags": []
          },
          "execution_count": 49
        }
      ]
    },
    {
      "cell_type": "markdown",
      "metadata": {
        "id": "7FmM8Vi22eIk"
      },
      "source": [
        "### Using Clustering for Semi-Supervised Learning\n",
        "When we have plenty of unlabeled instances and very few labeled instances."
      ]
    },
    {
      "cell_type": "code",
      "metadata": {
        "id": "jkZcA8He2eIl",
        "outputId": "b640a613-b91c-4ab3-fca7-571810fbebce"
      },
      "source": [
        "# Let's train Lg model on a sample of 50 labled instances from the digits dataset.\n",
        "n_labeled=50\n",
        "log_reg = LogisticRegression(max_iter=20000)\n",
        "log_reg.fit(X_train[:n_labeled], y_train[:n_labeled])\n",
        "log_reg.score(X_test, y_test)"
      ],
      "execution_count": null,
      "outputs": [
        {
          "output_type": "execute_result",
          "data": {
            "text/plain": [
              "0.8111111111111111"
            ]
          },
          "metadata": {
            "tags": []
          },
          "execution_count": 122
        }
      ]
    },
    {
      "cell_type": "markdown",
      "metadata": {
        "id": "i54CMxky2eIn"
      },
      "source": [
        "Let's cluster the training set into 50 clusters. Then for each cluster, let's find the image closest to the centroid. We will call these images the *representation images*."
      ]
    },
    {
      "cell_type": "code",
      "metadata": {
        "id": "iqA7nSzE2eIn"
      },
      "source": [
        "k=50\n",
        "kmeans = KMeans(n_clusters=50)\n",
        "X_digits_dist = kmeans.fit_transform(X_train)\n",
        "representative_digits_idx = np.argmin(X_digits_dist, axis=0)\n",
        "\n",
        "# 50 representative digit images (one per cluster)\n",
        "X_representative_digits = X_train[representative_digits_idx]"
      ],
      "execution_count": null,
      "outputs": []
    },
    {
      "cell_type": "code",
      "metadata": {
        "id": "wJKI3iBa2eIn",
        "outputId": "ea7366cc-0a33-4ce5-e1b1-6e87cc8b61a1"
      },
      "source": [
        "### dist of each instance from all 50 centroids stored in each row.\n",
        "X_digits_dist.shape"
      ],
      "execution_count": null,
      "outputs": [
        {
          "output_type": "execute_result",
          "data": {
            "text/plain": [
              "(1347, 50)"
            ]
          },
          "metadata": {
            "tags": []
          },
          "execution_count": 118
        }
      ]
    },
    {
      "cell_type": "code",
      "metadata": {
        "id": "OUmC3CF12eIn",
        "outputId": "37e49175-b693-41c3-b53b-075aa84c0619"
      },
      "source": [
        "kmeans.labels_.shape"
      ],
      "execution_count": null,
      "outputs": [
        {
          "output_type": "execute_result",
          "data": {
            "text/plain": [
              "(1347,)"
            ]
          },
          "metadata": {
            "tags": []
          },
          "execution_count": 130
        }
      ]
    },
    {
      "cell_type": "code",
      "metadata": {
        "id": "O1oJeO2S2eIo",
        "outputId": "b5d711b6-4ed9-4091-fb6f-3e844a820e20"
      },
      "source": [
        "%matplotlib notebook\n",
        "fig,ax = plt.subplots(5, 10)\n",
        "\n",
        "for i in range(5):\n",
        "    for j in range(10):\n",
        "        ax[i,j].imshow(X_representative_digits[(10*i)+j].reshape(8, 8), cmap='binary')"
      ],
      "execution_count": null,
      "outputs": [
        {
          "output_type": "display_data",
          "data": {
            "application/javascript": [
              "/* Put everything inside the global mpl namespace */\n",
              "/* global mpl */\n",
              "window.mpl = {};\n",
              "\n",
              "mpl.get_websocket_type = function () {\n",
              "    if (typeof WebSocket !== 'undefined') {\n",
              "        return WebSocket;\n",
              "    } else if (typeof MozWebSocket !== 'undefined') {\n",
              "        return MozWebSocket;\n",
              "    } else {\n",
              "        alert(\n",
              "            'Your browser does not have WebSocket support. ' +\n",
              "                'Please try Chrome, Safari or Firefox ≥ 6. ' +\n",
              "                'Firefox 4 and 5 are also supported but you ' +\n",
              "                'have to enable WebSockets in about:config.'\n",
              "        );\n",
              "    }\n",
              "};\n",
              "\n",
              "mpl.figure = function (figure_id, websocket, ondownload, parent_element) {\n",
              "    this.id = figure_id;\n",
              "\n",
              "    this.ws = websocket;\n",
              "\n",
              "    this.supports_binary = this.ws.binaryType !== undefined;\n",
              "\n",
              "    if (!this.supports_binary) {\n",
              "        var warnings = document.getElementById('mpl-warnings');\n",
              "        if (warnings) {\n",
              "            warnings.style.display = 'block';\n",
              "            warnings.textContent =\n",
              "                'This browser does not support binary websocket messages. ' +\n",
              "                'Performance may be slow.';\n",
              "        }\n",
              "    }\n",
              "\n",
              "    this.imageObj = new Image();\n",
              "\n",
              "    this.context = undefined;\n",
              "    this.message = undefined;\n",
              "    this.canvas = undefined;\n",
              "    this.rubberband_canvas = undefined;\n",
              "    this.rubberband_context = undefined;\n",
              "    this.format_dropdown = undefined;\n",
              "\n",
              "    this.image_mode = 'full';\n",
              "\n",
              "    this.root = document.createElement('div');\n",
              "    this.root.setAttribute('style', 'display: inline-block');\n",
              "    this._root_extra_style(this.root);\n",
              "\n",
              "    parent_element.appendChild(this.root);\n",
              "\n",
              "    this._init_header(this);\n",
              "    this._init_canvas(this);\n",
              "    this._init_toolbar(this);\n",
              "\n",
              "    var fig = this;\n",
              "\n",
              "    this.waiting = false;\n",
              "\n",
              "    this.ws.onopen = function () {\n",
              "        fig.send_message('supports_binary', { value: fig.supports_binary });\n",
              "        fig.send_message('send_image_mode', {});\n",
              "        if (fig.ratio !== 1) {\n",
              "            fig.send_message('set_dpi_ratio', { dpi_ratio: fig.ratio });\n",
              "        }\n",
              "        fig.send_message('refresh', {});\n",
              "    };\n",
              "\n",
              "    this.imageObj.onload = function () {\n",
              "        if (fig.image_mode === 'full') {\n",
              "            // Full images could contain transparency (where diff images\n",
              "            // almost always do), so we need to clear the canvas so that\n",
              "            // there is no ghosting.\n",
              "            fig.context.clearRect(0, 0, fig.canvas.width, fig.canvas.height);\n",
              "        }\n",
              "        fig.context.drawImage(fig.imageObj, 0, 0);\n",
              "    };\n",
              "\n",
              "    this.imageObj.onunload = function () {\n",
              "        fig.ws.close();\n",
              "    };\n",
              "\n",
              "    this.ws.onmessage = this._make_on_message_function(this);\n",
              "\n",
              "    this.ondownload = ondownload;\n",
              "};\n",
              "\n",
              "mpl.figure.prototype._init_header = function () {\n",
              "    var titlebar = document.createElement('div');\n",
              "    titlebar.classList =\n",
              "        'ui-dialog-titlebar ui-widget-header ui-corner-all ui-helper-clearfix';\n",
              "    var titletext = document.createElement('div');\n",
              "    titletext.classList = 'ui-dialog-title';\n",
              "    titletext.setAttribute(\n",
              "        'style',\n",
              "        'width: 100%; text-align: center; padding: 3px;'\n",
              "    );\n",
              "    titlebar.appendChild(titletext);\n",
              "    this.root.appendChild(titlebar);\n",
              "    this.header = titletext;\n",
              "};\n",
              "\n",
              "mpl.figure.prototype._canvas_extra_style = function (_canvas_div) {};\n",
              "\n",
              "mpl.figure.prototype._root_extra_style = function (_canvas_div) {};\n",
              "\n",
              "mpl.figure.prototype._init_canvas = function () {\n",
              "    var fig = this;\n",
              "\n",
              "    var canvas_div = (this.canvas_div = document.createElement('div'));\n",
              "    canvas_div.setAttribute(\n",
              "        'style',\n",
              "        'border: 1px solid #ddd;' +\n",
              "            'box-sizing: content-box;' +\n",
              "            'clear: both;' +\n",
              "            'min-height: 1px;' +\n",
              "            'min-width: 1px;' +\n",
              "            'outline: 0;' +\n",
              "            'overflow: hidden;' +\n",
              "            'position: relative;' +\n",
              "            'resize: both;'\n",
              "    );\n",
              "\n",
              "    function on_keyboard_event_closure(name) {\n",
              "        return function (event) {\n",
              "            return fig.key_event(event, name);\n",
              "        };\n",
              "    }\n",
              "\n",
              "    canvas_div.addEventListener(\n",
              "        'keydown',\n",
              "        on_keyboard_event_closure('key_press')\n",
              "    );\n",
              "    canvas_div.addEventListener(\n",
              "        'keyup',\n",
              "        on_keyboard_event_closure('key_release')\n",
              "    );\n",
              "\n",
              "    this._canvas_extra_style(canvas_div);\n",
              "    this.root.appendChild(canvas_div);\n",
              "\n",
              "    var canvas = (this.canvas = document.createElement('canvas'));\n",
              "    canvas.classList.add('mpl-canvas');\n",
              "    canvas.setAttribute('style', 'box-sizing: content-box;');\n",
              "\n",
              "    this.context = canvas.getContext('2d');\n",
              "\n",
              "    var backingStore =\n",
              "        this.context.backingStorePixelRatio ||\n",
              "        this.context.webkitBackingStorePixelRatio ||\n",
              "        this.context.mozBackingStorePixelRatio ||\n",
              "        this.context.msBackingStorePixelRatio ||\n",
              "        this.context.oBackingStorePixelRatio ||\n",
              "        this.context.backingStorePixelRatio ||\n",
              "        1;\n",
              "\n",
              "    this.ratio = (window.devicePixelRatio || 1) / backingStore;\n",
              "    if (this.ratio !== 1) {\n",
              "        fig.send_message('set_dpi_ratio', { dpi_ratio: this.ratio });\n",
              "    }\n",
              "\n",
              "    var rubberband_canvas = (this.rubberband_canvas = document.createElement(\n",
              "        'canvas'\n",
              "    ));\n",
              "    rubberband_canvas.setAttribute(\n",
              "        'style',\n",
              "        'box-sizing: content-box; position: absolute; left: 0; top: 0; z-index: 1;'\n",
              "    );\n",
              "\n",
              "    var resizeObserver = new ResizeObserver(function (entries) {\n",
              "        var nentries = entries.length;\n",
              "        for (var i = 0; i < nentries; i++) {\n",
              "            var entry = entries[i];\n",
              "            var width, height;\n",
              "            if (entry.contentBoxSize) {\n",
              "                if (entry.contentBoxSize instanceof Array) {\n",
              "                    // Chrome 84 implements new version of spec.\n",
              "                    width = entry.contentBoxSize[0].inlineSize;\n",
              "                    height = entry.contentBoxSize[0].blockSize;\n",
              "                } else {\n",
              "                    // Firefox implements old version of spec.\n",
              "                    width = entry.contentBoxSize.inlineSize;\n",
              "                    height = entry.contentBoxSize.blockSize;\n",
              "                }\n",
              "            } else {\n",
              "                // Chrome <84 implements even older version of spec.\n",
              "                width = entry.contentRect.width;\n",
              "                height = entry.contentRect.height;\n",
              "            }\n",
              "\n",
              "            // Keep the size of the canvas and rubber band canvas in sync with\n",
              "            // the canvas container.\n",
              "            if (entry.devicePixelContentBoxSize) {\n",
              "                // Chrome 84 implements new version of spec.\n",
              "                canvas.setAttribute(\n",
              "                    'width',\n",
              "                    entry.devicePixelContentBoxSize[0].inlineSize\n",
              "                );\n",
              "                canvas.setAttribute(\n",
              "                    'height',\n",
              "                    entry.devicePixelContentBoxSize[0].blockSize\n",
              "                );\n",
              "            } else {\n",
              "                canvas.setAttribute('width', width * fig.ratio);\n",
              "                canvas.setAttribute('height', height * fig.ratio);\n",
              "            }\n",
              "            canvas.setAttribute(\n",
              "                'style',\n",
              "                'width: ' + width + 'px; height: ' + height + 'px;'\n",
              "            );\n",
              "\n",
              "            rubberband_canvas.setAttribute('width', width);\n",
              "            rubberband_canvas.setAttribute('height', height);\n",
              "\n",
              "            // And update the size in Python. We ignore the initial 0/0 size\n",
              "            // that occurs as the element is placed into the DOM, which should\n",
              "            // otherwise not happen due to the minimum size styling.\n",
              "            if (width != 0 && height != 0) {\n",
              "                fig.request_resize(width, height);\n",
              "            }\n",
              "        }\n",
              "    });\n",
              "    resizeObserver.observe(canvas_div);\n",
              "\n",
              "    function on_mouse_event_closure(name) {\n",
              "        return function (event) {\n",
              "            return fig.mouse_event(event, name);\n",
              "        };\n",
              "    }\n",
              "\n",
              "    rubberband_canvas.addEventListener(\n",
              "        'mousedown',\n",
              "        on_mouse_event_closure('button_press')\n",
              "    );\n",
              "    rubberband_canvas.addEventListener(\n",
              "        'mouseup',\n",
              "        on_mouse_event_closure('button_release')\n",
              "    );\n",
              "    // Throttle sequential mouse events to 1 every 20ms.\n",
              "    rubberband_canvas.addEventListener(\n",
              "        'mousemove',\n",
              "        on_mouse_event_closure('motion_notify')\n",
              "    );\n",
              "\n",
              "    rubberband_canvas.addEventListener(\n",
              "        'mouseenter',\n",
              "        on_mouse_event_closure('figure_enter')\n",
              "    );\n",
              "    rubberband_canvas.addEventListener(\n",
              "        'mouseleave',\n",
              "        on_mouse_event_closure('figure_leave')\n",
              "    );\n",
              "\n",
              "    canvas_div.addEventListener('wheel', function (event) {\n",
              "        if (event.deltaY < 0) {\n",
              "            event.step = 1;\n",
              "        } else {\n",
              "            event.step = -1;\n",
              "        }\n",
              "        on_mouse_event_closure('scroll')(event);\n",
              "    });\n",
              "\n",
              "    canvas_div.appendChild(canvas);\n",
              "    canvas_div.appendChild(rubberband_canvas);\n",
              "\n",
              "    this.rubberband_context = rubberband_canvas.getContext('2d');\n",
              "    this.rubberband_context.strokeStyle = '#000000';\n",
              "\n",
              "    this._resize_canvas = function (width, height, forward) {\n",
              "        if (forward) {\n",
              "            canvas_div.style.width = width + 'px';\n",
              "            canvas_div.style.height = height + 'px';\n",
              "        }\n",
              "    };\n",
              "\n",
              "    // Disable right mouse context menu.\n",
              "    this.rubberband_canvas.addEventListener('contextmenu', function (_e) {\n",
              "        event.preventDefault();\n",
              "        return false;\n",
              "    });\n",
              "\n",
              "    function set_focus() {\n",
              "        canvas.focus();\n",
              "        canvas_div.focus();\n",
              "    }\n",
              "\n",
              "    window.setTimeout(set_focus, 100);\n",
              "};\n",
              "\n",
              "mpl.figure.prototype._init_toolbar = function () {\n",
              "    var fig = this;\n",
              "\n",
              "    var toolbar = document.createElement('div');\n",
              "    toolbar.classList = 'mpl-toolbar';\n",
              "    this.root.appendChild(toolbar);\n",
              "\n",
              "    function on_click_closure(name) {\n",
              "        return function (_event) {\n",
              "            return fig.toolbar_button_onclick(name);\n",
              "        };\n",
              "    }\n",
              "\n",
              "    function on_mouseover_closure(tooltip) {\n",
              "        return function (event) {\n",
              "            if (!event.currentTarget.disabled) {\n",
              "                return fig.toolbar_button_onmouseover(tooltip);\n",
              "            }\n",
              "        };\n",
              "    }\n",
              "\n",
              "    fig.buttons = {};\n",
              "    var buttonGroup = document.createElement('div');\n",
              "    buttonGroup.classList = 'mpl-button-group';\n",
              "    for (var toolbar_ind in mpl.toolbar_items) {\n",
              "        var name = mpl.toolbar_items[toolbar_ind][0];\n",
              "        var tooltip = mpl.toolbar_items[toolbar_ind][1];\n",
              "        var image = mpl.toolbar_items[toolbar_ind][2];\n",
              "        var method_name = mpl.toolbar_items[toolbar_ind][3];\n",
              "\n",
              "        if (!name) {\n",
              "            /* Instead of a spacer, we start a new button group. */\n",
              "            if (buttonGroup.hasChildNodes()) {\n",
              "                toolbar.appendChild(buttonGroup);\n",
              "            }\n",
              "            buttonGroup = document.createElement('div');\n",
              "            buttonGroup.classList = 'mpl-button-group';\n",
              "            continue;\n",
              "        }\n",
              "\n",
              "        var button = (fig.buttons[name] = document.createElement('button'));\n",
              "        button.classList = 'mpl-widget';\n",
              "        button.setAttribute('role', 'button');\n",
              "        button.setAttribute('aria-disabled', 'false');\n",
              "        button.addEventListener('click', on_click_closure(method_name));\n",
              "        button.addEventListener('mouseover', on_mouseover_closure(tooltip));\n",
              "\n",
              "        var icon_img = document.createElement('img');\n",
              "        icon_img.src = '_images/' + image + '.png';\n",
              "        icon_img.srcset = '_images/' + image + '_large.png 2x';\n",
              "        icon_img.alt = tooltip;\n",
              "        button.appendChild(icon_img);\n",
              "\n",
              "        buttonGroup.appendChild(button);\n",
              "    }\n",
              "\n",
              "    if (buttonGroup.hasChildNodes()) {\n",
              "        toolbar.appendChild(buttonGroup);\n",
              "    }\n",
              "\n",
              "    var fmt_picker = document.createElement('select');\n",
              "    fmt_picker.classList = 'mpl-widget';\n",
              "    toolbar.appendChild(fmt_picker);\n",
              "    this.format_dropdown = fmt_picker;\n",
              "\n",
              "    for (var ind in mpl.extensions) {\n",
              "        var fmt = mpl.extensions[ind];\n",
              "        var option = document.createElement('option');\n",
              "        option.selected = fmt === mpl.default_extension;\n",
              "        option.innerHTML = fmt;\n",
              "        fmt_picker.appendChild(option);\n",
              "    }\n",
              "\n",
              "    var status_bar = document.createElement('span');\n",
              "    status_bar.classList = 'mpl-message';\n",
              "    toolbar.appendChild(status_bar);\n",
              "    this.message = status_bar;\n",
              "};\n",
              "\n",
              "mpl.figure.prototype.request_resize = function (x_pixels, y_pixels) {\n",
              "    // Request matplotlib to resize the figure. Matplotlib will then trigger a resize in the client,\n",
              "    // which will in turn request a refresh of the image.\n",
              "    this.send_message('resize', { width: x_pixels, height: y_pixels });\n",
              "};\n",
              "\n",
              "mpl.figure.prototype.send_message = function (type, properties) {\n",
              "    properties['type'] = type;\n",
              "    properties['figure_id'] = this.id;\n",
              "    this.ws.send(JSON.stringify(properties));\n",
              "};\n",
              "\n",
              "mpl.figure.prototype.send_draw_message = function () {\n",
              "    if (!this.waiting) {\n",
              "        this.waiting = true;\n",
              "        this.ws.send(JSON.stringify({ type: 'draw', figure_id: this.id }));\n",
              "    }\n",
              "};\n",
              "\n",
              "mpl.figure.prototype.handle_save = function (fig, _msg) {\n",
              "    var format_dropdown = fig.format_dropdown;\n",
              "    var format = format_dropdown.options[format_dropdown.selectedIndex].value;\n",
              "    fig.ondownload(fig, format);\n",
              "};\n",
              "\n",
              "mpl.figure.prototype.handle_resize = function (fig, msg) {\n",
              "    var size = msg['size'];\n",
              "    if (size[0] !== fig.canvas.width || size[1] !== fig.canvas.height) {\n",
              "        fig._resize_canvas(size[0], size[1], msg['forward']);\n",
              "        fig.send_message('refresh', {});\n",
              "    }\n",
              "};\n",
              "\n",
              "mpl.figure.prototype.handle_rubberband = function (fig, msg) {\n",
              "    var x0 = msg['x0'] / fig.ratio;\n",
              "    var y0 = (fig.canvas.height - msg['y0']) / fig.ratio;\n",
              "    var x1 = msg['x1'] / fig.ratio;\n",
              "    var y1 = (fig.canvas.height - msg['y1']) / fig.ratio;\n",
              "    x0 = Math.floor(x0) + 0.5;\n",
              "    y0 = Math.floor(y0) + 0.5;\n",
              "    x1 = Math.floor(x1) + 0.5;\n",
              "    y1 = Math.floor(y1) + 0.5;\n",
              "    var min_x = Math.min(x0, x1);\n",
              "    var min_y = Math.min(y0, y1);\n",
              "    var width = Math.abs(x1 - x0);\n",
              "    var height = Math.abs(y1 - y0);\n",
              "\n",
              "    fig.rubberband_context.clearRect(\n",
              "        0,\n",
              "        0,\n",
              "        fig.canvas.width / fig.ratio,\n",
              "        fig.canvas.height / fig.ratio\n",
              "    );\n",
              "\n",
              "    fig.rubberband_context.strokeRect(min_x, min_y, width, height);\n",
              "};\n",
              "\n",
              "mpl.figure.prototype.handle_figure_label = function (fig, msg) {\n",
              "    // Updates the figure title.\n",
              "    fig.header.textContent = msg['label'];\n",
              "};\n",
              "\n",
              "mpl.figure.prototype.handle_cursor = function (fig, msg) {\n",
              "    var cursor = msg['cursor'];\n",
              "    switch (cursor) {\n",
              "        case 0:\n",
              "            cursor = 'pointer';\n",
              "            break;\n",
              "        case 1:\n",
              "            cursor = 'default';\n",
              "            break;\n",
              "        case 2:\n",
              "            cursor = 'crosshair';\n",
              "            break;\n",
              "        case 3:\n",
              "            cursor = 'move';\n",
              "            break;\n",
              "    }\n",
              "    fig.rubberband_canvas.style.cursor = cursor;\n",
              "};\n",
              "\n",
              "mpl.figure.prototype.handle_message = function (fig, msg) {\n",
              "    fig.message.textContent = msg['message'];\n",
              "};\n",
              "\n",
              "mpl.figure.prototype.handle_draw = function (fig, _msg) {\n",
              "    // Request the server to send over a new figure.\n",
              "    fig.send_draw_message();\n",
              "};\n",
              "\n",
              "mpl.figure.prototype.handle_image_mode = function (fig, msg) {\n",
              "    fig.image_mode = msg['mode'];\n",
              "};\n",
              "\n",
              "mpl.figure.prototype.handle_history_buttons = function (fig, msg) {\n",
              "    for (var key in msg) {\n",
              "        if (!(key in fig.buttons)) {\n",
              "            continue;\n",
              "        }\n",
              "        fig.buttons[key].disabled = !msg[key];\n",
              "        fig.buttons[key].setAttribute('aria-disabled', !msg[key]);\n",
              "    }\n",
              "};\n",
              "\n",
              "mpl.figure.prototype.handle_navigate_mode = function (fig, msg) {\n",
              "    if (msg['mode'] === 'PAN') {\n",
              "        fig.buttons['Pan'].classList.add('active');\n",
              "        fig.buttons['Zoom'].classList.remove('active');\n",
              "    } else if (msg['mode'] === 'ZOOM') {\n",
              "        fig.buttons['Pan'].classList.remove('active');\n",
              "        fig.buttons['Zoom'].classList.add('active');\n",
              "    } else {\n",
              "        fig.buttons['Pan'].classList.remove('active');\n",
              "        fig.buttons['Zoom'].classList.remove('active');\n",
              "    }\n",
              "};\n",
              "\n",
              "mpl.figure.prototype.updated_canvas_event = function () {\n",
              "    // Called whenever the canvas gets updated.\n",
              "    this.send_message('ack', {});\n",
              "};\n",
              "\n",
              "// A function to construct a web socket function for onmessage handling.\n",
              "// Called in the figure constructor.\n",
              "mpl.figure.prototype._make_on_message_function = function (fig) {\n",
              "    return function socket_on_message(evt) {\n",
              "        if (evt.data instanceof Blob) {\n",
              "            /* FIXME: We get \"Resource interpreted as Image but\n",
              "             * transferred with MIME type text/plain:\" errors on\n",
              "             * Chrome.  But how to set the MIME type?  It doesn't seem\n",
              "             * to be part of the websocket stream */\n",
              "            evt.data.type = 'image/png';\n",
              "\n",
              "            /* Free the memory for the previous frames */\n",
              "            if (fig.imageObj.src) {\n",
              "                (window.URL || window.webkitURL).revokeObjectURL(\n",
              "                    fig.imageObj.src\n",
              "                );\n",
              "            }\n",
              "\n",
              "            fig.imageObj.src = (window.URL || window.webkitURL).createObjectURL(\n",
              "                evt.data\n",
              "            );\n",
              "            fig.updated_canvas_event();\n",
              "            fig.waiting = false;\n",
              "            return;\n",
              "        } else if (\n",
              "            typeof evt.data === 'string' &&\n",
              "            evt.data.slice(0, 21) === 'data:image/png;base64'\n",
              "        ) {\n",
              "            fig.imageObj.src = evt.data;\n",
              "            fig.updated_canvas_event();\n",
              "            fig.waiting = false;\n",
              "            return;\n",
              "        }\n",
              "\n",
              "        var msg = JSON.parse(evt.data);\n",
              "        var msg_type = msg['type'];\n",
              "\n",
              "        // Call the  \"handle_{type}\" callback, which takes\n",
              "        // the figure and JSON message as its only arguments.\n",
              "        try {\n",
              "            var callback = fig['handle_' + msg_type];\n",
              "        } catch (e) {\n",
              "            console.log(\n",
              "                \"No handler for the '\" + msg_type + \"' message type: \",\n",
              "                msg\n",
              "            );\n",
              "            return;\n",
              "        }\n",
              "\n",
              "        if (callback) {\n",
              "            try {\n",
              "                // console.log(\"Handling '\" + msg_type + \"' message: \", msg);\n",
              "                callback(fig, msg);\n",
              "            } catch (e) {\n",
              "                console.log(\n",
              "                    \"Exception inside the 'handler_\" + msg_type + \"' callback:\",\n",
              "                    e,\n",
              "                    e.stack,\n",
              "                    msg\n",
              "                );\n",
              "            }\n",
              "        }\n",
              "    };\n",
              "};\n",
              "\n",
              "// from http://stackoverflow.com/questions/1114465/getting-mouse-location-in-canvas\n",
              "mpl.findpos = function (e) {\n",
              "    //this section is from http://www.quirksmode.org/js/events_properties.html\n",
              "    var targ;\n",
              "    if (!e) {\n",
              "        e = window.event;\n",
              "    }\n",
              "    if (e.target) {\n",
              "        targ = e.target;\n",
              "    } else if (e.srcElement) {\n",
              "        targ = e.srcElement;\n",
              "    }\n",
              "    if (targ.nodeType === 3) {\n",
              "        // defeat Safari bug\n",
              "        targ = targ.parentNode;\n",
              "    }\n",
              "\n",
              "    // pageX,Y are the mouse positions relative to the document\n",
              "    var boundingRect = targ.getBoundingClientRect();\n",
              "    var x = e.pageX - (boundingRect.left + document.body.scrollLeft);\n",
              "    var y = e.pageY - (boundingRect.top + document.body.scrollTop);\n",
              "\n",
              "    return { x: x, y: y };\n",
              "};\n",
              "\n",
              "/*\n",
              " * return a copy of an object with only non-object keys\n",
              " * we need this to avoid circular references\n",
              " * http://stackoverflow.com/a/24161582/3208463\n",
              " */\n",
              "function simpleKeys(original) {\n",
              "    return Object.keys(original).reduce(function (obj, key) {\n",
              "        if (typeof original[key] !== 'object') {\n",
              "            obj[key] = original[key];\n",
              "        }\n",
              "        return obj;\n",
              "    }, {});\n",
              "}\n",
              "\n",
              "mpl.figure.prototype.mouse_event = function (event, name) {\n",
              "    var canvas_pos = mpl.findpos(event);\n",
              "\n",
              "    if (name === 'button_press') {\n",
              "        this.canvas.focus();\n",
              "        this.canvas_div.focus();\n",
              "    }\n",
              "\n",
              "    var x = canvas_pos.x * this.ratio;\n",
              "    var y = canvas_pos.y * this.ratio;\n",
              "\n",
              "    this.send_message(name, {\n",
              "        x: x,\n",
              "        y: y,\n",
              "        button: event.button,\n",
              "        step: event.step,\n",
              "        guiEvent: simpleKeys(event),\n",
              "    });\n",
              "\n",
              "    /* This prevents the web browser from automatically changing to\n",
              "     * the text insertion cursor when the button is pressed.  We want\n",
              "     * to control all of the cursor setting manually through the\n",
              "     * 'cursor' event from matplotlib */\n",
              "    event.preventDefault();\n",
              "    return false;\n",
              "};\n",
              "\n",
              "mpl.figure.prototype._key_event_extra = function (_event, _name) {\n",
              "    // Handle any extra behaviour associated with a key event\n",
              "};\n",
              "\n",
              "mpl.figure.prototype.key_event = function (event, name) {\n",
              "    // Prevent repeat events\n",
              "    if (name === 'key_press') {\n",
              "        if (event.which === this._key) {\n",
              "            return;\n",
              "        } else {\n",
              "            this._key = event.which;\n",
              "        }\n",
              "    }\n",
              "    if (name === 'key_release') {\n",
              "        this._key = null;\n",
              "    }\n",
              "\n",
              "    var value = '';\n",
              "    if (event.ctrlKey && event.which !== 17) {\n",
              "        value += 'ctrl+';\n",
              "    }\n",
              "    if (event.altKey && event.which !== 18) {\n",
              "        value += 'alt+';\n",
              "    }\n",
              "    if (event.shiftKey && event.which !== 16) {\n",
              "        value += 'shift+';\n",
              "    }\n",
              "\n",
              "    value += 'k';\n",
              "    value += event.which.toString();\n",
              "\n",
              "    this._key_event_extra(event, name);\n",
              "\n",
              "    this.send_message(name, { key: value, guiEvent: simpleKeys(event) });\n",
              "    return false;\n",
              "};\n",
              "\n",
              "mpl.figure.prototype.toolbar_button_onclick = function (name) {\n",
              "    if (name === 'download') {\n",
              "        this.handle_save(this, null);\n",
              "    } else {\n",
              "        this.send_message('toolbar_button', { name: name });\n",
              "    }\n",
              "};\n",
              "\n",
              "mpl.figure.prototype.toolbar_button_onmouseover = function (tooltip) {\n",
              "    this.message.textContent = tooltip;\n",
              "};\n",
              "mpl.toolbar_items = [[\"Home\", \"Reset original view\", \"fa fa-home icon-home\", \"home\"], [\"Back\", \"Back to previous view\", \"fa fa-arrow-left icon-arrow-left\", \"back\"], [\"Forward\", \"Forward to next view\", \"fa fa-arrow-right icon-arrow-right\", \"forward\"], [\"\", \"\", \"\", \"\"], [\"Pan\", \"Left button pans, Right button zooms\\nx/y fixes axis, CTRL fixes aspect\", \"fa fa-arrows icon-move\", \"pan\"], [\"Zoom\", \"Zoom to rectangle\\nx/y fixes axis, CTRL fixes aspect\", \"fa fa-square-o icon-check-empty\", \"zoom\"], [\"\", \"\", \"\", \"\"], [\"Download\", \"Download plot\", \"fa fa-floppy-o icon-save\", \"download\"]];\n",
              "\n",
              "mpl.extensions = [\"eps\", \"jpeg\", \"pdf\", \"png\", \"ps\", \"raw\", \"svg\", \"tif\"];\n",
              "\n",
              "mpl.default_extension = \"png\";/* global mpl */\n",
              "\n",
              "var comm_websocket_adapter = function (comm) {\n",
              "    // Create a \"websocket\"-like object which calls the given IPython comm\n",
              "    // object with the appropriate methods. Currently this is a non binary\n",
              "    // socket, so there is still some room for performance tuning.\n",
              "    var ws = {};\n",
              "\n",
              "    ws.close = function () {\n",
              "        comm.close();\n",
              "    };\n",
              "    ws.send = function (m) {\n",
              "        //console.log('sending', m);\n",
              "        comm.send(m);\n",
              "    };\n",
              "    // Register the callback with on_msg.\n",
              "    comm.on_msg(function (msg) {\n",
              "        //console.log('receiving', msg['content']['data'], msg);\n",
              "        // Pass the mpl event to the overridden (by mpl) onmessage function.\n",
              "        ws.onmessage(msg['content']['data']);\n",
              "    });\n",
              "    return ws;\n",
              "};\n",
              "\n",
              "mpl.mpl_figure_comm = function (comm, msg) {\n",
              "    // This is the function which gets called when the mpl process\n",
              "    // starts-up an IPython Comm through the \"matplotlib\" channel.\n",
              "\n",
              "    var id = msg.content.data.id;\n",
              "    // Get hold of the div created by the display call when the Comm\n",
              "    // socket was opened in Python.\n",
              "    var element = document.getElementById(id);\n",
              "    var ws_proxy = comm_websocket_adapter(comm);\n",
              "\n",
              "    function ondownload(figure, _format) {\n",
              "        window.open(figure.canvas.toDataURL());\n",
              "    }\n",
              "\n",
              "    var fig = new mpl.figure(id, ws_proxy, ondownload, element);\n",
              "\n",
              "    // Call onopen now - mpl needs it, as it is assuming we've passed it a real\n",
              "    // web socket which is closed, not our websocket->open comm proxy.\n",
              "    ws_proxy.onopen();\n",
              "\n",
              "    fig.parent_element = element;\n",
              "    fig.cell_info = mpl.find_output_cell(\"<div id='\" + id + \"'></div>\");\n",
              "    if (!fig.cell_info) {\n",
              "        console.error('Failed to find cell for figure', id, fig);\n",
              "        return;\n",
              "    }\n",
              "    fig.cell_info[0].output_area.element.one(\n",
              "        'cleared',\n",
              "        { fig: fig },\n",
              "        fig._remove_fig_handler\n",
              "    );\n",
              "};\n",
              "\n",
              "mpl.figure.prototype.handle_close = function (fig, msg) {\n",
              "    var width = fig.canvas.width / fig.ratio;\n",
              "    fig.cell_info[0].output_area.element.off(\n",
              "        'cleared',\n",
              "        fig._remove_fig_handler\n",
              "    );\n",
              "\n",
              "    // Update the output cell to use the data from the current canvas.\n",
              "    fig.push_to_output();\n",
              "    var dataURL = fig.canvas.toDataURL();\n",
              "    // Re-enable the keyboard manager in IPython - without this line, in FF,\n",
              "    // the notebook keyboard shortcuts fail.\n",
              "    IPython.keyboard_manager.enable();\n",
              "    fig.parent_element.innerHTML =\n",
              "        '<img src=\"' + dataURL + '\" width=\"' + width + '\">';\n",
              "    fig.close_ws(fig, msg);\n",
              "};\n",
              "\n",
              "mpl.figure.prototype.close_ws = function (fig, msg) {\n",
              "    fig.send_message('closing', msg);\n",
              "    // fig.ws.close()\n",
              "};\n",
              "\n",
              "mpl.figure.prototype.push_to_output = function (_remove_interactive) {\n",
              "    // Turn the data on the canvas into data in the output cell.\n",
              "    var width = this.canvas.width / this.ratio;\n",
              "    var dataURL = this.canvas.toDataURL();\n",
              "    this.cell_info[1]['text/html'] =\n",
              "        '<img src=\"' + dataURL + '\" width=\"' + width + '\">';\n",
              "};\n",
              "\n",
              "mpl.figure.prototype.updated_canvas_event = function () {\n",
              "    // Tell IPython that the notebook contents must change.\n",
              "    IPython.notebook.set_dirty(true);\n",
              "    this.send_message('ack', {});\n",
              "    var fig = this;\n",
              "    // Wait a second, then push the new image to the DOM so\n",
              "    // that it is saved nicely (might be nice to debounce this).\n",
              "    setTimeout(function () {\n",
              "        fig.push_to_output();\n",
              "    }, 1000);\n",
              "};\n",
              "\n",
              "mpl.figure.prototype._init_toolbar = function () {\n",
              "    var fig = this;\n",
              "\n",
              "    var toolbar = document.createElement('div');\n",
              "    toolbar.classList = 'btn-toolbar';\n",
              "    this.root.appendChild(toolbar);\n",
              "\n",
              "    function on_click_closure(name) {\n",
              "        return function (_event) {\n",
              "            return fig.toolbar_button_onclick(name);\n",
              "        };\n",
              "    }\n",
              "\n",
              "    function on_mouseover_closure(tooltip) {\n",
              "        return function (event) {\n",
              "            if (!event.currentTarget.disabled) {\n",
              "                return fig.toolbar_button_onmouseover(tooltip);\n",
              "            }\n",
              "        };\n",
              "    }\n",
              "\n",
              "    fig.buttons = {};\n",
              "    var buttonGroup = document.createElement('div');\n",
              "    buttonGroup.classList = 'btn-group';\n",
              "    var button;\n",
              "    for (var toolbar_ind in mpl.toolbar_items) {\n",
              "        var name = mpl.toolbar_items[toolbar_ind][0];\n",
              "        var tooltip = mpl.toolbar_items[toolbar_ind][1];\n",
              "        var image = mpl.toolbar_items[toolbar_ind][2];\n",
              "        var method_name = mpl.toolbar_items[toolbar_ind][3];\n",
              "\n",
              "        if (!name) {\n",
              "            /* Instead of a spacer, we start a new button group. */\n",
              "            if (buttonGroup.hasChildNodes()) {\n",
              "                toolbar.appendChild(buttonGroup);\n",
              "            }\n",
              "            buttonGroup = document.createElement('div');\n",
              "            buttonGroup.classList = 'btn-group';\n",
              "            continue;\n",
              "        }\n",
              "\n",
              "        button = fig.buttons[name] = document.createElement('button');\n",
              "        button.classList = 'btn btn-default';\n",
              "        button.href = '#';\n",
              "        button.title = name;\n",
              "        button.innerHTML = '<i class=\"fa ' + image + ' fa-lg\"></i>';\n",
              "        button.addEventListener('click', on_click_closure(method_name));\n",
              "        button.addEventListener('mouseover', on_mouseover_closure(tooltip));\n",
              "        buttonGroup.appendChild(button);\n",
              "    }\n",
              "\n",
              "    if (buttonGroup.hasChildNodes()) {\n",
              "        toolbar.appendChild(buttonGroup);\n",
              "    }\n",
              "\n",
              "    // Add the status bar.\n",
              "    var status_bar = document.createElement('span');\n",
              "    status_bar.classList = 'mpl-message pull-right';\n",
              "    toolbar.appendChild(status_bar);\n",
              "    this.message = status_bar;\n",
              "\n",
              "    // Add the close button to the window.\n",
              "    var buttongrp = document.createElement('div');\n",
              "    buttongrp.classList = 'btn-group inline pull-right';\n",
              "    button = document.createElement('button');\n",
              "    button.classList = 'btn btn-mini btn-primary';\n",
              "    button.href = '#';\n",
              "    button.title = 'Stop Interaction';\n",
              "    button.innerHTML = '<i class=\"fa fa-power-off icon-remove icon-large\"></i>';\n",
              "    button.addEventListener('click', function (_evt) {\n",
              "        fig.handle_close(fig, {});\n",
              "    });\n",
              "    button.addEventListener(\n",
              "        'mouseover',\n",
              "        on_mouseover_closure('Stop Interaction')\n",
              "    );\n",
              "    buttongrp.appendChild(button);\n",
              "    var titlebar = this.root.querySelector('.ui-dialog-titlebar');\n",
              "    titlebar.insertBefore(buttongrp, titlebar.firstChild);\n",
              "};\n",
              "\n",
              "mpl.figure.prototype._remove_fig_handler = function (event) {\n",
              "    var fig = event.data.fig;\n",
              "    fig.close_ws(fig, {});\n",
              "};\n",
              "\n",
              "mpl.figure.prototype._root_extra_style = function (el) {\n",
              "    el.style.boxSizing = 'content-box'; // override notebook setting of border-box.\n",
              "};\n",
              "\n",
              "mpl.figure.prototype._canvas_extra_style = function (el) {\n",
              "    // this is important to make the div 'focusable\n",
              "    el.setAttribute('tabindex', 0);\n",
              "    // reach out to IPython and tell the keyboard manager to turn it's self\n",
              "    // off when our div gets focus\n",
              "\n",
              "    // location in version 3\n",
              "    if (IPython.notebook.keyboard_manager) {\n",
              "        IPython.notebook.keyboard_manager.register_events(el);\n",
              "    } else {\n",
              "        // location in version 2\n",
              "        IPython.keyboard_manager.register_events(el);\n",
              "    }\n",
              "};\n",
              "\n",
              "mpl.figure.prototype._key_event_extra = function (event, _name) {\n",
              "    var manager = IPython.notebook.keyboard_manager;\n",
              "    if (!manager) {\n",
              "        manager = IPython.keyboard_manager;\n",
              "    }\n",
              "\n",
              "    // Check for shift+enter\n",
              "    if (event.shiftKey && event.which === 13) {\n",
              "        this.canvas_div.blur();\n",
              "        // select the cell after this one\n",
              "        var index = IPython.notebook.find_cell_index(this.cell_info[0]);\n",
              "        IPython.notebook.select(index + 1);\n",
              "    }\n",
              "};\n",
              "\n",
              "mpl.figure.prototype.handle_save = function (fig, _msg) {\n",
              "    fig.ondownload(fig, null);\n",
              "};\n",
              "\n",
              "mpl.find_output_cell = function (html_output) {\n",
              "    // Return the cell and output element which can be found *uniquely* in the notebook.\n",
              "    // Note - this is a bit hacky, but it is done because the \"notebook_saving.Notebook\"\n",
              "    // IPython event is triggered only after the cells have been serialised, which for\n",
              "    // our purposes (turning an active figure into a static one), is too late.\n",
              "    var cells = IPython.notebook.get_cells();\n",
              "    var ncells = cells.length;\n",
              "    for (var i = 0; i < ncells; i++) {\n",
              "        var cell = cells[i];\n",
              "        if (cell.cell_type === 'code') {\n",
              "            for (var j = 0; j < cell.output_area.outputs.length; j++) {\n",
              "                var data = cell.output_area.outputs[j];\n",
              "                if (data.data) {\n",
              "                    // IPython >= 3 moved mimebundle to data attribute of output\n",
              "                    data = data.data;\n",
              "                }\n",
              "                if (data['text/html'] === html_output) {\n",
              "                    return [cell, data, j];\n",
              "                }\n",
              "            }\n",
              "        }\n",
              "    }\n",
              "};\n",
              "\n",
              "// Register the function which deals with the matplotlib target/channel.\n",
              "// The kernel may be null if the page has been refreshed.\n",
              "if (IPython.notebook.kernel !== null) {\n",
              "    IPython.notebook.kernel.comm_manager.register_target(\n",
              "        'matplotlib',\n",
              "        mpl.mpl_figure_comm\n",
              "    );\n",
              "}\n"
            ],
            "text/plain": [
              "<IPython.core.display.Javascript object>"
            ]
          },
          "metadata": {
            "tags": []
          }
        },
        {
          "output_type": "display_data",
          "data": {
            "text/html": [
              "<img src=\"data:image/png;base64,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\" width=\"953.9622488927581\">"
            ],
            "text/plain": [
              "<IPython.core.display.HTML object>"
            ]
          },
          "metadata": {
            "tags": []
          }
        }
      ]
    },
    {
      "cell_type": "markdown",
      "metadata": {
        "id": "kH7jx2Wr2eIo"
      },
      "source": [
        "Let's look at these images and manually label them."
      ]
    },
    {
      "cell_type": "code",
      "metadata": {
        "id": "8Jf-k3c_2eIo"
      },
      "source": [
        "# Now we have a dataset with just 50 labeled instances.\n",
        "# But instead of being random instances, each one of them representative image of its cluster\n",
        "y_representative_digits = np.array([9, 2, 6, 5, 4, 7, 5, 9, 0, 8,\n",
        "                                    2, 3, 1, 0, 7, 9, 7, 3, 9, 5,\n",
        "                                    7, 2, 0, 9, 3, 0, 4, 6, 6, 1,\n",
        "                                    6, 2, 7, 2, 5, 3, 4, 2, 1, 8,\n",
        "                                    3, 8, 4, 4, 1, 4, 7, 9, 2, 3])"
      ],
      "execution_count": null,
      "outputs": []
    },
    {
      "cell_type": "code",
      "metadata": {
        "id": "S_0t66VB2eIo",
        "outputId": "52eb10dd-83fe-40da-c696-76bcfcd41b1b"
      },
      "source": [
        "log_reg = LogisticRegression(max_iter=20000)\n",
        "log_reg.fit(X_representative_digits, y_representative_digits)\n",
        "log_reg.score(X_test, y_test)"
      ],
      "execution_count": null,
      "outputs": [
        {
          "output_type": "execute_result",
          "data": {
            "text/plain": [
              "0.8955555555555555"
            ]
          },
          "metadata": {
            "tags": []
          },
          "execution_count": 120
        }
      ]
    },
    {
      "cell_type": "markdown",
      "metadata": {
        "id": "59Os9Jz32eIo"
      },
      "source": [
        "#### Label Propagation\n",
        "Propagate the labels to all the other instances in the same cluster.\n",
        "\n",
        "I was already thinking? Why they didn't did this at first place.\n",
        "\n"
      ]
    },
    {
      "cell_type": "code",
      "metadata": {
        "id": "ZX9FEw3g2eIp"
      },
      "source": [
        "y_train_propagated = np.empty(len(X_train), dtype=np.int32)\n",
        "for i in range(k):\n",
        "    # Kmeans.labels_ stores the cluster label for each instance\n",
        "    y_train_propagated[kmeans.labels_==i] = y_representative_digits[i]"
      ],
      "execution_count": null,
      "outputs": []
    },
    {
      "cell_type": "code",
      "metadata": {
        "id": "bNElwq8x2eIp",
        "outputId": "19fece62-5992-4b61-a4fe-fb48cc6d3637"
      },
      "source": [
        "# Now let's train the model again and look at its performance\n",
        "log_reg = LogisticRegression(max_iter=20000)\n",
        "log_reg.fit(X_train, y_train_propagated)\n",
        "log_reg.score(X_test, y_test)"
      ],
      "execution_count": null,
      "outputs": [
        {
          "output_type": "execute_result",
          "data": {
            "text/plain": [
              "0.88"
            ]
          },
          "metadata": {
            "tags": []
          },
          "execution_count": 119
        }
      ]
    },
    {
      "cell_type": "markdown",
      "metadata": {
        "id": "MEhpmQrx2eIq"
      },
      "source": [
        "The problem is that we propagated each representative instance's label to all the instances in the same cluster. including the instances located close to the cluster boundaries which are more likely to be mislabeled.\n",
        "\n",
        "Let's see what hapens if we only propagate the labels to the 20% of the instances that are closest to the centroids."
      ]
    },
    {
      "cell_type": "code",
      "metadata": {
        "id": "O4d7G0H92eIq"
      },
      "source": [
        "percentile_closest = 20\n",
        "\n",
        "X_cluster_dist = X_digits_dist[np.arange(len(X_train)), kmeans.labels_]\n",
        "for i in range(k):\n",
        "    in_cluster = (kmeans.labels_ == i)\n",
        "    cluster_dist = X_cluster_dist[in_cluster]\n",
        "    cutoff_distance = np.percentile(cluster_dist, percentile_closest)\n",
        "    above_cutoff = (X_cluster_dist > cutoff_distance)\n",
        "    X_cluster_dist[in_cluster & above_cutoff] = -1\n",
        "    \n",
        "partially_propagated = (X_cluster_dist != -1)\n",
        "X_train_partially_propagated = X_train[partially_propagated]\n",
        "y_train_partially_propagated = y_train_propagated[partially_propagated]"
      ],
      "execution_count": null,
      "outputs": []
    },
    {
      "cell_type": "code",
      "metadata": {
        "id": "fHYOMGyY2eIq",
        "outputId": "ddcae71d-3eb3-4d96-a18e-8032a648c757"
      },
      "source": [
        "# now let's train LG on this data\n",
        "log_reg = LogisticRegression(max_iter=20000)\n",
        "log_reg.fit(X_train_partially_propagated, y_train_partially_propagated)\n",
        "log_reg.score(X_test, y_test)"
      ],
      "execution_count": null,
      "outputs": [
        {
          "output_type": "execute_result",
          "data": {
            "text/plain": [
              "0.11333333333333333"
            ]
          },
          "metadata": {
            "tags": []
          },
          "execution_count": 145
        }
      ]
    },
    {
      "cell_type": "markdown",
      "metadata": {
        "id": "USggXRBa2eIr"
      },
      "source": [
        "### Active Learning \n",
        "When a human expert interacts with the learning algorithm, providing labels for specific instances when the algorithm request them.\n",
        "Many different strategies to do; most common **Uncertainity sampling**\n",
        "\n",
        "1. The model is trained on the labeled instances gathered so far, and this model is used to make predictions on all the unlabeled instances.\n",
        "2. The instances for which the model is most uncertain (i.e., when its estimated probability is lowest) are given to the expert to be labeled.\n",
        "3. You iterate this process until all the performance improvement stops being worth the labelling effort.\n",
        "\n",
        "Other strategies include labeling the instances that would result in the largest model change, or the largest drop in the model's validation error, or the instances that different models disagree on."
      ]
    },
    {
      "cell_type": "markdown",
      "metadata": {
        "id": "OQaO-u8T2eIs"
      },
      "source": [
        "## DBSCAN\n",
        "This algorithm defines clusters as continuous regions of high density.\n",
        "\n",
        "### How it works?\n",
        "- For each instance, the algorithm counts how many instances are located within a small distance $\\epsilon$ from it. This region is called instance's $\\epsilon$**-neighborhood**.\n",
        "- If an instance has at least `min_samples` instances in its $\\epsilon$-neighborhood (including itself), then it is considered as **core instance**.\n",
        "- All the instances in the neighborhood of a core instance belong to the same cluster. This neighborhood may include other core instances; therfore, a long sequence of neighboring core instances forms a single cluster.\n",
        "- Any instance that is not a core instance and does not have one in itsneighborhood is considered an *anomaly*."
      ]
    },
    {
      "cell_type": "code",
      "metadata": {
        "scrolled": true,
        "id": "NNJC2QJ72eIt",
        "outputId": "e17c2c95-9484-43e6-81d6-b31c47fc195d"
      },
      "source": [
        "from sklearn.cluster import DBSCAN\n",
        "from sklearn.datasets import make_moons\n",
        "\n",
        "X, y = make_moons(n_samples=1000, noise=0.05)\n",
        "dbscan = DBSCAN(eps=0.2, min_samples=5)\n",
        "dbscan.fit(X)\n",
        "\n",
        "dbscan.labels_[:20]"
      ],
      "execution_count": null,
      "outputs": [
        {
          "output_type": "execute_result",
          "data": {
            "text/plain": [
              "array([0, 1, 1, 0, 1, 1, 0, 1, 1, 0, 1, 1, 0, 1, 0, 0, 0, 0, 0, 1],\n",
              "      dtype=int64)"
            ]
          },
          "metadata": {
            "tags": []
          },
          "execution_count": 1
        }
      ]
    },
    {
      "cell_type": "markdown",
      "metadata": {
        "id": "036j2nFM2eIt"
      },
      "source": [
        "- `labels_` stores labels of all the instances.\n",
        "- `core_sample_indices_` stores indices of the core instances.\n",
        "- `components_` core instances themselves."
      ]
    },
    {
      "cell_type": "code",
      "metadata": {
        "id": "11kEbg7M2eIt",
        "outputId": "c3b264d2-424d-4cac-dc55-a4f6c111fb0d"
      },
      "source": [
        "len(dbscan.core_sample_indices_)"
      ],
      "execution_count": null,
      "outputs": [
        {
          "output_type": "execute_result",
          "data": {
            "text/plain": [
              "1000"
            ]
          },
          "metadata": {
            "tags": []
          },
          "execution_count": 156
        }
      ]
    },
    {
      "cell_type": "code",
      "metadata": {
        "id": "7JOOLce32eIt",
        "outputId": "6a5ff7fe-c0e9-4158-e58a-a0bd6f95846c"
      },
      "source": [
        "dbscan.core_sample_indices_[:20]"
      ],
      "execution_count": null,
      "outputs": [
        {
          "output_type": "execute_result",
          "data": {
            "text/plain": [
              "array([ 0,  1,  2,  3,  4,  5,  6,  7,  8,  9, 10, 11, 12, 13, 14, 15, 16,\n",
              "       17, 18, 19], dtype=int64)"
            ]
          },
          "metadata": {
            "tags": []
          },
          "execution_count": 157
        }
      ]
    },
    {
      "cell_type": "code",
      "metadata": {
        "id": "PRbzfmEn2eIu",
        "outputId": "d4538cd7-4e0f-46ee-c666-f2ff8d9ecc70"
      },
      "source": [
        "dbscan.components_"
      ],
      "execution_count": null,
      "outputs": [
        {
          "output_type": "execute_result",
          "data": {
            "text/plain": [
              "array([[ 0.22494761, -0.1074315 ],\n",
              "       [-0.05240677,  0.23884566],\n",
              "       [ 0.47381941,  0.8685589 ],\n",
              "       ...,\n",
              "       [-1.0515638 ,  0.1218746 ],\n",
              "       [-0.08418621,  0.29653872],\n",
              "       [ 2.01648049,  0.15058592]])"
            ]
          },
          "metadata": {
            "tags": []
          },
          "execution_count": 158
        }
      ]
    },
    {
      "cell_type": "markdown",
      "metadata": {
        "id": "yCrrSasg2eIv"
      },
      "source": [
        "DBSCAN class does not have `predict()` method, although it has a `fit_predict()` method. In other words, it cannot predict which cluster a new instance belong to."
      ]
    },
    {
      "cell_type": "code",
      "metadata": {
        "id": "gd9IyWJa2eIv",
        "outputId": "a1a10963-2b5b-45a7-8f75-e5e66027bad8"
      },
      "source": [
        "# Moreover, it's not hard to implement.\n",
        "from sklearn.neighbors import KNeighborsClassifier\n",
        "\n",
        "knn = KNeighborsClassifier(n_neighbors=50)\n",
        "knn.fit(dbscan.components_, dbscan.labels_[dbscan.core_sample_indices_])"
      ],
      "execution_count": null,
      "outputs": [
        {
          "output_type": "execute_result",
          "data": {
            "text/plain": [
              "KNeighborsClassifier(n_neighbors=50)"
            ]
          },
          "metadata": {
            "tags": []
          },
          "execution_count": 161
        }
      ]
    },
    {
      "cell_type": "markdown",
      "metadata": {
        "id": "aw6b9LcI2eIv"
      },
      "source": [
        "Now given a few new instances, we can predict which cluster they most likely belong to and even estimate a probablity for each cluster."
      ]
    },
    {
      "cell_type": "code",
      "metadata": {
        "id": "FBrYKZzw2eIv",
        "outputId": "fc58b94e-f941-4f0b-ef35-498f962cef1f"
      },
      "source": [
        "X_new = np.array([[-0.5, 0], [0, 0.5], [1, -0.1], [2, 1]])\n",
        "knn.predict(X_new)"
      ],
      "execution_count": null,
      "outputs": [
        {
          "output_type": "execute_result",
          "data": {
            "text/plain": [
              "array([1, 0, 1, 0], dtype=int64)"
            ]
          },
          "metadata": {
            "tags": []
          },
          "execution_count": 162
        }
      ]
    },
    {
      "cell_type": "code",
      "metadata": {
        "id": "Gea1cJrN2eIv",
        "outputId": "d63d6a85-b768-49c1-d99f-b2c8e67b6497"
      },
      "source": [
        "knn.predict_proba(X_new)"
      ],
      "execution_count": null,
      "outputs": [
        {
          "output_type": "execute_result",
          "data": {
            "text/plain": [
              "array([[0.22, 0.78],\n",
              "       [1.  , 0.  ],\n",
              "       [0.16, 0.84],\n",
              "       [1.  , 0.  ]])"
            ]
          },
          "metadata": {
            "tags": []
          },
          "execution_count": 163
        }
      ]
    },
    {
      "cell_type": "markdown",
      "metadata": {
        "id": "m8b8yz7q2eIw"
      },
      "source": [
        "It is fairly straight-forward to introduce a maximum distance, in which case th two instances that are far away from both cluster are classified as anomalities. To do this use the `kneighbors()` method of the `KNeighborsClassifier`.\n",
        "\n",
        "#### `kneighbors()`\n",
        "Given a set of instances, it returns <mark>the distances</mark> and the <mark>indices of the $k$ nearest neighbors</mark> in the training set ( two matrices, each with $k$ columns)"
      ]
    },
    {
      "cell_type": "code",
      "metadata": {
        "id": "x1cU2LQD2eIw",
        "outputId": "8c8a1202-f90d-451d-f2c6-24e7104a4df8"
      },
      "source": [
        "y_dist, y_pred_idx = knn.kneighbors(X_new, n_neighbors=1)\n",
        "y_pred = dbscan.labels_[y_pred_idx]\n",
        "y_pred[y_dist > 0.2] = -1\n",
        "y_pred.ravel()"
      ],
      "execution_count": null,
      "outputs": [
        {
          "output_type": "execute_result",
          "data": {
            "text/plain": [
              "array([-1,  0,  1, -1], dtype=int64)"
            ]
          },
          "metadata": {
            "tags": []
          },
          "execution_count": 168
        }
      ]
    },
    {
      "cell_type": "code",
      "metadata": {
        "id": "Q523QtGO2eIw",
        "outputId": "c3077f27-403f-4401-abd2-92bd835113fb"
      },
      "source": [
        "dbscan.labels_[y_pred_ids]"
      ],
      "execution_count": null,
      "outputs": [
        {
          "output_type": "execute_result",
          "data": {
            "text/plain": [
              "array([[1],\n",
              "       [0],\n",
              "       [1],\n",
              "       [0]], dtype=int64)"
            ]
          },
          "metadata": {
            "tags": []
          },
          "execution_count": 166
        }
      ]
    },
    {
      "cell_type": "code",
      "metadata": {
        "id": "JPU_xqQ12eIx",
        "outputId": "cef0192f-f70e-45fd-9505-96e4d172bc15"
      },
      "source": [
        "y_dist"
      ],
      "execution_count": null,
      "outputs": [
        {
          "output_type": "execute_result",
          "data": {
            "text/plain": [
              "array([[0.41504532],\n",
              "       [0.02679622],\n",
              "       [0.06301139],\n",
              "       [0.4523157 ]])"
            ]
          },
          "metadata": {
            "tags": []
          },
          "execution_count": 167
        }
      ]
    },
    {
      "cell_type": "markdown",
      "metadata": {
        "id": "NRtpW-Yw2eIx"
      },
      "source": [
        "# Gaussian Mixtures\n",
        "A *Gaussian mixture model (GMM)* is a probalistic model that assumes that instances were generated from a mixture of several gaussian distribution whose parameters are unknown.\n",
        "\n",
        "All the instances generated from a single Gaussian distribution form a cluster that typically looks like an ellipsoid.\n",
        "\n",
        "The dataset $X$ is assumed to have generated through the following probablistic process:\n",
        "- For each instance, a cluster is picked randomly from among $k$ clusters. The probability of choosing the $j^{th}$ cluster is defined by the cluster's weight, $\\phi^{(j)}$. The <mark>index of the cluster chosen for the $i^{th}$ instance</mark> is noted <mark>$z^{(i)}$</mark>.\n",
        "- If $z^{(i)}=j$, meaning the $i^{(th)}$ instance has been assigned to the $j^{th}$ cluster, the location $x^{(i)}$ of the this instance is sampled randomly from the Gaussian distribution with <mark>mean $\\mu^{(j)}$</mark> and <mark>covariance matrix $\\Sigma^{(j)}$</mark>. This is noted $x^{(i)}\\sim\\mathbb{N}\\big(\\mu^{(j)},\\Sigma^{(j)}\\big)$.\n",
        "\n",
        "Given the dataset $X$, you typically want to start by estimating the weights $\\phi$ and all the distribution parameters $\\mu^{(1)}$ to $\\mu^{(k)}$ and $\\Sigma^{(1)}$ to $\\Sigma^{(k)}$."
      ]
    },
    {
      "cell_type": "code",
      "metadata": {
        "id": "pV5Cor4B2eIx",
        "outputId": "18c3a5b2-fd72-4ae4-a533-b45dc0c3c8b8"
      },
      "source": [
        "from sklearn.mixture import GaussianMixture\n",
        "\n",
        "gm = GaussianMixture(n_components=3, n_init=20)\n",
        "gm.fit(X) # make_moons X, y"
      ],
      "execution_count": null,
      "outputs": [
        {
          "output_type": "execute_result",
          "data": {
            "text/plain": [
              "GaussianMixture(n_components=3, n_init=20)"
            ]
          },
          "metadata": {
            "tags": []
          },
          "execution_count": 174
        }
      ]
    },
    {
      "cell_type": "code",
      "metadata": {
        "id": "Via3BK3Z2eIx",
        "outputId": "d0352899-9ceb-4828-ec2f-4b95790ba19f"
      },
      "source": [
        "gm.weights_"
      ],
      "execution_count": null,
      "outputs": [
        {
          "output_type": "execute_result",
          "data": {
            "text/plain": [
              "array([0.20476003, 0.59847658, 0.19676339])"
            ]
          },
          "metadata": {
            "tags": []
          },
          "execution_count": 175
        }
      ]
    },
    {
      "cell_type": "code",
      "metadata": {
        "id": "rQWEfw7x2eIx",
        "outputId": "335d2a07-1166-46a6-d727-0922694a2419"
      },
      "source": [
        "gm.means_"
      ],
      "execution_count": null,
      "outputs": [
        {
          "output_type": "execute_result",
          "data": {
            "text/plain": [
              "array([[ 1.74474552, -0.05883205],\n",
              "       [ 0.49305738,  0.25386019],\n",
              "       [-0.75816959,  0.54931737]])"
            ]
          },
          "metadata": {
            "tags": []
          },
          "execution_count": 176
        }
      ]
    },
    {
      "cell_type": "code",
      "metadata": {
        "id": "eevMS44q2eIy",
        "outputId": "438d2ba6-c28f-4938-93a1-0cf4cd8b69f2"
      },
      "source": [
        "gm.covariances_"
      ],
      "execution_count": null,
      "outputs": [
        {
          "output_type": "execute_result",
          "data": {
            "text/plain": [
              "array([[[ 0.05256283,  0.06189112],\n",
              "        [ 0.06189112,  0.08790778]],\n",
              "\n",
              "       [[ 0.17459153, -0.10810368],\n",
              "        [-0.10810368,  0.28926303]],\n",
              "\n",
              "       [[ 0.04836583,  0.05741549],\n",
              "        [ 0.05741549,  0.08392983]]])"
            ]
          },
          "metadata": {
            "tags": []
          },
          "execution_count": 177
        }
      ]
    },
    {
      "cell_type": "markdown",
      "metadata": {
        "id": "dkduQdpK2eIy"
      },
      "source": [
        "This class relies on *Expectation-Maximization* (EM) algoithm, which has many similarties with K-Means.\n",
        "\n",
        "It also initizes the cluster parameters randomly, then it repeats two steps until convergence,\n",
        "- first assigning instances to the clusters (this is called <mark>*maximization step*</mark>\n",
        "- Then updating the clusters (This is called <mark>*maximization step*</mark>.\n",
        "\n",
        "Think of EM as the generalization of K-Means that not only finds the <mark>cluster centers ($\\mu^{(1)}$ to $\\mu^{(k)}$)</mark>, but also their <mark>size, shape and orientation ($\\Sigma^{(1)}$ to $\\Sigma^{(k)}$)</mark>, as well as their <mark>relative weights ($\\phi^{(1)}$ to $\\phi^{(k)}$)</mark>.\n",
        "\n",
        "Though, EM uses **soft cluster assignments**, not hard assignments.\n",
        "\n",
        "For each instance, during the expectation step, the algorithm estimates the probablity that it belongs to each cluster (based on current cluster parameters). Then, during the maximization step, each cluster is updated using ***all*** the instances in the dataset, with each instance weighted by the estimated probability that it belongs to that cluster. These probabilities are called *responsibilities* of the clusters for the instances.\n",
        "\n",
        "Unfortunately, just like K-Means, EM can end up converging to poor soltions, so it needs to run several time, so set `n_init` parameter to something useful, By default it is 1."
      ]
    },
    {
      "cell_type": "code",
      "metadata": {
        "id": "RvFIrUYW2eIy",
        "outputId": "11d7c298-dd73-4ea3-8cec-a5b526c60c67"
      },
      "source": [
        "# You can check whether or not the algorithm converge\n",
        "gm.converged_"
      ],
      "execution_count": null,
      "outputs": [
        {
          "output_type": "execute_result",
          "data": {
            "text/plain": [
              "True"
            ]
          },
          "metadata": {
            "tags": []
          },
          "execution_count": 178
        }
      ]
    },
    {
      "cell_type": "code",
      "metadata": {
        "id": "zr3QwqgQ2eIy",
        "outputId": "26978f50-1df9-4cd5-ae20-0f16f2df955d"
      },
      "source": [
        "# and how many iterations it took\n",
        "gm.n_iter_"
      ],
      "execution_count": null,
      "outputs": [
        {
          "output_type": "execute_result",
          "data": {
            "text/plain": [
              "18"
            ]
          },
          "metadata": {
            "tags": []
          },
          "execution_count": 180
        }
      ]
    },
    {
      "cell_type": "markdown",
      "metadata": {
        "id": "1G7AWaDa2eIz"
      },
      "source": [
        "#### Hard clustering\n",
        "The model can easily assign each instance to the most likely cluster; use `predict()`\n",
        "\n",
        "#### Soft Clustering\n",
        "Or estimate the probability that it belongs to particular cluster; use `predict_proba()`."
      ]
    },
    {
      "cell_type": "code",
      "metadata": {
        "scrolled": true,
        "id": "xqcfP3Pe2eIz",
        "outputId": "48d66945-607f-4f09-dd18-32b162e8221f"
      },
      "source": [
        "gm.predict(X)[:10]"
      ],
      "execution_count": null,
      "outputs": [
        {
          "output_type": "execute_result",
          "data": {
            "text/plain": [
              "array([1, 1, 1, 0, 0, 1, 1, 0, 2, 1], dtype=int64)"
            ]
          },
          "metadata": {
            "tags": []
          },
          "execution_count": 182
        }
      ]
    },
    {
      "cell_type": "code",
      "metadata": {
        "id": "6006KPO82eIz",
        "outputId": "8fcd3e3e-e205-410a-cf07-f07f4f806c66"
      },
      "source": [
        "gm.predict_proba(X)[:10]"
      ],
      "execution_count": null,
      "outputs": [
        {
          "output_type": "execute_result",
          "data": {
            "text/plain": [
              "array([[2.62698484e-053, 1.00000000e+000, 3.92581972e-050],\n",
              "       [2.33934144e-097, 1.00000000e+000, 2.95744190e-020],\n",
              "       [1.57411772e-091, 1.00000000e+000, 8.22485851e-025],\n",
              "       [9.99304221e-001, 6.95779148e-004, 9.48497210e-211],\n",
              "       [9.99697811e-001, 3.02189156e-004, 1.89278201e-194],\n",
              "       [2.11141126e-019, 1.00000000e+000, 7.14879509e-099],\n",
              "       [2.57553137e-057, 1.00000000e+000, 2.91045341e-046],\n",
              "       [5.42374379e-001, 4.57625621e-001, 1.40316504e-179],\n",
              "       [1.15142755e-219, 1.65098646e-003, 9.98349014e-001],\n",
              "       [1.85849654e-126, 1.00000000e+000, 3.02799402e-011]])"
            ]
          },
          "metadata": {
            "tags": []
          },
          "execution_count": 183
        }
      ]
    },
    {
      "cell_type": "markdown",
      "metadata": {
        "id": "JAyMc8HE2eI0"
      },
      "source": [
        "A Gaussian mixture model is a *generative model*, meaning you can sample new instances from it (ordered by cluster index)"
      ]
    },
    {
      "cell_type": "code",
      "metadata": {
        "id": "ysyeQsOF2eI0",
        "outputId": "8c4486d6-adeb-499b-fa40-7ca9ef7a8cd4"
      },
      "source": [
        "X_new, y_new = gm.sample(6)\n",
        "X_new"
      ],
      "execution_count": null,
      "outputs": [
        {
          "output_type": "execute_result",
          "data": {
            "text/plain": [
              "array([[ 1.95119037, -0.04384021],\n",
              "       [ 1.68188266, -0.16589932],\n",
              "       [ 1.03139366,  0.22899897],\n",
              "       [ 0.08308128,  0.36716165],\n",
              "       [ 0.43689003, -0.21646465],\n",
              "       [-0.89260989,  0.60995892]])"
            ]
          },
          "metadata": {
            "tags": []
          },
          "execution_count": 184
        }
      ]
    },
    {
      "cell_type": "markdown",
      "metadata": {
        "id": "_teFLIYE2eI0"
      },
      "source": [
        "`score_samples()` for each instance it is given this method estimates the <mark>log of *probability density function* (PDF)</mark>.\n",
        "\n",
        "If you compute the exponential of these score, you get the value of the PDF at the location of the given instances."
      ]
    },
    {
      "cell_type": "code",
      "metadata": {
        "id": "YSgK9tCc2eI0",
        "outputId": "5a9d9410-4084-4c11-d8e6-5814ac48e78b"
      },
      "source": [
        "gm.score_samples(X)[:10]"
      ],
      "execution_count": null,
      "outputs": [
        {
          "output_type": "execute_result",
          "data": {
            "text/plain": [
              "array([-1.55795594, -1.85871679, -1.5450052 , -0.04990167, -1.19724765,\n",
              "       -1.44454056, -1.85594373, -1.9069014 , -0.18579111, -1.56626303])"
            ]
          },
          "metadata": {
            "tags": []
          },
          "execution_count": 186
        }
      ]
    },
    {
      "cell_type": "markdown",
      "metadata": {
        "id": "JdNHZN762eI1"
      },
      "source": [
        "#### Unfortunately real-life data is not always so Gaussian and low-dimensional\n",
        "Wm can struggle to converge, so reduce the difficulty of the task by limiting the number of parameters that the algorithm has to learn.\n",
        "- Limit the range of shapes and orientations that the cluster can have\n",
        "  - Impose contraints on the covariance matrices. Set `covariance_type` hyperparameter to one these values:\n",
        "    \n",
        "     - `\"spherical\"`: <mark>All cluster must be spherical</mark>, but they can have different diameters.(i.e., <mark>different variances</mark>)\n",
        "     - `\"diag\"`: Clusters can take <mark>any ellipsoidal shape of any size</mark>, but the ellipsoid's axes must be parallel to the coordinate axes (i.e., <mark>the covariance matrices must be diagonal</mark>)\n",
        "     - `\"tied\"`: All clusters must have the <mark>same ellipsoidal shape</mark>, size, and orientation (i.e., <mark>all clusters share the same covariance matrix</mark>)\n",
        "     \n",
        "By default, `covariance_type` is equal to `\"full\"`, i.e., clusters can take any shape, size, and orientation.\n",
        "\n",
        "The computational complexity of training a `GaussianMixture` model depends on number of instances $m$, number of dimensions $n$, number of clusters $k$ and the contraints on the covariance matrices.\n",
        "\n",
        "|| Computational Complexity|\n",
        "|---|---|\n",
        "|If `covariance_type` is `\"spherical\"` or `\"diag\"` | $O(kmn)$\n",
        "|If `covariance_type` is `\"tied\"` or `\"full\"` | $O(kmn^2+kn^2)$"
      ]
    },
    {
      "cell_type": "markdown",
      "metadata": {
        "id": "WnplYZVo2eI1"
      },
      "source": [
        "## Anomaly Detection Using Gaussian Mixtures\n",
        "*Anomaly detection* (as called *outlier detection*) is the task of detecting instances that deviate strongly from the norm.\n",
        "This instances are calles *anomalies*, or *outliers*. Normal instances are called *inliers*.\n",
        "\n",
        "**You must define what density threshold you want to use**.\n",
        "\n",
        "|||\n",
        "|---|---|\n",
        "|Too many False Positives| **Lower the Threshold**|\n",
        "|Too many False Negatives| **Increase the Threshold**|\n",
        "\n",
        "Here is how you would identify the outliers using the forth percentile lowest density as the threshold (i.e., approximately 4% of the instances will be flagged as anomalities)"
      ]
    },
    {
      "cell_type": "code",
      "metadata": {
        "id": "eJGsvbMX2eI1"
      },
      "source": [
        "densities = gm.score_samples(X)\n",
        "density_threshold = np.percentile(densities, 4)\n",
        "anomalies = X[densities < density_threshold]"
      ],
      "execution_count": null,
      "outputs": []
    },
    {
      "cell_type": "code",
      "metadata": {
        "id": "t4fkrP2M2eI1",
        "outputId": "9dc85c87-fee3-4ca3-9061-4d500f553009"
      },
      "source": [
        "density_threshold"
      ],
      "execution_count": null,
      "outputs": [
        {
          "output_type": "execute_result",
          "data": {
            "text/plain": [
              "-2.207307615275526"
            ]
          },
          "metadata": {
            "tags": []
          },
          "execution_count": 189
        }
      ]
    },
    {
      "cell_type": "markdown",
      "metadata": {
        "id": "t5pk_v0W2eI1"
      },
      "source": [
        "Gaussian Mixture models try to fit all the data, including the outliers, so if you have many of them, it will bias the model's view of \"normality\". If this happens try:\n",
        "- Try to fit the model once, use it to detect and remove the most extreme outliers, then fit the model again on the cleaned dataset.\n",
        "- Use robust covariance estimation methods (see the `EllipticEnvelope` class)"
      ]
    },
    {
      "cell_type": "markdown",
      "metadata": {
        "id": "c-4v8yIu2eI2"
      },
      "source": [
        "## Selecting the Number of Clusters\n",
        "Inertia and silhouette score are not possible to use beacuse they are not reliable when the clusters are not spherical or have different sizes. Instead you try to find the model that <mark>**minimizes** a *theoretical information criterion*</mark>, such as ***Bayesian Information Criterion*** (BIC) or the ***Akaike Information Criterion*** (AIC)\n",
        "\n",
        "$$BIC = log(m)p - 2 log (\\hat{L})$$\n",
        "\n",
        "$$AIC = 2p - 2 log(\\hat{L})$$\n",
        "\n",
        "In these equations:\n",
        "- $m$ is the number of instances, as always\n",
        "- $p$ is the number of parameters learned by the model\n",
        "- $\\hat{L}$ is the maximised value of the *likelihood function* of the model.\n",
        "\n",
        "Both BIC and AIC penalize the model having more parameters to learn and reward models that fit the data well, often select the same model. When they differ, the model selected by the BIC tends to be simpler(few parameters) than the one selected by the AIC, but tends to not fit the data quite as well (especially true for larger datasets)"
      ]
    },
    {
      "cell_type": "markdown",
      "metadata": {
        "id": "R_FtNfek2eI2"
      },
      "source": [
        "### Likelihood Function\n",
        "Given a statistical model with parameters $\\theta$,\n",
        "- **\"Probability\"**: how plausible a future outcome $x$ is, given the parameter values $\\theta$\n",
        "- **\"Likelihood\"** : how plausible a particular set of parameter values $\\theta$ are, given the outcome $x$ is known."
      ]
    },
    {
      "cell_type": "code",
      "metadata": {
        "id": "18qOwCCm2eI2",
        "outputId": "72e86678-8c17-480b-a62b-00b1336db158"
      },
      "source": [
        "gm.bic(X)"
      ],
      "execution_count": null,
      "outputs": [
        {
          "output_type": "execute_result",
          "data": {
            "text/plain": [
              "2748.208558173653"
            ]
          },
          "metadata": {
            "tags": []
          },
          "execution_count": 191
        }
      ]
    },
    {
      "cell_type": "code",
      "metadata": {
        "id": "oeQ3QOso2eI2",
        "outputId": "3464e875-bf1f-4633-dbb4-6919f19fdc85"
      },
      "source": [
        "gm.aic(X)"
      ],
      "execution_count": null,
      "outputs": [
        {
          "output_type": "execute_result",
          "data": {
            "text/plain": [
              "2664.7767184309564"
            ]
          },
          "metadata": {
            "tags": []
          },
          "execution_count": 192
        }
      ]
    },
    {
      "cell_type": "markdown",
      "metadata": {
        "id": "6Zim3eQ12eI2"
      },
      "source": [
        "## Bayesian Gaussian Mixture Models\n",
        "`BayeianGaussianMixture` capable of giving weights equal (or close) to zero to unnecessay clusters.\n",
        "\n",
        "Set the number of clusters `n_components` to a value that you have good reason to believe is greater than the optimal number of clusters."
      ]
    },
    {
      "cell_type": "code",
      "metadata": {
        "id": "gyOmZSs02eI2",
        "outputId": "e6ea0366-6e32-4cfb-f1b2-f224c00175c8"
      },
      "source": [
        "import numpy as np\n",
        "from sklearn.mixture import BayesianGaussianMixture\n",
        "\n",
        "bgm = BayesianGaussianMixture(n_components=10, n_init=10)\n",
        "bgm.fit(X)\n",
        "np.round(bgm.weights_, 2)"
      ],
      "execution_count": null,
      "outputs": [
        {
          "output_type": "execute_result",
          "data": {
            "text/plain": [
              "array([0.13, 0.15, 0.12, 0.12, 0.12, 0.15, 0.11, 0.  , 0.11, 0.  ])"
            ]
          },
          "metadata": {
            "tags": []
          },
          "execution_count": 3
        }
      ]
    },
    {
      "cell_type": "markdown",
      "metadata": {
        "id": "p2bHsWHg2eI3"
      },
      "source": [
        "In this model, the cluster parameters (including the weights, means, and covaraince matrices) are not treated as fixed model parameters anymore, but as a latent random variables, like the cluster assignments. So $z$ now includes both the cluster parameters and the cluster assignments.\n",
        "\n",
        "The Beta distribution is commonly used to model random variables whose values lie within a fixed range. In this case, the range is from 0 to 1. The **Stick Breaking Process** (SBP) is best explained through an example: Suppose $\\Phi$=[0.3,06,0.5], then 30% of the remaining instances will be assigned to cluster 0, 60 % of the instances to cluster 1, and then the 50% of the remaining instances will be assigned to cluster 2, and so on.<mark> This process is a good model for datasets where new instances are more likely to join clusters than small clusters</mark> (e.g., people are more likely to moveto larger cities).\n",
        "    \n",
        "||||\n",
        "|---|---|---|\n",
        "|if concentration $\\alpha$ is **high**  |  $\\phi$ values likely close to 0  |  SBP generate **many clusters**|\n",
        "|if concentration $\\alpha$ is **low**  |  $\\phi$ values likely close to 1  |  SBP generate **few clusters**|\n",
        " \n",
        "The Wishart Distribution is used to sample covariance matrices: the parameters $d$ and $V$ control the distribution of cluster shapes.\n",
        "\n",
        "Prior Knowledge about the latent variables $z$ can be encoded in a probability distribution $p(z)$ called the *prior*. This prior belief that the number of clusters can be adjusted using the `weight_concentration_prior` hyperparameter. <mark>The more data we have, however, the less the priors matter.\n",
        "- For example, we may have a prior belief that the clusters are likely to be few (low concentration) or, conversely, that the clusters are likely to be plentiful (high concentration).\n",
        "    \n",
        "Bayes' Theorem computes the *posterior* distribution $p(z|X)$ which is the conditional probability of $z$ given $X$. It tell how to update the probability distribution over the latent varaibles after we observe some data $X$.\n",
        "$$p(z|X)\\;=\\; posterior\\; =\\;\\frac{likelihood\\; \\times\\; prior}{evidence}\\;=\\;\\frac{p(X|z)\\;p(z)}{p(X)}$$\n",
        "    \n",
        "Unfortunately, in a Gaussian mixture model (and many other problems), the denominator $p(x)$ is intractable, as it requires integrating over all the possible values of $z$, which would require considering all possible combinations of cluster parameter and cluster assignments.\n",
        "$$p\\big{(}X\\big{)}\\;=\\;\\int{p(X|z)\\;p(z)dz}$$\n",
        "    \n",
        "To solve this, one of the approaches is **variational inference**, which picks a family of distribution $q(z;\\>\\lambda)$ with its own *variational parameters* $\\lambda$, then optimizes these paramters to make $q(z)$ a good approximation of $p(z|X)$.\n",
        "- This is achieved by finding the value of $\\lambda$ that minimizes the KL divergencefrom $q(z)$ to $p(z|X)$, noted $D_{KL}(q\\parallel p)$, it can be rewritten as the log of the evidence ($log\\;p(X)$ minus **Evidence lower Bound (ELBO)**\n",
        "    \n",
        "Since the log of the evidence does not depend on $q$, it is constant term, so minimizing the KL divergence just requires maximising the ELBO.\n",
        "\n",
        "*Equation. 9-4. KL diverge from $q(z)$ to $p(z|X)$*\n",
        "\n",
        "$D_{KL(q\\parallel p}=\\mathbb{E}\\bigg[log \\frac{q(z)}{p(z\\mid X}\\bigg]$"
      ]
    },
    {
      "cell_type": "code",
      "metadata": {
        "id": "xKCAefdE2eI3"
      },
      "source": [
        ""
      ],
      "execution_count": null,
      "outputs": []
    },
    {
      "cell_type": "code",
      "metadata": {
        "id": "jx44uGHw2eI3"
      },
      "source": [
        ""
      ],
      "execution_count": null,
      "outputs": []
    },
    {
      "cell_type": "code",
      "metadata": {
        "id": "8d1aVN9Q2eI3"
      },
      "source": [
        ""
      ],
      "execution_count": null,
      "outputs": []
    },
    {
      "cell_type": "code",
      "metadata": {
        "id": "1PUTxxKx2eI3"
      },
      "source": [
        ""
      ],
      "execution_count": null,
      "outputs": []
    },
    {
      "cell_type": "code",
      "metadata": {
        "id": "6jw3yaIN2eI3"
      },
      "source": [
        ""
      ],
      "execution_count": null,
      "outputs": []
    },
    {
      "cell_type": "code",
      "metadata": {
        "id": "_DC0W2co2eI3"
      },
      "source": [
        ""
      ],
      "execution_count": null,
      "outputs": []
    },
    {
      "cell_type": "code",
      "metadata": {
        "id": "Awhj9Lqu2eI4"
      },
      "source": [
        ""
      ],
      "execution_count": null,
      "outputs": []
    },
    {
      "cell_type": "code",
      "metadata": {
        "id": "PD8mr9HA2eI4"
      },
      "source": [
        ""
      ],
      "execution_count": null,
      "outputs": []
    },
    {
      "cell_type": "code",
      "metadata": {
        "id": "wpjPy6iX2eI4"
      },
      "source": [
        ""
      ],
      "execution_count": null,
      "outputs": []
    },
    {
      "cell_type": "code",
      "metadata": {
        "id": "zLNo02872eI4"
      },
      "source": [
        ""
      ],
      "execution_count": null,
      "outputs": []
    },
    {
      "cell_type": "code",
      "metadata": {
        "id": "cebz2Ert2eI4"
      },
      "source": [
        ""
      ],
      "execution_count": null,
      "outputs": []
    },
    {
      "cell_type": "code",
      "metadata": {
        "id": "1HomFLyj2eI4"
      },
      "source": [
        ""
      ],
      "execution_count": null,
      "outputs": []
    },
    {
      "cell_type": "code",
      "metadata": {
        "id": "NLDkKQYr2eI4"
      },
      "source": [
        ""
      ],
      "execution_count": null,
      "outputs": []
    }
  ]
}